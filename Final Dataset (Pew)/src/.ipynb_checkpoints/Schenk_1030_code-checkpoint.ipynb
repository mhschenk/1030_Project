{
 "cells": [
  {
   "cell_type": "markdown",
   "metadata": {},
   "source": [
    "Marie Schenk\n",
    "\n",
    "First Draft: 9/24/2019\n",
    "\n",
    "# Describe the problem you want to solve.\n",
    "\n",
    "Who uses social media to post about politics? Is there significant geographic variation in rates of posting about politics? Are people more likely to post about politics in the context of highly competitive political races, or are general demographic characteristics like age and education more predictive? \n",
    "\n",
    "The target variable is actually four variables, which I intend to collapse into an index. They are related questions about activity on social media related to political content. They ask, have you (1) posted a story, photo, video, or link about politics; (2) posted a comment about politics; (3) read a story or watched a video about politics; (4) followed a political event; (5) forwarded a story, photo, video, or link about politics to friends? I will have to perform some additional exploratory analysis before deciding exactly how to collapse these. Unsurprisingly, many more people have read a political story than have posted their own political content, so it may be necessary to separate that subquestion.\n",
    "\n",
    "This could be a regression or a classification problem, depending on how I recode the target variable. If I make it a dummy variable (respondent did any of those activities), it will be a classification problem. If I make it a scale (how many of these activities respondent did), it will be a regression problem. How I code it will depend on how many people have done just one of the activities. If most people have done all of the activities, I will make it a dummy variable, because the variation in the scale will not be very meaningful. \n",
    "\n",
    "This project relates to my dissertation in political science, which is about how online spaces convened for non-political purposes become politicized. I am looking at this in the context of what Jane Mansbridge calls \"everyday political talk.\" Everyday talk may not be overtly political, in that it does not name public policies or political institutions, but nevertheless address issues that impact public life. Everyday talk and public deliberation have been a topic of interest for political scientists for years, but most work focuses on spaces such as cafes or public meetings, not virtual spaces. The advent of social media has dramatically changed the structure of public life; many of the activities that used to occur in public spaces, such as coffee shops, now take place in virtual spaces, like Twitter threads. This project contributes to the larger project of my dissertation by helping me understand if online discussions are similar to other, more widely studied forms of political engagement. It is well established in political science, for example, that people who vote tend to be older and more highly educated than average. We also know that voting rates go up when highly visible, highly competitive elections are taking place, although the mechanism for that is somewhat unclear. In what ways is talking about politics online similar to voting, and in what ways is it different? This will help me create expectations for my future work, based on what existing theories I think are most likely to apply to online political discussions. Since online discussion is an understudied aspect of political life, understanding how it compares to better understood phenomena is a valuable starting point.\n",
    "\n",
    "I am particularly interested in exploring the differences between a data-science approach to answering this question and a political science approach. As a conclusion to this paper, I would like to reflect upon methodology, in addition to my findings. Since I have subject-area knowledge about politics, I would like to bring it to bear by framing the discussion in this way.\n",
    " "
   ]
  },
  {
   "cell_type": "markdown",
   "metadata": {},
   "source": [
    "# Describe the dataset.\n",
    "\n",
    "The Cooperative Congressional Election Study, or CCES, has been conducted annually since 2006. The survey has a unique design. One portion, called the Common Content, is asked of every person who takes the survey. The Common Content consists of questions that are of broad interest to social scientists studying political phenomena, including demographic information, respondent's party identification, and political knowledge. It also includes verified voter information. Using a commercial service called Catalist, the CCES matches respondents to public voter file data. This is especially important because voting is a socially desirable activity, and people may lie on a survey and say they voted, because they know it is a good thing, when in fact they did not. In addition to the Common Content, teams of researchers across the country can put their own modules on the survey. These questions are asked to a subset of 1,000 survey respondents. This design gives many researchers the opportunity to ask their questions to a sufficiently large survey to produce a nationally representative sample. The much larger number of respondents who receive the Common Content questions allows for a sample that is not only nationally representative, but also representative of smaller geographic units, allowing more precise study of Congressional races. \n",
    "\n",
    "The dataset I am using is the Common Content from the 2018 round of the CCES. There are 524 variables and 60,000 observations in this data file. The 2018 Common Content is well described in the guide available for download on the Harvard Dataverse: https://dataverse.harvard.edu/dataset.xhtml?persistentId=doi%3A10.7910/DVN/ZSBZ7K. \n",
    "\n",
    "The CCES is a commonly used datasource in political science, espeically for work that requires a representative sample of a geographic area smaller than the whole country. Alexander Hertel-Fernandez, Matto Mildenberger, and Leah C. Stokes (2019) use questions about opinions on policy issues from the 2016 CCES to assess public opinion in various legislative districts. They compare these results to a second, specialized survey they conducted of legislative staffers, to see if the staffers had an accurate understanding of the opinions and needs of the consituents in their district. Danny Hayes and Jennifer Lawless (2015) merge 2010 CCES data on respondents' political knowledge with their own data on the availability of local newspapers. They use several items from the CCES, including questions that ask the respondent to rank the quality of their House candidate, describe the ideological position of the Democratic and Republican candidates running for House in their district, and whether the respondent plans to vote in the upcoming House election. They find that democratic engagement, as measured by these items, declines in districts with uncompetitive races and without robust local news coverage.\n",
    "\n",
    "There are many other political science publications that make use of the CCES. These are particularly good examples because they exploit the facet of the survey that is most unique--the ability to study public opinion in individual Congressional districts. I also plan to use the survey to its greatest advantage by looking at geographic variation in the way people engage with politics online. "
   ]
  },
  {
   "cell_type": "markdown",
   "metadata": {},
   "source": [
    "# Preprocess the dataset."
   ]
  },
  {
   "cell_type": "markdown",
   "metadata": {},
   "source": [
    "Note: I familiarized myself with the dataset by reading through the codebook and documentation. I hit a snag when loading the dataset in and I would like to discuss strategies for preprocessing a dataset of this size. "
   ]
  },
  {
   "cell_type": "code",
   "execution_count": 2,
   "metadata": {},
   "outputs": [
    {
     "name": "stdout",
     "output_type": "stream",
     "text": [
      "(60000, 524)\n"
     ]
    }
   ],
   "source": [
    "import pandas as pd\n",
    "df = pd.read_csv('CCES_2018.csv', low_memory=False)\n",
    "\n",
    "print(df.shape) "
   ]
  },
  {
   "cell_type": "code",
   "execution_count": 3,
   "metadata": {},
   "outputs": [
    {
     "name": "stdout",
     "output_type": "stream",
     "text": [
      "(60000, 69)\n"
     ]
    }
   ],
   "source": [
    "#create a smaller dataframe\n",
    "\n",
    "df1 = df[['CC18_300d_1', 'CC18_300d_2', 'CC18_300d_3', 'CC18_300d_4', 'CC18_300d_5', 'birthyr', 'CC18_417c', 'educ', 'ideo5', 'newsint', 'faminc_new', 'pid3', 'gender', 'sexuality', 'trans', 'votereg', 'race', 'hispanic', 'employ', 'internethome', 'internetwork', 'votereg_post', 'votereg_f_post','CC18_300_1', 'CC18_300_2', 'CC18_300_3', 'CC18_300_4', 'CC18_300_5', 'CC18_300_6', 'CC18_300b', 'CC18_300c', 'CC18_309a', 'CC18_309b', 'CC18_309c', 'CC18_309d', 'CC18_310a', 'CC18_310b', 'CC18_310c', 'CC18_310d', 'CC18_316', 'CC18_317', 'CC18_318a', 'CC18_350', 'CC18_401', 'CC18_417a_1', 'CC18_417a_2', 'CC18_417a_3', 'CC18_417a_4', 'CC18_417a_5', 'CC18_417a_6', 'CC18_417a_7', 'CC18_417a_8', 'CC18_418a', 'CC18_417b_1', 'CC18_417b_2', 'CC18_417b_3', 'CC18_417b_4', 'CC18_417b_5', 'CC18_417b_6', 'CC18_417b_7', 'CC18_417b_8', 'CC18_417b_9', 'CL_matched', 'CL_voter_status', 'CL_state', 'CL_party', 'CL_2018gvm', 'CL_2018pep', 'CL_2018pvm']]\n",
    "\n",
    "print(df1.shape) #great. much more manageable"
   ]
  },
  {
   "cell_type": "markdown",
   "metadata": {},
   "source": [
    "Target Variable:\n",
    "    \n",
    "    Social media:\n",
    "    CC18_300d_1\n",
    "    CC18_300d_2\n",
    "    CC18_300d_3\n",
    "    CC18_300d_4\n",
    "    CC18_300d_5"
   ]
  },
  {
   "cell_type": "markdown",
   "metadata": {},
   "source": [
    "Additional variables of interest:\n",
    "\n",
    "Demographics: \n",
    "    birthyr\n",
    "    gender\n",
    "    sexuality\n",
    "    trans\n",
    "    educ\n",
    "    votereg\n",
    "    race\n",
    "    hispanic\n",
    "    employ\n",
    "    internethome\n",
    "    internetwork\n",
    "    pid3\n",
    "    ideo5\n",
    "    newsint\n",
    "    faminc_new\n",
    "    votereg_post\n",
    "    voteret_f_post\n",
    "    birthyr_post\n",
    "    \n",
    "Media use:\n",
    "    CC18_300_1\n",
    "    CC18_300_2\n",
    "    CC18_300_3\n",
    "    CC18_300_4\n",
    "    CC18_300_5\n",
    "    CC18_300_6\n",
    "    CC18_300b\n",
    "    CC18_300c\n",
    "   \n",
    " \n",
    " \n",
    "Political knowledge:\n",
    "    CC18_309a\n",
    "    CC18_309b\n",
    "    CC18_309c\n",
    "    CC18_309d\n",
    "    CC18_310a\n",
    "    CC18_310b\n",
    "    CC18_310c\n",
    "    CC18_310d\n",
    "    \n",
    "    \n",
    "Voting:\n",
    "    CC18_316\n",
    "    CC18_317\n",
    "    CC18_318a\n",
    "    \n",
    "Intend to vote:\n",
    "    CC18_350\n",
    "    CC18_401\n",
    "    \n",
    "Other political activity:\n",
    "    CC18_417a_1\n",
    "    CC18_417a_2\n",
    "    CC18_417a_3\n",
    "    CC18_417a_4\n",
    "    CC18_417a_5\n",
    "    CC18_417a_6\n",
    "    CC18_417a_7\n",
    "    CC18_417a_8\n",
    "    \n",
    "Donating Money:\n",
    "    CC18_417b_1\n",
    "    CC18_417b_2\n",
    "    CC18_417b_3\n",
    "    CC18_417b_4\n",
    "    CC18_417b_5\n",
    "    CC18_417b_6\n",
    "    CC18_417b_7\n",
    "    CC18_417b_8\n",
    "    CC18_417b_9\n",
    "    CC18_417c\n",
    "    \n",
    "Run for office:\n",
    "    CC18_418a\n",
    "    \n",
    "Verified voting: (there will be a lot of missing data here)\n",
    "    CL_matched\n",
    "    CL_voter_status\n",
    "    CL_state\n",
    "    CL_party\n",
    "    CL_2018gvm\n",
    "    CL_2018pep\n",
    "    CL_2018pvm\n",
    "    \n",
    "There are also contextual variables, listing the names of politicians respondent was asked about (see page 103 of codebook).\n",
    "    \n",
    "    "
   ]
  },
  {
   "cell_type": "code",
   "execution_count": 4,
   "metadata": {},
   "outputs": [
    {
     "name": "stdout",
     "output_type": "stream",
     "text": [
      "[[ 0.1733919          nan]\n",
      " [-0.55697888         nan]\n",
      " [-1.00643782         nan]\n",
      " ...\n",
      " [ 1.35322161         nan]\n",
      " [-0.61316125         nan]\n",
      " [ 1.29703924         nan]]\n"
     ]
    }
   ],
   "source": [
    "# Continuous:\n",
    "#     birthyr\n",
    "#     CC18_417c\n",
    "\n",
    "from sklearn.preprocessing import StandardScaler\n",
    "scaler = StandardScaler()\n",
    "print(scaler.fit_transform(df1[['birthyr', 'CC18_417c']]))\n"
   ]
  },
  {
   "cell_type": "code",
   "execution_count": 5,
   "metadata": {},
   "outputs": [
    {
     "data": {
      "text/plain": [
       "OrdinalEncoder(categories=[['No HS', 'High school graduate', 'Some college',\n",
       "                            '2-year', '4-year', 'Post-grad']],\n",
       "               dtype=<class 'numpy.float64'>)"
      ]
     },
     "execution_count": 5,
     "metadata": {},
     "output_type": "execute_result"
    }
   ],
   "source": [
    "# Ordinal:\n",
    "#     educ\n",
    "#     ideo5\n",
    "#     newsint\n",
    "#     faminc_new\n",
    "\n",
    "from sklearn.preprocessing import OrdinalEncoder\n",
    "\n",
    "df1.educ.unique()\n",
    "edu_cats=['No HS','High school graduate', 'Some college','2-year', '4-year', 'Post-grad']\n",
    "enc_edu = OrdinalEncoder(categories = [edu_cats])\n",
    "enc_edu.fit(df[['educ']])\n"
   ]
  },
  {
   "cell_type": "code",
   "execution_count": 6,
   "metadata": {},
   "outputs": [
    {
     "data": {
      "text/plain": [
       "array(['Not sure', 'Conservative', 'Liberal', 'Moderate',\n",
       "       'Very conservative', 'Very liberal', nan], dtype=object)"
      ]
     },
     "execution_count": 6,
     "metadata": {},
     "output_type": "execute_result"
    }
   ],
   "source": [
    "\n",
    "\n",
    "#df1['ideo5']=df1['ideo5'].replace(np.nan,'?')\n",
    "\n",
    "df1.ideo5.unique()\n"
   ]
  },
  {
   "cell_type": "code",
   "execution_count": 14,
   "metadata": {},
   "outputs": [],
   "source": [
    "from sklearn.impute import SimpleImputer\n",
    "import numpy as np\n",
    "simp_constant = SimpleImputer(fill_value='missing',\n",
    "        missing_values=np.nan, strategy='constant')\n"
   ]
  },
  {
   "cell_type": "code",
   "execution_count": 19,
   "metadata": {},
   "outputs": [
    {
     "name": "stderr",
     "output_type": "stream",
     "text": [
      "/opt/conda/lib/python3.7/site-packages/ipykernel_launcher.py:1: SettingWithCopyWarning: \n",
      "A value is trying to be set on a copy of a slice from a DataFrame.\n",
      "Try using .loc[row_indexer,col_indexer] = value instead\n",
      "\n",
      "See the caveats in the documentation: http://pandas.pydata.org/pandas-docs/stable/user_guide/indexing.html#returning-a-view-versus-a-copy\n",
      "  \"\"\"Entry point for launching an IPython kernel.\n"
     ]
    }
   ],
   "source": [
    "df1['ideo5'] = simp_constant.fit_transform(df1[['ideo5']])"
   ]
  },
  {
   "cell_type": "code",
   "execution_count": 26,
   "metadata": {},
   "outputs": [],
   "source": [
    "messing_around = df1.copy()"
   ]
  },
  {
   "cell_type": "code",
   "execution_count": 30,
   "metadata": {},
   "outputs": [],
   "source": [
    "cat_columns = ['CC18_300d_1', 'CC18_300d_2', 'CC18_300d_3', 'CC18_300d_4',\n",
    "       'CC18_300d_5', 'educ', 'ideo5', 'newsint',\n",
    "       'faminc_new', 'pid3', 'gender', 'sexuality', 'trans', 'votereg', 'race',\n",
    "       'hispanic', 'employ', 'internethome', 'internetwork', 'votereg_post',\n",
    "       'votereg_f_post', 'CC18_300_1', 'CC18_300_2', 'CC18_300_3',\n",
    "       'CC18_300_4', 'CC18_300_5', 'CC18_300_6', 'CC18_300b', 'CC18_300c',\n",
    "       'CC18_309a', 'CC18_309b', 'CC18_309c', 'CC18_309d', 'CC18_310a',\n",
    "       'CC18_310b', 'CC18_310c', 'CC18_310d', 'CC18_316', 'CC18_317',\n",
    "       'CC18_318a', 'CC18_350', 'CC18_401', 'CC18_417a_1', 'CC18_417a_2',\n",
    "       'CC18_417a_3', 'CC18_417a_4', 'CC18_417a_5', 'CC18_417a_6',\n",
    "       'CC18_417a_7', 'CC18_417a_8', 'CC18_418a', 'CC18_417b_1', 'CC18_417b_2',\n",
    "       'CC18_417b_3', 'CC18_417b_4', 'CC18_417b_5', 'CC18_417b_6',\n",
    "       'CC18_417b_7', 'CC18_417b_8', 'CC18_417b_9', 'CL_matched',\n",
    "       'CL_voter_status', 'CL_state', 'CL_party', 'CL_2018gvm', 'CL_2018pep',\n",
    "       'CL_2018pvm']"
   ]
  },
  {
   "cell_type": "code",
   "execution_count": 31,
   "metadata": {},
   "outputs": [],
   "source": [
    "for column in cat_columns:\n",
    "    messing_around[column] = simp_constant.fit_transform(messing_around[[column]])"
   ]
  },
  {
   "cell_type": "code",
   "execution_count": 34,
   "metadata": {},
   "outputs": [
    {
     "data": {
      "text/html": [
       "<div>\n",
       "<style scoped>\n",
       "    .dataframe tbody tr th:only-of-type {\n",
       "        vertical-align: middle;\n",
       "    }\n",
       "\n",
       "    .dataframe tbody tr th {\n",
       "        vertical-align: top;\n",
       "    }\n",
       "\n",
       "    .dataframe thead th {\n",
       "        text-align: right;\n",
       "    }\n",
       "</style>\n",
       "<table border=\"1\" class=\"dataframe\">\n",
       "  <thead>\n",
       "    <tr style=\"text-align: right;\">\n",
       "      <th></th>\n",
       "      <th>CC18_300d_1</th>\n",
       "      <th>CC18_300d_2</th>\n",
       "      <th>CC18_300d_3</th>\n",
       "      <th>CC18_300d_4</th>\n",
       "      <th>CC18_300d_5</th>\n",
       "      <th>birthyr</th>\n",
       "      <th>CC18_417c</th>\n",
       "      <th>educ</th>\n",
       "      <th>ideo5</th>\n",
       "      <th>newsint</th>\n",
       "      <th>...</th>\n",
       "      <th>CC18_417b_7</th>\n",
       "      <th>CC18_417b_8</th>\n",
       "      <th>CC18_417b_9</th>\n",
       "      <th>CL_matched</th>\n",
       "      <th>CL_voter_status</th>\n",
       "      <th>CL_state</th>\n",
       "      <th>CL_party</th>\n",
       "      <th>CL_2018gvm</th>\n",
       "      <th>CL_2018pep</th>\n",
       "      <th>CL_2018pvm</th>\n",
       "    </tr>\n",
       "  </thead>\n",
       "  <tbody>\n",
       "  </tbody>\n",
       "</table>\n",
       "<p>0 rows × 69 columns</p>\n",
       "</div>"
      ],
      "text/plain": [
       "Empty DataFrame\n",
       "Columns: [CC18_300d_1, CC18_300d_2, CC18_300d_3, CC18_300d_4, CC18_300d_5, birthyr, CC18_417c, educ, ideo5, newsint, faminc_new, pid3, gender, sexuality, trans, votereg, race, hispanic, employ, internethome, internetwork, votereg_post, votereg_f_post, CC18_300_1, CC18_300_2, CC18_300_3, CC18_300_4, CC18_300_5, CC18_300_6, CC18_300b, CC18_300c, CC18_309a, CC18_309b, CC18_309c, CC18_309d, CC18_310a, CC18_310b, CC18_310c, CC18_310d, CC18_316, CC18_317, CC18_318a, CC18_350, CC18_401, CC18_417a_1, CC18_417a_2, CC18_417a_3, CC18_417a_4, CC18_417a_5, CC18_417a_6, CC18_417a_7, CC18_417a_8, CC18_418a, CC18_417b_1, CC18_417b_2, CC18_417b_3, CC18_417b_4, CC18_417b_5, CC18_417b_6, CC18_417b_7, CC18_417b_8, CC18_417b_9, CL_matched, CL_voter_status, CL_state, CL_party, CL_2018gvm, CL_2018pep, CL_2018pvm]\n",
       "Index: []\n",
       "\n",
       "[0 rows x 69 columns]"
      ]
     },
     "execution_count": 34,
     "metadata": {},
     "output_type": "execute_result"
    }
   ],
   "source": [
    "messing_around[messing_around[cat_columns].isnull().any(axis=1)]"
   ]
  },
  {
   "cell_type": "code",
   "execution_count": 17,
   "metadata": {},
   "outputs": [
    {
     "name": "stdout",
     "output_type": "stream",
     "text": [
      "['Independent' 'Republican' 'Democrat' 'Other' 'Not sure' nan]\n"
     ]
    }
   ],
   "source": [
    "# Onehot encoding: \n",
    "\n",
    "#     pid3 \n",
    "#     gender\n",
    "#     sexuality\n",
    "#     trans\n",
    "#     votereg\n",
    "#     race\n",
    "#     hispanic\n",
    "#     employ\n",
    "#     internethome\n",
    "#     internetwork\n",
    "#     votereg_post\n",
    "#     voteret_f_post\n",
    "#     CC18_300_1\n",
    "#     CC18_300_2\n",
    "#     CC18_300_3\n",
    "#     CC18_300_4\n",
    "#     CC18_300_5\n",
    "#     CC18_300_6\n",
    "#     CC18_300b\n",
    "#     CC18_300c\n",
    "#     CC18_309a\n",
    "#     CC18_309b\n",
    "#     CC18_309c\n",
    "#     CC18_309d\n",
    "#     CC18_310a\n",
    "#     CC18_310b\n",
    "#     CC18_310c\n",
    "#     CC18_310d\n",
    "#     CC18_316\n",
    "#     CC18_317\n",
    "#     CC18_318a\n",
    "#     CC18_350\n",
    "#     CC18_401\n",
    "#     CC18_417a_1\n",
    "#     CC18_417a_2\n",
    "#     CC18_417a_3\n",
    "#     CC18_417a_4\n",
    "#     CC18_417a_5\n",
    "#     CC18_417a_6\n",
    "#     CC18_417a_7\n",
    "#     CC18_417a_8\n",
    "#     CC18_417b_1\n",
    "#     CC18_417b_2\n",
    "#     CC18_417b_3\n",
    "#     CC18_417b_4\n",
    "#     CC18_417b_5\n",
    "#     CC18_417b_6\n",
    "#     CC18_417b_7\n",
    "#     CC18_417b_8\n",
    "#     CC18_417b_9\n",
    "#     CC18_418a\n",
    "#     CL_matched\n",
    "#     CL_voter_status\n",
    "#     CL_state\n",
    "#     CL_party\n",
    "#     CL_2018gvm\n",
    "#     CL_2018pep\n",
    "#     CL_2018pvm\n",
    "\n",
    "from sklearn.preprocessing import OneHotEncoder\n",
    "\n",
    "import numpy as np\n",
    "\n",
    "##Turn missing into it's own category... replace with something...\n",
    "\n",
    "\n",
    "\n",
    "df1['pid3'].fillna(value='miss')\n",
    "\n",
    "print(df1.pid3.unique())\n",
    "\n",
    "#df1.fillna(value='?')\n",
    "\n",
    "#enc = OneHotEncoder(sparse=False,handle_unknown='ignore')\n",
    "\n",
    "# #demographics\n",
    "# df_oh_demo = enc.fit_transform(df1[['pid3', 'gender', 'sexuality', 'trans', 'votereg', 'race', 'hispanic', 'employ', 'internethome', 'internetwork', 'votereg_post', 'votereg_f_post']])\n",
    "# print(df_oh_demo)\n",
    "# print('feature names:',enc.get_feature_names())\n",
    "\n",
    "# #media use\n",
    "# df_oh_media = enc.fit_transform(df1[['CC18_300_1', 'CC18_300_2', 'CC18_300_3', 'CC18_300_4', 'CC18_300_5', 'CC18_300_6', 'CC18_300b', 'CC18_300c']])\n",
    "# print(df_oh_media)\n",
    "# print('feature names:',enc.get_feature_names())\n",
    "\n",
    "# #political knowledge\n",
    "# df_oh_know = enc.fit_transform(df1[['CC18_309a', 'CC18_309b', 'CC18_309c', 'CC18_309d', 'CC18_310a', 'CC18_310b', 'CC18_310c', 'CC18_310d']])\n",
    "# print(df_oh_know)\n",
    "# print('feature names:',enc.get_feature_names())\n",
    "\n",
    "# #voting\n",
    "\n",
    "# df_oh_vote = enc.fit_transform(df1[['CC18_316', 'CC18_317', 'CC18_318a', 'CC18_350', 'CC18_401']])\n",
    "# print(df_oh_vote)\n",
    "# print('feature names:',enc.get_feature_names())\n",
    "\n",
    "# #political activity\n",
    "\n",
    "# df_oh_acts = enc.fit_transform(df1[['CC18_417a_1', 'CC18_417a_2', 'CC18_417a_3', 'CC18_417a_4', 'CC18_417a_5', 'CC18_417a_6', 'CC18_417a_7', 'CC18_417a_8', 'CC18_418a']])\n",
    "# print(df_oh_acts)\n",
    "# print('feature names:',enc.get_feature_names())\n",
    "\n",
    "# #donate\n",
    "# df_oh_donate = enc.fit_transform(df1[['CC18_417b_1', 'CC18_417b_2', 'CC18_417b_3', 'CC18_417b_4', 'CC18_417b_5', 'CC18_417b_6', 'CC18_417b_7', 'CC18_417b_8', 'CC18_417b_9']])\n",
    "# print(df_oh_donate)\n",
    "# print('feature names:',enc.get_feature_names())\n",
    "\n",
    "# #verified voting\n",
    "# df_oh_CLvote = enc.fit_transform(df1[['CL_matched', 'CL_voter_status', 'CL_state', 'CL_party', 'CL_2018gvm', 'CL_2018pep', 'CL_2018pvm']])\n",
    "# print(df_oh_CLvote)\n",
    "# print('feature names:',enc.get_feature_names())\n",
    "\n",
    "\n"
   ]
  },
  {
   "cell_type": "code",
   "execution_count": null,
   "metadata": {},
   "outputs": [],
   "source": [
    "#### Weights..."
   ]
  },
  {
   "cell_type": "code",
   "execution_count": null,
   "metadata": {},
   "outputs": [],
   "source": []
  }
 ],
 "metadata": {
  "kernelspec": {
   "display_name": "Python 3",
   "language": "python",
   "name": "python3"
  },
  "language_info": {
   "codemirror_mode": {
    "name": "ipython",
    "version": 3
   },
   "file_extension": ".py",
   "mimetype": "text/x-python",
   "name": "python",
   "nbconvert_exporter": "python",
   "pygments_lexer": "ipython3",
   "version": "3.7.3"
  }
 },
 "nbformat": 4,
 "nbformat_minor": 4
}
