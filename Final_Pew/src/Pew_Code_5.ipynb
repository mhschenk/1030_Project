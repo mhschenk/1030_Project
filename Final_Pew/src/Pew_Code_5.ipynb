{
 "cells": [
  {
   "cell_type": "code",
   "execution_count": 45,
   "metadata": {},
   "outputs": [],
   "source": [
    "import pandas as pd\n",
    "df = pd.read_csv('ATP_W35.csv', low_memory=False)\n",
    "\n",
    "#drop survey experiment - many NaN's\n",
    "df.drop(columns=['ECIMPA_W35', 'ECIMPB_W35', 'ECIMPC_W35', 'ECIMPD_W35', 'ECIMPE_W35', 'ECIMPF_W35', 'ECIMPG_W35', 'ECIMPH_W35'], inplace=True) \n",
    "\n",
    "#drop vignette experiment - many NaN's\n",
    "df.drop(columns=['V1_W35', 'V1Q1_W35', 'V1Q2_W35', 'V1Q3_W35', 'V1Q4_POS1_W35', 'V1Q4_POS2_W35', 'V1Q4_POS3_W35', 'V1Q4_POS4_W35', 'V1Q4_POS5_W35', 'V1Q4_NEG1_W35', 'V1Q4_NEG2_W35', 'V1Q4_NEG3_W35', 'V1Q4_NEG4_W35', 'V1Q4_NEG5_W35', 'V1Q4_OTHER_W35', 'V1Q4_DK_W35', 'V1Q4_Refused_W35', 'V2Q1_W35', 'V2Q2_W35', 'V2Q3_W35', 'V2Q4_POS1_W35', 'V2Q4_POS2_W35', 'V2Q4_POS3_W35', 'V2Q4_POS4_W35', 'V2Q4_POS5_W35', 'V2Q4_NEG1_W35', 'V2Q4_NEG2_W35', 'V2Q4_NEG3_W35', 'V2Q4_NEG4_W35', 'V2Q4_NEG5_W35', 'V2Q4_DK_W35', 'V2Q4_OTHER_W35', 'V2Q4_Refused_W35', 'V2_W35', 'V3Q1_W35', 'V3Q2_W35', 'V3Q3_W35', 'V3Q4_POS1_W35', 'V3Q4_POS2_W35', 'V3Q4_POS3_W35', 'V3Q4_POS4_W35', 'V3Q4_NEG1_W35', 'V3Q4_NEG2_W35', 'V3Q4_NEG3_W35', 'V3Q4_NEG4_W35', 'V3Q4_NEG5_W35', 'V3Q4_OTHER_W35', 'V3Q4_DK_W35', 'V3Q4_Refused_W35', 'V4Q1_W35', 'V4Q2_W35', 'V4Q3_W35', 'V4Q4_POS1_W35', 'V4Q4_POS2_W35', 'V4Q4_POS3_W35', 'V4Q4_POS4_W35', 'V4Q4_POS5_W35', 'V4Q4_NEG1_W35', 'V4Q4_NEG2_W35', 'V4Q4_NEG3_W35', 'V3Q4_OTHER_W35', 'V3Q4_DK_W35', 'V3Q4_Refused_W35', 'V4Q4_OTHER_W35', 'V4Q4_DK_W35', 'V4Q4_Refused_W35'], inplace = True)\n",
    "\n",
    "#drop YouTube questions - very different purpose for this part of the survey\n",
    "df.drop(columns=['YT1A_W35', 'YT1B_W35', 'YT1C_W35', 'YT1D_W35', 'YT2_W35', 'YT3A_W35', 'YT3B_W35', 'YT3C_W35', 'YT4_W35', 'YT5_W35'], inplace=True)\n",
    "\n",
    "#drop some demographic variables with many missing values\n",
    "df.drop(columns=['F_PARTYLN_FINAL', 'F_BORN_FINAL'], inplace=True)\n",
    "\n",
    "#drop weights, respondent ID - not using weights in this analysis\n",
    "\n",
    "df.drop(columns=['QKEY','WEIGHT_W35'], inplace=True)\n",
    "\n",
    "#what is this column?\n",
    "\n",
    "df.drop(columns=['F_VOLSUM_FINAL'], inplace=True)\n",
    "\n",
    "#since nonusers will be dropped, drop the binary user/nonuser variable\n",
    "\n",
    "df.drop(columns=['SNSUSER_W35'], inplace=True)\n"
   ]
  },
  {
   "cell_type": "code",
   "execution_count": 18,
   "metadata": {},
   "outputs": [],
   "source": [
    "#Special coding for demographic variables, since they're inconsistent with the rest of the dataset\n",
    "\n",
    "# demo_feat = df[['Device_Type_W35', 'LANGUAGE_W35', 'FORM_W35', 'F_CREGION_FINAL', 'F_AGECAT_FINAL', 'F_SEX_FINAL', 'F_EDUCCAT_FINAL', 'F_EDUCCAT2_FINAL', 'F_HISP_RECRUITMENT', 'F_RACECMB_RECRUITMENT', 'F_RACETHN_RECRUITMENT', 'F_CITIZEN_RECODE_FINAL', 'F_MARITAL_FINAL', 'F_RELIG_FINAL', 'F_ATTEND_FINAL', 'F_PARTY_FINAL', 'F_PARTYSUM_FINAL', 'F_INCOME_FINAL', 'F_INCOME_RECODE_FINAL', 'F_REG_FINAL', 'F_IDEO_FINAL', 'F_INTUSER_FINAL']]\n",
    "\n",
    "#df_demo = pd.DataFrame(data=df, columns = ['Device_Type_W35', 'LANGUAGE_W35', 'FORM_W35', 'F_CREGION_FINAL', 'F_AGECAT_FINAL', 'F_SEX_FINAL', 'F_EDUCCAT_FINAL', 'F_EDUCCAT2_FINAL', 'F_HISP_RECRUITMENT', 'F_RACECMB_RECRUITMENT', 'F_RACETHN_RECRUITMENT', 'F_CITIZEN_RECODE_FINAL', 'F_MARITAL_FINAL', 'F_RELIG_FINAL', 'F_ATTEND_FINAL', 'F_PARTY_FINAL', 'F_PARTYSUM_FINAL', 'F_INCOME_FINAL', 'F_INCOME_RECODE_FINAL', 'F_REG_FINAL', 'F_IDEO_FINAL', 'F_INTUSER_FINAL'])\n",
    "\n",
    "#print(df_demo)"
   ]
  },
  {
   "cell_type": "code",
   "execution_count": 19,
   "metadata": {},
   "outputs": [],
   "source": [
    "# for column in df_demo:\n",
    "#     print(df_demo[column].value_counts(dropna = False))"
   ]
  },
  {
   "cell_type": "code",
   "execution_count": 20,
   "metadata": {},
   "outputs": [],
   "source": [
    "#drop demo variables from df\n",
    "\n",
    "#df.drop(columns=['Device_Type_W35', 'LANGUAGE_W35', 'FORM_W35', 'F_CREGION_FINAL', 'F_AGECAT_FINAL', 'F_SEX_FINAL', 'F_EDUCCAT_FINAL', 'F_EDUCCAT2_FINAL', 'F_HISP_RECRUITMENT', 'F_RACECMB_RECRUITMENT', 'F_RACETHN_RECRUITMENT', 'F_CITIZEN_RECODE_FINAL', 'F_MARITAL_FINAL', 'F_RELIG_FINAL', 'F_ATTEND_FINAL', 'F_PARTY_FINAL', 'F_PARTYSUM_FINAL', 'F_INCOME_FINAL', 'F_INCOME_RECODE_FINAL', 'F_REG_FINAL', 'F_IDEO_FINAL', 'F_INTUSER_FINAL'], inplace=True)\n"
   ]
  },
  {
   "cell_type": "code",
   "execution_count": 47,
   "metadata": {},
   "outputs": [],
   "source": [
    "#recode all missings coded as 9 in demo to 99 so they can be dropped\n",
    "\n",
    "df[['F_EDUCCAT_FINAL', 'F_HISP_RECRUITMENT', 'F_RACECMB_RECRUITMENT', 'F_RACETHN_RECRUITMENT', 'F_CITIZEN_RECODE_FINAL', \\\n",
    "'F_PARTYSUM_FINAL']].replace((9), (99), inplace=True)\n"
   ]
  },
  {
   "cell_type": "code",
   "execution_count": 48,
   "metadata": {},
   "outputs": [],
   "source": [
    "import numpy as np\n",
    "#recode all nan's in demo to 99 so they'll be dropped with the next block of code\n",
    "\n",
    "df[['F_AGECAT_FINAL', 'F_CITIZEN_RECODE_FINAL', 'F_MARITAL_FINAL', 'F_RELIG_FINAL', 'F_ATTEND_FINAL', 'F_PARTY_FINAL', \\\n",
    " 'F_PARTYSUM_FINAL', 'F_INCOME_FINAL', 'F_INCOME_RECODE_FINAL', 'F_REG_FINAL', 'F_IDEO_FINAL']].replace((np.NaN), (99), inplace=True)\n"
   ]
  },
  {
   "cell_type": "code",
   "execution_count": 49,
   "metadata": {},
   "outputs": [],
   "source": [
    "\n",
    "df.replace((np.NaN), (999), inplace=True) #replace missing values with 999; these are people who were not asked a given question\n",
    "\n",
    "df.replace((99), (np.NaN), inplace=True) #replace 99's with missing value; these are people who didn't respond to a question they were asked\n"
   ]
  },
  {
   "cell_type": "code",
   "execution_count": 50,
   "metadata": {},
   "outputs": [
    {
     "name": "stdout",
     "output_type": "stream",
     "text": [
      "(4594, 103)\n"
     ]
    }
   ],
   "source": [
    "print(df.shape)\n"
   ]
  },
  {
   "cell_type": "code",
   "execution_count": 51,
   "metadata": {
    "collapsed": true,
    "jupyter": {
     "outputs_hidden": true
    }
   },
   "outputs": [
    {
     "name": "stdout",
     "output_type": "stream",
     "text": [
      "1    2244\n",
      "3    1871\n",
      "2     479\n",
      "Name: Device_Type_W35, dtype: int64\n",
      "9     4526\n",
      "10      68\n",
      "Name: LANGUAGE_W35, dtype: int64\n",
      "1    2303\n",
      "2    2291\n",
      "Name: FORM_W35, dtype: int64\n",
      "2.0    2790\n",
      "1.0    1713\n",
      "NaN      91\n",
      "Name: ALG1_W35, dtype: int64\n",
      "3.0    2680\n",
      "2.0    1180\n",
      "4.0     649\n",
      "1.0      69\n",
      "NaN      16\n",
      "Name: TC2A_W35, dtype: int64\n",
      "1.0    3036\n",
      "2.0    1522\n",
      "NaN      36\n",
      "Name: TC2B_W35, dtype: int64\n",
      "1.0    3633\n",
      "2.0     913\n",
      "NaN      48\n",
      "Name: TC2C_W35, dtype: int64\n",
      "1.0    2844\n",
      "2.0    1702\n",
      "NaN      48\n",
      "Name: TC3A_W35, dtype: int64\n",
      "2.0    3658\n",
      "1.0     909\n",
      "NaN      27\n",
      "Name: TC3B_W35, dtype: int64\n",
      "1.0    3239\n",
      "2.0    1326\n",
      "NaN      29\n",
      "Name: TC3C_W35, dtype: int64\n",
      "3.0    3366\n",
      "2.0     914\n",
      "1.0     289\n",
      "NaN      25\n",
      "Name: TC4_W35, dtype: int64\n",
      "1.0    2463\n",
      "3.0    1745\n",
      "2.0     336\n",
      "NaN      50\n",
      "Name: TC5_W35, dtype: int64\n",
      "3.0    2426\n",
      "1.0    1720\n",
      "2.0     360\n",
      "NaN      88\n",
      "Name: TC6A_W35, dtype: int64\n",
      "1.0    2176\n",
      "3.0    1839\n",
      "2.0     486\n",
      "NaN      93\n",
      "Name: TC6B_W35, dtype: int64\n",
      "1    3413\n",
      "0    1181\n",
      "Name: SNSA_W35, dtype: int64\n",
      "0    3516\n",
      "1    1078\n",
      "Name: SNSB_W35, dtype: int64\n",
      "0    3231\n",
      "1    1363\n",
      "Name: SNSE_W35, dtype: int64\n",
      "1    3101\n",
      "0    1493\n",
      "Name: SNSH_W35, dtype: int64\n",
      "0    3866\n",
      "1     728\n",
      "Name: SNSJ_W35, dtype: int64\n",
      "0    4130\n",
      "1     464\n",
      "Name: SNSL_W35, dtype: int64\n",
      "1.0      1717\n",
      "999.0    1181\n",
      "2.0       893\n",
      "3.0       795\n",
      "NaN         8\n",
      "Name: SNSFRA_W35, dtype: int64\n",
      "3.0      1635\n",
      "999.0    1493\n",
      "2.0       773\n",
      "1.0       691\n",
      "NaN         2\n",
      "Name: SNSFRB_W35, dtype: int64\n",
      "2.0    2290\n",
      "1.0    1100\n",
      "3.0     825\n",
      "4.0     349\n",
      "NaN      30\n",
      "Name: SM1A_W35, dtype: int64\n",
      "2.0    2453\n",
      "3.0    1063\n",
      "1.0     616\n",
      "4.0     439\n",
      "NaN      23\n",
      "Name: SM1B_W35, dtype: int64\n",
      "2.0    2235\n",
      "1.0    1806\n",
      "3.0     310\n",
      "4.0     221\n",
      "NaN      22\n",
      "Name: SM1C_W35, dtype: int64\n",
      "2.0    1690\n",
      "3.0    1287\n",
      "4.0    1082\n",
      "1.0     508\n",
      "NaN      27\n",
      "Name: SM1D_W35, dtype: int64\n",
      "2.0    2229\n",
      "3.0     924\n",
      "1.0     921\n",
      "4.0     494\n",
      "NaN      26\n",
      "Name: SM1E_W35, dtype: int64\n",
      "4.0    1922\n",
      "3.0    1509\n",
      "2.0     913\n",
      "1.0     221\n",
      "NaN      29\n",
      "Name: SM1F_W35, dtype: int64\n",
      "1.0      2587\n",
      "2.0      1324\n",
      "999.0     278\n",
      "3.0       213\n",
      "4.0       163\n",
      "NaN        29\n",
      "Name: SM2A_W35, dtype: int64\n",
      "2.0      2078\n",
      "1.0      1306\n",
      "3.0       667\n",
      "999.0     278\n",
      "4.0       229\n",
      "NaN        36\n",
      "Name: SM2B_W35, dtype: int64\n",
      "2.0      2548\n",
      "1.0       824\n",
      "3.0       736\n",
      "999.0     278\n",
      "4.0       190\n",
      "NaN        18\n",
      "Name: SM2C_W35, dtype: int64\n",
      "1.0      2578\n",
      "2.0      1230\n",
      "999.0     278\n",
      "3.0       266\n",
      "4.0       207\n",
      "NaN        35\n",
      "Name: SM2D_W35, dtype: int64\n",
      "2.0    3659\n",
      "1.0     878\n",
      "NaN      57\n",
      "Name: SM3_W35, dtype: int64\n",
      "1.0      1984\n",
      "2.0      1563\n",
      "3.0       523\n",
      "999.0     278\n",
      "4.0       215\n",
      "NaN        31\n",
      "Name: SM4A_W35, dtype: int64\n",
      "1.0      2122\n",
      "2.0      1277\n",
      "3.0       572\n",
      "4.0       321\n",
      "999.0     278\n",
      "NaN        24\n",
      "Name: SM4B_W35, dtype: int64\n",
      "1.0      1603\n",
      "2.0      1307\n",
      "3.0       918\n",
      "4.0       462\n",
      "999.0     278\n",
      "NaN        26\n",
      "Name: SM4C_W35, dtype: int64\n",
      "1.0      2479\n",
      "2.0      1240\n",
      "3.0       393\n",
      "999.0     278\n",
      "4.0       183\n",
      "NaN        21\n",
      "Name: SM4D_W35, dtype: int64\n",
      "2.0      2252\n",
      "1.0       987\n",
      "3.0       546\n",
      "4.0       513\n",
      "999.0     278\n",
      "NaN        18\n",
      "Name: SM5A_W35, dtype: int64\n",
      "2.0      1762\n",
      "3.0      1134\n",
      "4.0       990\n",
      "1.0       414\n",
      "999.0     278\n",
      "NaN        16\n",
      "Name: SM5B_W35, dtype: int64\n",
      "2.0      1767\n",
      "3.0      1062\n",
      "4.0      1013\n",
      "1.0       457\n",
      "999.0     278\n",
      "NaN        17\n",
      "Name: SM5C_W35, dtype: int64\n",
      "4.0      1490\n",
      "3.0      1310\n",
      "2.0      1225\n",
      "999.0     278\n",
      "1.0       274\n",
      "NaN        17\n",
      "Name: SM5D_W35, dtype: int64\n",
      "3.0      2214\n",
      "1.0      1047\n",
      "2.0       995\n",
      "999.0     278\n",
      "NaN        60\n",
      "Name: SM6A_W35, dtype: int64\n",
      "3.0      2612\n",
      "1.0       805\n",
      "2.0       783\n",
      "999.0     278\n",
      "NaN       116\n",
      "Name: SM6B_W35, dtype: int64\n",
      "2.0    1653\n",
      "1.0    1626\n",
      "3.0     976\n",
      "4.0     284\n",
      "NaN      55\n",
      "Name: SM7_W35, dtype: int64\n",
      "2.0      3441\n",
      "1.0       837\n",
      "999.0     278\n",
      "NaN        38\n",
      "Name: SM8A_W35, dtype: int64\n",
      "2.0      3710\n",
      "1.0       581\n",
      "999.0     278\n",
      "NaN        25\n",
      "Name: SM8B_W35, dtype: int64\n",
      "2.0      3647\n",
      "1.0       639\n",
      "999.0     278\n",
      "NaN        30\n",
      "Name: SM8C_W35, dtype: int64\n",
      "2.0    2213\n",
      "3.0    1260\n",
      "1.0     651\n",
      "4.0     424\n",
      "NaN      46\n",
      "Name: SM9A_W35, dtype: int64\n",
      "2.0    2043\n",
      "1.0    1625\n",
      "3.0     693\n",
      "4.0     169\n",
      "NaN      64\n",
      "Name: SM9B_W35, dtype: int64\n",
      "2.0    2338\n",
      "3.0    1203\n",
      "1.0     611\n",
      "4.0     389\n",
      "NaN      53\n",
      "Name: SM9C_W35, dtype: int64\n",
      "2.0    1954\n",
      "3.0    1344\n",
      "4.0     662\n",
      "1.0     587\n",
      "NaN      47\n",
      "Name: SM9D_W35, dtype: int64\n",
      "2.0    2168\n",
      "1.0    1250\n",
      "3.0     899\n",
      "4.0     197\n",
      "NaN      80\n",
      "Name: SM9E_W35, dtype: int64\n",
      "2.0      3477\n",
      "1.0       811\n",
      "999.0     278\n",
      "NaN        28\n",
      "Name: SM10A_W35, dtype: int64\n",
      "2.0      3678\n",
      "1.0       604\n",
      "999.0     278\n",
      "NaN        34\n",
      "Name: SM10B_W35, dtype: int64\n",
      "2.0      2479\n",
      "1.0      1807\n",
      "999.0     278\n",
      "NaN        30\n",
      "Name: SM10C_W35, dtype: int64\n",
      "2.0      2667\n",
      "1.0      1623\n",
      "999.0     278\n",
      "NaN        26\n",
      "Name: SM10D_W35, dtype: int64\n",
      "2.0      3317\n",
      "1.0       973\n",
      "999.0     278\n",
      "NaN        26\n",
      "Name: SM10E_W35, dtype: int64\n",
      "2.0      3737\n",
      "1.0       556\n",
      "999.0     278\n",
      "NaN        23\n",
      "Name: SM11_W35, dtype: int64\n",
      "4.0      1387\n",
      "3.0      1278\n",
      "2.0      1185\n",
      "1.0       446\n",
      "999.0     278\n",
      "NaN        20\n",
      "Name: SM12A_W35, dtype: int64\n",
      "4.0      1429\n",
      "3.0      1215\n",
      "2.0      1189\n",
      "1.0       464\n",
      "999.0     278\n",
      "NaN        19\n",
      "Name: SM12B_W35, dtype: int64\n",
      "4.0      1685\n",
      "3.0      1211\n",
      "2.0       960\n",
      "1.0       443\n",
      "999.0     278\n",
      "NaN        17\n",
      "Name: SM12C_W35, dtype: int64\n",
      "2.0    2249\n",
      "3.0     977\n",
      "1.0     948\n",
      "4.0     384\n",
      "NaN      36\n",
      "Name: SM13A_W35, dtype: int64\n",
      "2.0    2091\n",
      "3.0    1328\n",
      "1.0     672\n",
      "4.0     458\n",
      "NaN      45\n",
      "Name: SM13B_W35, dtype: int64\n",
      "2.0    2279\n",
      "3.0     975\n",
      "1.0     909\n",
      "4.0     394\n",
      "NaN      37\n",
      "Name: SM13C_W35, dtype: int64\n",
      "2.0      1714\n",
      "1.0      1454\n",
      "3.0       793\n",
      "4.0       299\n",
      "999.0     278\n",
      "NaN        56\n",
      "Name: SM14A_W35, dtype: int64\n",
      "2.0      1695\n",
      "1.0      1150\n",
      "3.0      1034\n",
      "4.0       387\n",
      "999.0     278\n",
      "NaN        50\n",
      "Name: SM14B_W35, dtype: int64\n",
      "2.0      1701\n",
      "1.0      1695\n",
      "3.0       652\n",
      "999.0     278\n",
      "4.0       223\n",
      "NaN        45\n",
      "Name: SM14C_W35, dtype: int64\n",
      "2.0      1770\n",
      "1.0      1119\n",
      "3.0      1013\n",
      "4.0       361\n",
      "999.0     278\n",
      "NaN        53\n",
      "Name: SM14D_W35, dtype: int64\n",
      "999.0    1181\n",
      "3.0      1156\n",
      "2.0      1083\n",
      "4.0       712\n",
      "1.0       429\n",
      "NaN        33\n",
      "Name: FB1_W35, dtype: int64\n",
      "3.0      2355\n",
      "999.0    1181\n",
      "2.0       598\n",
      "4.0       361\n",
      "1.0        77\n",
      "NaN        22\n",
      "Name: FB2_W35, dtype: int64\n",
      "2.0      2014\n",
      "999.0    1181\n",
      "3.0      1009\n",
      "1.0       358\n",
      "NaN        32\n",
      "Name: FB3A_W35, dtype: int64\n",
      "2.0      2178\n",
      "1.0      1219\n",
      "999.0    1181\n",
      "NaN        16\n",
      "Name: FB3B_W35, dtype: int64\n",
      "999.0    3375\n",
      "1.0       921\n",
      "0.0       298\n",
      "Name: FB3C1_W35, dtype: int64\n",
      "999.0    3375\n",
      "1.0       884\n",
      "0.0       335\n",
      "Name: FB3C2_W35, dtype: int64\n",
      "999.0    3375\n",
      "1.0       952\n",
      "0.0       267\n",
      "Name: FB3C3_W35, dtype: int64\n",
      "999.0    3375\n",
      "1.0       897\n",
      "0.0       322\n",
      "Name: FB3C4_W35, dtype: int64\n",
      "999.0    3375\n",
      "1.0      1014\n",
      "0.0       205\n",
      "Name: FB3C5_W35, dtype: int64\n",
      "999.0    3375\n",
      "0.0      1126\n",
      "1.0        93\n",
      "Name: FB3C6_W35, dtype: int64\n",
      "2.0      1918\n",
      "999.0    1181\n",
      "1.0       793\n",
      "3.0       471\n",
      "4.0       211\n",
      "NaN        20\n",
      "Name: FB4A_W35, dtype: int64\n",
      "3.0      1427\n",
      "999.0    1181\n",
      "2.0      1151\n",
      "4.0       692\n",
      "1.0       120\n",
      "NaN        23\n",
      "Name: FB4B_W35, dtype: int64\n",
      "2.0      1998\n",
      "1.0      1402\n",
      "999.0    1181\n",
      "NaN        13\n",
      "Name: FB5A_W35, dtype: int64\n",
      "2.0      2672\n",
      "999.0    1181\n",
      "1.0       707\n",
      "NaN        34\n",
      "Name: FB5B_W35, dtype: int64\n",
      "1.0      1844\n",
      "2.0      1551\n",
      "999.0    1181\n",
      "NaN        18\n",
      "Name: FB5C_W35, dtype: int64\n",
      "2.0      3101\n",
      "999.0    1181\n",
      "1.0       291\n",
      "NaN        21\n",
      "Name: FB5D_W35, dtype: int64\n",
      "3    1624\n",
      "4    1142\n",
      "2    1013\n",
      "1     815\n",
      "Name: F_CREGION_FINAL, dtype: int64\n",
      "3.0      1451\n",
      "2.0      1343\n",
      "4.0      1326\n",
      "1.0       469\n",
      "999.0       5\n",
      "Name: F_AGECAT_FINAL, dtype: int64\n",
      "2    2304\n",
      "1    2290\n",
      "Name: F_SEX_FINAL, dtype: int64\n",
      "1    2500\n",
      "2    1367\n",
      "3     715\n",
      "9      12\n",
      "Name: F_EDUCCAT_FINAL, dtype: int64\n",
      "5.0    1314\n",
      "6.0    1186\n",
      "3.0     919\n",
      "2.0     556\n",
      "4.0     448\n",
      "1.0     159\n",
      "NaN      12\n",
      "Name: F_EDUCCAT2_FINAL, dtype: int64\n",
      "2    4158\n",
      "1     414\n",
      "9      22\n",
      "Name: F_HISP_RECRUITMENT, dtype: int64\n",
      "1    3621\n",
      "2     412\n",
      "5     190\n",
      "4     174\n",
      "3     131\n",
      "9      66\n",
      "Name: F_RACECMB_RECRUITMENT, dtype: int64\n",
      "1    3417\n",
      "3     414\n",
      "2     402\n",
      "4     300\n",
      "9      61\n",
      "Name: F_RACETHN_RECRUITMENT, dtype: int64\n",
      "1.0      4461\n",
      "2.0       118\n",
      "999.0      13\n",
      "9.0         2\n",
      "Name: F_CITIZEN_RECODE_FINAL, dtype: int64\n",
      "1.0      2562\n",
      "6.0       741\n",
      "3.0       542\n",
      "2.0       314\n",
      "5.0       291\n",
      "4.0       100\n",
      "999.0      37\n",
      "NaN         7\n",
      "Name: F_MARITAL_FINAL, dtype: int64\n",
      "1.0      1936\n",
      "2.0       820\n",
      "12.0      643\n",
      "10.0      314\n",
      "9.0       297\n",
      "5.0       156\n",
      "11.0      145\n",
      "3.0        96\n",
      "999.0      37\n",
      "6.0        35\n",
      "7.0        35\n",
      "8.0        31\n",
      "4.0        31\n",
      "NaN        18\n",
      "Name: F_RELIG_FINAL, dtype: int64\n",
      "5.0      1007\n",
      "6.0       994\n",
      "2.0       943\n",
      "4.0       719\n",
      "1.0       452\n",
      "3.0       432\n",
      "999.0      37\n",
      "NaN        10\n",
      "Name: F_ATTEND_FINAL, dtype: int64\n",
      "2.0      1707\n",
      "3.0      1248\n",
      "1.0      1209\n",
      "4.0       410\n",
      "NaN        18\n",
      "999.0       2\n",
      "Name: F_PARTY_FINAL, dtype: int64\n",
      "2.0      2533\n",
      "1.0      1961\n",
      "9.0        98\n",
      "999.0       2\n",
      "Name: F_PARTYSUM_FINAL, dtype: int64\n",
      "6.0      743\n",
      "8.0      731\n",
      "7.0      677\n",
      "9.0      618\n",
      "4.0      399\n",
      "3.0      362\n",
      "5.0      356\n",
      "2.0      320\n",
      "1.0      212\n",
      "NaN      160\n",
      "999.0     16\n",
      "Name: F_INCOME_FINAL, dtype: int64\n",
      "1.0      2026\n",
      "2.0      1498\n",
      "3.0       894\n",
      "NaN       160\n",
      "999.0      16\n",
      "Name: F_INCOME_RECODE_FINAL, dtype: int64\n",
      "1.0      4008\n",
      "3.0       383\n",
      "2.0       154\n",
      "999.0      37\n",
      "NaN        12\n",
      "Name: F_REG_FINAL, dtype: int64\n",
      "3.0      1551\n",
      "2.0      1065\n",
      "4.0       947\n",
      "5.0       525\n",
      "1.0       425\n",
      "NaN        44\n",
      "999.0      37\n",
      "Name: F_IDEO_FINAL, dtype: int64\n",
      "1    4401\n",
      "0     193\n",
      "Name: F_INTUSER_FINAL, dtype: int64\n"
     ]
    }
   ],
   "source": [
    "#Look for missing values:\n",
    "\n",
    "for column in df:\n",
    "    print(df[column].value_counts(dropna = False))\n"
   ]
  },
  {
   "cell_type": "code",
   "execution_count": 52,
   "metadata": {},
   "outputs": [
    {
     "name": "stdout",
     "output_type": "stream",
     "text": [
      "(3604, 103)\n"
     ]
    }
   ],
   "source": [
    "#drop na's that were the result of people not answering a question\n",
    "\n",
    "\n",
    "df.dropna(axis = 0, inplace=True)\n",
    "print(df.shape)"
   ]
  },
  {
   "cell_type": "code",
   "execution_count": 53,
   "metadata": {},
   "outputs": [],
   "source": [
    "import numpy as np\n",
    "#recode target variable\n",
    "df[\"SM10B_W35\"].value_counts(dropna = False)\n",
    "df.SM10B_W35.replace((2, 999.0), (0, np.NaN), inplace=True)"
   ]
  },
  {
   "cell_type": "code",
   "execution_count": 54,
   "metadata": {},
   "outputs": [
    {
     "data": {
      "text/plain": [
       "0.0    2873\n",
       "1.0     521\n",
       "NaN     210\n",
       "Name: SM10B_W35, dtype: int64"
      ]
     },
     "execution_count": 54,
     "metadata": {},
     "output_type": "execute_result"
    }
   ],
   "source": [
    "df[\"SM10B_W35\"].value_counts(dropna = False)"
   ]
  },
  {
   "cell_type": "code",
   "execution_count": 55,
   "metadata": {},
   "outputs": [
    {
     "name": "stdout",
     "output_type": "stream",
     "text": [
      "(3394, 103)\n"
     ]
    }
   ],
   "source": [
    "#drop people who weren't asked the target variable so it's truly binary - across the whole dataset\n",
    "df.dropna(axis = 0, inplace=True)\n",
    "print(df.shape)"
   ]
  },
  {
   "cell_type": "code",
   "execution_count": 56,
   "metadata": {},
   "outputs": [],
   "source": [
    "y = df['SM10B_W35']\n",
    "\n",
    "#drop target variable from df\n",
    "df.drop(columns='SM10B_W35', inplace=True)"
   ]
  },
  {
   "cell_type": "code",
   "execution_count": 57,
   "metadata": {},
   "outputs": [
    {
     "name": "stdout",
     "output_type": "stream",
     "text": [
      "0       0.0\n",
      "1       0.0\n",
      "3       0.0\n",
      "4       0.0\n",
      "5       0.0\n",
      "       ... \n",
      "4589    1.0\n",
      "4590    0.0\n",
      "4591    0.0\n",
      "4592    0.0\n",
      "4593    0.0\n",
      "Name: SM10B_W35, Length: 3394, dtype: float64\n"
     ]
    }
   ],
   "source": [
    "print(y) #0/1"
   ]
  },
  {
   "cell_type": "code",
   "execution_count": 58,
   "metadata": {},
   "outputs": [
    {
     "name": "stdout",
     "output_type": "stream",
     "text": [
      "(3394, 102)\n"
     ]
    }
   ],
   "source": [
    "print(df.shape)"
   ]
  },
  {
   "cell_type": "code",
   "execution_count": 59,
   "metadata": {},
   "outputs": [],
   "source": [
    "# #see what's going on in the one-hot columns\n",
    "# for column in df[['ALG1_W35', 'TC2B_W35', 'TC2C_W35', 'TC3A_W35', 'TC3B_W35', 'TC3C_W35', 'SM3_W35', 'SM8A_W35', 'SM8B_W35', 'SM8C_W35', 'SM8C_W35','SM10A_W35','SM10C_W35', 'SM10D_W35', 'SM10E_W35', 'SM11_W35','FB3B_W35', 'FB3C1_W35', 'FB3C2_W35', 'FB3C3_W35', 'FB3C4_W35', 'FB3C5_W35', 'FB3C6_W35', 'FB5A_W35', 'FB5B_W35', 'FB5C_W35', 'FB5D_W35']]:\n",
    "#     print(df[column].value_counts(dropna=False))\n",
    "    "
   ]
  },
  {
   "cell_type": "code",
   "execution_count": 60,
   "metadata": {},
   "outputs": [],
   "source": [
    "oh_feat=df[['ALG1_W35', 'TC2B_W35', 'TC2C_W35', 'TC3A_W35', 'TC3B_W35', 'TC3C_W35', 'SM3_W35', 'SM8A_W35', 'SM8B_W35', \\\n",
    "            'SM8C_W35', 'SM8C_W35','SM10A_W35','SM10C_W35', 'SM10D_W35', 'SM10E_W35', 'SM11_W35','FB3B_W35', \\\n",
    "            'FB3C1_W35', 'FB3C2_W35', 'FB3C3_W35', 'FB3C4_W35', 'FB3C5_W35', 'FB3C6_W35', 'FB5A_W35', 'FB5B_W35', \\\n",
    "            'FB5C_W35', 'FB5D_W35']]\n"
   ]
  },
  {
   "cell_type": "code",
   "execution_count": 61,
   "metadata": {},
   "outputs": [],
   "source": [
    "#get the indices\n",
    "\n",
    "oh_index = []\n",
    "oh_index = [df.columns.get_loc(feature) for feature in oh_feat]\n",
    "#print(oh_index)"
   ]
  },
  {
   "cell_type": "code",
   "execution_count": 62,
   "metadata": {},
   "outputs": [],
   "source": [
    "demo_feat = df[['Device_Type_W35', 'LANGUAGE_W35', 'FORM_W35', 'F_CREGION_FINAL', 'F_AGECAT_FINAL', 'F_SEX_FINAL', 'F_EDUCCAT_FINAL', 'F_EDUCCAT2_FINAL', 'F_HISP_RECRUITMENT', 'F_RACECMB_RECRUITMENT', 'F_RACETHN_RECRUITMENT', 'F_CITIZEN_RECODE_FINAL', 'F_MARITAL_FINAL', 'F_RELIG_FINAL', 'F_ATTEND_FINAL', 'F_PARTY_FINAL', 'F_PARTYSUM_FINAL', 'F_INCOME_FINAL', 'F_INCOME_RECODE_FINAL', 'F_REG_FINAL', 'F_IDEO_FINAL', 'F_INTUSER_FINAL']]\n",
    "\n",
    "demo_index = []\n",
    "demo_index = [df.columns.get_loc(feature) for feature in demo_feat]"
   ]
  },
  {
   "cell_type": "code",
   "execution_count": 63,
   "metadata": {},
   "outputs": [],
   "source": [
    "#convert one hot variables to strings\n",
    "\n",
    "df[['ALG1_W35', 'TC2B_W35', 'TC2C_W35', 'TC3A_W35', 'TC3B_W35', 'TC3C_W35', 'SM3_W35', 'SM8A_W35', 'SM8B_W35', \\\n",
    "            'SM8C_W35', 'SM8C_W35','SM10A_W35','SM10C_W35', 'SM10D_W35', 'SM10E_W35', 'SM11_W35','FB3B_W35', \\\n",
    "            'FB3C1_W35', 'FB3C2_W35', 'FB3C3_W35', 'FB3C4_W35', 'FB3C5_W35', 'FB3C6_W35', 'FB5A_W35', 'FB5B_W35', \\\n",
    "            'FB5C_W35', 'FB5D_W35']] = df[['ALG1_W35', 'TC2B_W35', 'TC2C_W35', 'TC3A_W35', 'TC3B_W35', 'TC3C_W35', 'SM3_W35', 'SM8A_W35', 'SM8B_W35', \\\n",
    "            'SM8C_W35', 'SM8C_W35','SM10A_W35','SM10C_W35', 'SM10D_W35', 'SM10E_W35', 'SM11_W35','FB3B_W35', \\\n",
    "            'FB3C1_W35', 'FB3C2_W35', 'FB3C3_W35', 'FB3C4_W35', 'FB3C5_W35', 'FB3C6_W35', 'FB5A_W35', 'FB5B_W35', \\\n",
    "            'FB5C_W35', 'FB5D_W35']].astype(str)\n",
    "\n",
    "df[['Device_Type_W35', 'LANGUAGE_W35', 'FORM_W35', 'F_CREGION_FINAL', 'F_AGECAT_FINAL', 'F_SEX_FINAL', 'F_EDUCCAT_FINAL',\\\n",
    "    'F_EDUCCAT2_FINAL', 'F_HISP_RECRUITMENT', 'F_RACECMB_RECRUITMENT', 'F_RACETHN_RECRUITMENT', 'F_CITIZEN_RECODE_FINAL', \\\n",
    "    'F_MARITAL_FINAL', 'F_RELIG_FINAL', 'F_ATTEND_FINAL', 'F_PARTY_FINAL', 'F_PARTYSUM_FINAL', 'F_INCOME_FINAL', \\\n",
    "    'F_INCOME_RECODE_FINAL', 'F_REG_FINAL', 'F_IDEO_FINAL', 'F_INTUSER_FINAL']]= df[['Device_Type_W35', 'LANGUAGE_W35', \\\n",
    "    'FORM_W35', 'F_CREGION_FINAL', 'F_AGECAT_FINAL', 'F_SEX_FINAL', 'F_EDUCCAT_FINAL', 'F_EDUCCAT2_FINAL', \\\n",
    "    'F_HISP_RECRUITMENT', 'F_RACECMB_RECRUITMENT', 'F_RACETHN_RECRUITMENT', 'F_CITIZEN_RECODE_FINAL', 'F_MARITAL_FINAL', \\\n",
    "    'F_RELIG_FINAL', 'F_ATTEND_FINAL', 'F_PARTY_FINAL', 'F_PARTYSUM_FINAL', 'F_INCOME_FINAL', 'F_INCOME_RECODE_FINAL', \\\n",
    "    'F_REG_FINAL', 'F_IDEO_FINAL', 'F_INTUSER_FINAL']].astype(str)"
   ]
  },
  {
   "cell_type": "markdown",
   "metadata": {},
   "source": [
    "Ordinal Features"
   ]
  },
  {
   "cell_type": "code",
   "execution_count": 64,
   "metadata": {},
   "outputs": [],
   "source": [
    "#switch 2 and 3 to make it ordinal\n",
    "\n",
    "df.TC4_W35.replace((3), (5), inplace=True)\n",
    "df.TC4_W35.replace((2), (3), inplace=True)\n",
    "df.TC4_W35.replace((5), (2), inplace=True)\n",
    "\n",
    "df.TC5_W35.replace((3), (5), inplace=True)\n",
    "df.TC5_W35.replace((2), (3), inplace=True)\n",
    "df.TC5_W35.replace((5), (2), inplace=True)\n",
    "\n",
    "df.TC6A_W35.replace((3), (5), inplace=True)\n",
    "df.TC6A_W35.replace((2), (3), inplace=True)\n",
    "df.TC6A_W35.replace((5), (2), inplace=True)\n",
    "\n",
    "df.TC6B_W35.replace((3), (5), inplace=True)\n",
    "df.TC6B_W35.replace((2), (3), inplace=True)\n",
    "df.TC6B_W35.replace((5), (2), inplace=True)\n",
    "\n",
    "df.SM6A_W35.replace((3), (5), inplace=True)\n",
    "df.SM6A_W35.replace((2), (3), inplace=True)\n",
    "df.SM6A_W35.replace((5), (2), inplace=True)\n",
    "\n",
    "df.SM6B_W35.replace((3), (5), inplace=True)\n",
    "df.SM6B_W35.replace((2), (3), inplace=True)\n",
    "df.SM6B_W35.replace((5), (2), inplace=True)"
   ]
  },
  {
   "cell_type": "code",
   "execution_count": 65,
   "metadata": {},
   "outputs": [],
   "source": [
    "# #see what's going on in the columns that are left in df\n",
    "# for column in df:\n",
    "#     print(df[column].value_counts(dropna=False))"
   ]
  },
  {
   "cell_type": "code",
   "execution_count": 66,
   "metadata": {},
   "outputs": [],
   "source": [
    "#convert ordinal features to strings\n",
    "\n",
    "df[['TC4_W35', 'TC5_W35', 'TC6A_W35', 'TC6B_W35', 'FB3A_W35']]=df[['TC4_W35', 'TC5_W35', 'TC6A_W35', 'TC6B_W35', 'FB3A_W35']].astype(str)\n",
    "\n",
    "df[['TC2A_W35', 'SM1A_W35', 'SM1B_W35', 'SM1C_W35', 'SM1D_W35', 'SM1E_W35', 'SM1F_W35', \\\n",
    "              'SM7_W35', 'SM9A_W35', 'SM9B_W35', 'SM9C_W35',  'SM9D_W35',  'SM9E_W35', 'SM13A_W35', \\\n",
    "              'SM13B_W35', 'SM13C_W35', 'FB4A_W35', 'FB4B_W35']] = df[['TC2A_W35', 'SM1A_W35', 'SM1B_W35', 'SM1C_W35', 'SM1D_W35', 'SM1E_W35', 'SM1F_W35', \\\n",
    "              'SM7_W35', 'SM9A_W35', 'SM9B_W35', 'SM9C_W35',  'SM9D_W35',  'SM9E_W35', 'SM13A_W35', \\\n",
    "              'SM13B_W35', 'SM13C_W35', 'FB4A_W35', 'FB4B_W35']].astype(str)\n",
    "\n",
    "\n",
    "df[['SNSFRA_W35', 'SNSFRB_W35', 'SM6A_W35', 'SM6B_W35']] = df[['SNSFRA_W35', 'SNSFRB_W35', 'SM6A_W35', 'SM6B_W35']].astype('str')\n",
    "\n",
    "df[['SM2A_W35', 'SM2B_W35', 'SM2C_W35', 'SM2D_W35', 'SM4A_W35', 'SM4B_W35', 'SM4C_W35', 'SM4D_W35', \\\n",
    "'SM5A_W35', 'SM5B_W35', 'SM5C_W35', 'SM5D_W35', 'SM12A_W35', 'SM12B_W35', 'SM12C_W35', 'SM14A_W35', 'SM14B_W35', \\\n",
    "'SM14C_W35', 'SM14D_W35', 'FB1_W35', 'FB2_W35']] = df[['SM2A_W35', 'SM2B_W35', 'SM2C_W35', 'SM2D_W35', 'SM4A_W35', 'SM4B_W35', 'SM4C_W35', 'SM4D_W35', \\\n",
    "'SM5A_W35', 'SM5B_W35', 'SM5C_W35', 'SM5D_W35', 'SM12A_W35', 'SM12B_W35', 'SM12C_W35', 'SM14A_W35', 'SM14B_W35', \\\n",
    "'SM14C_W35', 'SM14D_W35', 'FB1_W35', 'FB2_W35']].astype(str)"
   ]
  },
  {
   "cell_type": "code",
   "execution_count": 67,
   "metadata": {},
   "outputs": [],
   "source": [
    "#reverse coding for all ordinal variables\n",
    "#high numbers need to become low; 999 to 0; reverse everything else\n",
    "\n",
    "#set up groups for ordinal encoder to use; lists of features and lists of categories\n",
    "\n",
    "#variables with no 999's and 3 categories:\n",
    "\n",
    "ord_feat_1 = df[['TC4_W35', 'TC5_W35', 'TC6A_W35', 'TC6B_W35', 'FB3A_W35']]\n",
    "\n",
    "ord_cat_1 = [['3.0', '2.0', '1.0'], ['3.0', '2.0', '1.0'], ['3.0', '2.0', '1.0'], ['3.0', '2.0', '1.0'], ['3.0', '2.0', '1.0']]\n",
    "\n",
    "#variables with no 999's and 4 categories:\n",
    "\n",
    "ord_feat_2 = df[['TC2A_W35', 'SM1A_W35', 'SM1B_W35', 'SM1C_W35', 'SM1D_W35', 'SM1E_W35', 'SM1F_W35', \\\n",
    "              'SM7_W35', 'SM9A_W35', 'SM9B_W35', 'SM9C_W35',  'SM9D_W35',  'SM9E_W35', 'SM13A_W35', \\\n",
    "              'SM13B_W35', 'SM13C_W35', 'FB4A_W35', 'FB4B_W35']]\n",
    "\n",
    "ord_cat_2 = [i for i in [['4.0', '3.0', '2.0', '1.0']] for _ in range(18)] #list comprehension to make categories to match each feature\n",
    "\n",
    "#print(ord_cat_2)\n",
    "\n",
    "#variables with 999's and 3 categories:\n",
    "\n",
    "ord_feat_3 = df[['SNSFRA_W35', 'SNSFRB_W35', 'SM6A_W35', 'SM6B_W35']]\n",
    "\n",
    "ord_cat_3 = [i for i in [['999.0', '3.0', '2.0', '1.0']] for _ in range(4)]\n",
    "\n",
    "#variables with 999's and 4 categories:\n",
    "\n",
    "ord_feat_4 = df[['SM2A_W35', 'SM2B_W35', 'SM2C_W35', 'SM2D_W35', 'SM4A_W35', 'SM4B_W35', 'SM4C_W35', 'SM4D_W35', \\\n",
    "'SM5A_W35', 'SM5B_W35', 'SM5C_W35', 'SM5D_W35', 'SM12A_W35', 'SM12B_W35', 'SM12C_W35', 'SM14A_W35', 'SM14B_W35', \\\n",
    "'SM14C_W35', 'SM14D_W35', 'FB1_W35', 'FB2_W35']]\n",
    "\n",
    "ord_cat_4 = [i for i in [['999.0', '4.0', '3.0', '2.0', '1.0']] for _ in range(21)]\n",
    "\n",
    "#get the indices\n",
    "\n",
    "ord_index_1 = []\n",
    "ord_index_1 = [df.columns.get_loc(feature) for feature in ord_feat_1]\n",
    "\n",
    "ord_index_2 = []\n",
    "ord_index_2 = [df.columns.get_loc(feature) for feature in ord_feat_2]\n",
    "\n",
    "ord_index_3 = []\n",
    "ord_index_3 = [df.columns.get_loc(feature) for feature in ord_feat_3]\n",
    "\n",
    "ord_index_4 = []\n",
    "ord_index_4 = [df.columns.get_loc(feature) for feature in ord_feat_4]\n"
   ]
  },
  {
   "cell_type": "code",
   "execution_count": 68,
   "metadata": {},
   "outputs": [
    {
     "name": "stdout",
     "output_type": "stream",
     "text": [
      "0.0    2873\n",
      "1.0     521\n",
      "Name: SM10B_W35, dtype: int64\n",
      "0.0    0.846494\n",
      "1.0    0.153506\n",
      "Name: SM10B_W35, dtype: float64\n"
     ]
    }
   ],
   "source": [
    "#balance of the dataset\n",
    "\n",
    "#balance of the dataset\n",
    "print(y.value_counts(normalize=False))\n",
    "print(y.value_counts(normalize=True))"
   ]
  },
  {
   "cell_type": "code",
   "execution_count": 78,
   "metadata": {},
   "outputs": [],
   "source": [
    "# preprocess with pipeline and columntransformer\n",
    "from sklearn.model_selection import GridSearchCV\n",
    "from sklearn.pipeline import make_pipeline\n",
    "from sklearn.metrics import make_scorer\n",
    "from sklearn.model_selection import train_test_split\n",
    "from sklearn.model_selection import KFold\n",
    "from sklearn.preprocessing import StandardScaler\n",
    "from sklearn.linear_model import Ridge\n",
    "from sklearn.metrics import mean_squared_error\n",
    "import matplotlib.pyplot as plt\n",
    "import matplotlib\n",
    "from sklearn.preprocessing import OneHotEncoder\n",
    "from sklearn.preprocessing import StandardScaler\n",
    "from sklearn.compose import ColumnTransformer\n",
    "from sklearn.linear_model import LogisticRegression\n",
    "from sklearn.metrics import accuracy_score\n",
    "from sklearn.pipeline import Pipeline\n",
    "from sklearn.preprocessing import OneHotEncoder\n",
    "from sklearn.preprocessing import OrdinalEncoder\n",
    "\n",
    "def ML_pipeline_kfold_LogReg(X,y,random_state,n_folds):\n",
    "    # create a test set\n",
    "    X_other, X_test, y_other, y_test = train_test_split(X, y, test_size=0.2, random_state = random_state)\n",
    "    # splitter for _other\n",
    "    kf = KFold(n_splits=n_folds,shuffle=True,random_state=random_state)\n",
    "    # create the pipeline: preprocessor + supervised ML method\n",
    "    \n",
    "    # one-hot encoder\n",
    "    categorical_transformer = OneHotEncoder(sparse=False, categories = 'auto', handle_unknown = 'ignore')\n",
    "    \n",
    "    #ordinal - use onehot to account for the fact that 999 is rare \n",
    "    ordinal_transformer_1 = OneHotEncoder(categories = ord_cat_1, handle_unknown = 'ignore')\n",
    "    ordinal_transformer_2 = OneHotEncoder(categories = ord_cat_2, handle_unknown = 'ignore')\n",
    "    ordinal_transformer_3 = OneHotEncoder(categories = ord_cat_3, handle_unknown = 'ignore')\n",
    "    ordinal_transformer_4 = OneHotEncoder(categories = ord_cat_4, handle_unknown = 'ignore')\n",
    "\n",
    "\n",
    "    # collect the transformers - use indices\n",
    "    preprocessor = ColumnTransformer(\n",
    "    transformers=[\n",
    "        ('ohe1', categorical_transformer, oh_index),\n",
    "        ('ohe2', categorical_transformer, demo_index),\n",
    "        ('ord1', ordinal_transformer_1, ord_index_1),\n",
    "        ('ord2', ordinal_transformer_2, ord_index_2),\n",
    "        ('ord3', ordinal_transformer_3, ord_index_3),\n",
    "        ('ord4', ordinal_transformer_4, ord_index_4)], remainder = 'passthrough')\n",
    "      \n",
    "    pipe = make_pipeline(preprocessor,LogisticRegression(penalty = 'l1', solver = 'saga', max_iter = 10000, random_state= random_state, multi_class = 'auto')) #change this line out to check different models\n",
    "    # the parameter(s) we want to tune\n",
    "    param_grid = {'logisticregression__C': np.logspace(-3,4,num=8)} #and adjust this line for each model\n",
    "    # prepare gridsearch\n",
    "    grid = GridSearchCV(pipe, param_grid=param_grid,scoring = make_scorer(accuracy_score,greater_is_better=True),\n",
    "                        cv=kf, return_train_score = True, iid=True)\n",
    "    # do kfold CV on _other\n",
    "    grid.fit(X_other, y_other)\n",
    "    return grid, grid.score(X_test, y_test)"
   ]
  },
  {
   "cell_type": "code",
   "execution_count": 79,
   "metadata": {},
   "outputs": [],
   "source": [
    "grid, score = ML_pipeline_kfold_LogReg(df,y,55,5)"
   ]
  },
  {
   "cell_type": "code",
   "execution_count": 80,
   "metadata": {},
   "outputs": [
    {
     "name": "stdout",
     "output_type": "stream",
     "text": [
      "CV accuracy 0.87 +/- 0.01\n"
     ]
    }
   ],
   "source": [
    "results = pd.DataFrame(grid.cv_results_)\n",
    "print('CV accuracy', np.around(results[results['rank_test_score']==1]['mean_test_score'].values[0],2), '+/-',np.around(results[results['rank_test_score']==1]['std_test_score'].values[0],2))"
   ]
  },
  {
   "cell_type": "code",
   "execution_count": 84,
   "metadata": {},
   "outputs": [
    {
     "name": "stdout",
     "output_type": "stream",
     "text": [
      "test score: 0.898379970544919\n"
     ]
    }
   ],
   "source": [
    "print('test score:',grid.score(X_test,y_test))\n",
    "coefs = grid.best_estimator_[-1].coef_[0]\n",
    "sorted_indcs = np.argsort(np.abs(coefs))"
   ]
  },
  {
   "cell_type": "code",
   "execution_count": 86,
   "metadata": {},
   "outputs": [
    {
     "data": {
      "text/plain": [
       "Pipeline(memory=None,\n",
       "         steps=[('columntransformer',\n",
       "                 ColumnTransformer(n_jobs=None, remainder='passthrough',\n",
       "                                   sparse_threshold=0.3,\n",
       "                                   transformer_weights=None,\n",
       "                                   transformers=[('ohe1',\n",
       "                                                  OneHotEncoder(categorical_features=None,\n",
       "                                                                categories='auto',\n",
       "                                                                drop=None,\n",
       "                                                                dtype=<class 'numpy.float64'>,\n",
       "                                                                handle_unknown='ignore',\n",
       "                                                                n_values=None,\n",
       "                                                                sparse=False),\n",
       "                                                  [3, 5, 6, 7, 8, 9, 32, 44, 45,\n",
       "                                                   46, 46, 52...\n",
       "                                                  [28, 29, 30, 31, 33, 34, 35,\n",
       "                                                   36, 37, 38, 39, 40, 57, 58,\n",
       "                                                   59, 63, 64, 65, 66, 67,\n",
       "                                                   68])],\n",
       "                                   verbose=False)),\n",
       "                ('logisticregression',\n",
       "                 LogisticRegression(C=0.1, class_weight=None, dual=False,\n",
       "                                    fit_intercept=True, intercept_scaling=1,\n",
       "                                    l1_ratio=None, max_iter=1000,\n",
       "                                    multi_class='auto', n_jobs=None,\n",
       "                                    penalty='l1', random_state=55,\n",
       "                                    solver='liblinear', tol=0.0001, verbose=0,\n",
       "                                    warm_start=False))],\n",
       "         verbose=False)"
      ]
     },
     "execution_count": 86,
     "metadata": {},
     "output_type": "execute_result"
    }
   ],
   "source": [
    "grid.best_estimator_"
   ]
  },
  {
   "cell_type": "code",
   "execution_count": 81,
   "metadata": {
    "collapsed": true,
    "jupyter": {
     "outputs_hidden": true
    }
   },
   "outputs": [
    {
     "ename": "KeyboardInterrupt",
     "evalue": "",
     "output_type": "error",
     "traceback": [
      "\u001b[0;31m---------------------------------------------------------------------------\u001b[0m",
      "\u001b[0;31mKeyboardInterrupt\u001b[0m                         Traceback (most recent call last)",
      "\u001b[0;32m<ipython-input-81-2b7e30948fde>\u001b[0m in \u001b[0;36m<module>\u001b[0;34m\u001b[0m\n\u001b[1;32m      3\u001b[0m \u001b[0maccuracies\u001b[0m \u001b[0;34m=\u001b[0m \u001b[0;34m[\u001b[0m\u001b[0;34m]\u001b[0m\u001b[0;34m\u001b[0m\u001b[0;34m\u001b[0m\u001b[0m\n\u001b[1;32m      4\u001b[0m \u001b[0;32mfor\u001b[0m \u001b[0mi\u001b[0m \u001b[0;32min\u001b[0m \u001b[0mrange\u001b[0m\u001b[0;34m(\u001b[0m\u001b[0;36m5\u001b[0m\u001b[0;34m)\u001b[0m\u001b[0;34m:\u001b[0m\u001b[0;34m\u001b[0m\u001b[0;34m\u001b[0m\u001b[0m\n\u001b[0;32m----> 5\u001b[0;31m     \u001b[0mgrid\u001b[0m\u001b[0;34m,\u001b[0m \u001b[0mscore\u001b[0m \u001b[0;34m=\u001b[0m \u001b[0mML_pipeline_kfold_LogReg\u001b[0m\u001b[0;34m(\u001b[0m\u001b[0mdf\u001b[0m\u001b[0;34m,\u001b[0m\u001b[0my\u001b[0m\u001b[0;34m,\u001b[0m\u001b[0mi\u001b[0m\u001b[0;34m,\u001b[0m\u001b[0;36m5\u001b[0m\u001b[0;34m)\u001b[0m\u001b[0;34m\u001b[0m\u001b[0;34m\u001b[0m\u001b[0m\n\u001b[0m\u001b[1;32m      6\u001b[0m     \u001b[0maccuracies\u001b[0m\u001b[0;34m.\u001b[0m\u001b[0mappend\u001b[0m\u001b[0;34m(\u001b[0m\u001b[0mscore\u001b[0m\u001b[0;34m)\u001b[0m\u001b[0;34m\u001b[0m\u001b[0;34m\u001b[0m\u001b[0m\n\u001b[1;32m      7\u001b[0m \u001b[0;34m\u001b[0m\u001b[0m\n",
      "\u001b[0;32m<ipython-input-78-865658998ce4>\u001b[0m in \u001b[0;36mML_pipeline_kfold_LogReg\u001b[0;34m(X, y, random_state, n_folds)\u001b[0m\n\u001b[1;32m     53\u001b[0m                         cv=kf, return_train_score = True, iid=True)\n\u001b[1;32m     54\u001b[0m     \u001b[0;31m# do kfold CV on _other\u001b[0m\u001b[0;34m\u001b[0m\u001b[0;34m\u001b[0m\u001b[0;34m\u001b[0m\u001b[0m\n\u001b[0;32m---> 55\u001b[0;31m     \u001b[0mgrid\u001b[0m\u001b[0;34m.\u001b[0m\u001b[0mfit\u001b[0m\u001b[0;34m(\u001b[0m\u001b[0mX_other\u001b[0m\u001b[0;34m,\u001b[0m \u001b[0my_other\u001b[0m\u001b[0;34m)\u001b[0m\u001b[0;34m\u001b[0m\u001b[0;34m\u001b[0m\u001b[0m\n\u001b[0m\u001b[1;32m     56\u001b[0m     \u001b[0;32mreturn\u001b[0m \u001b[0mgrid\u001b[0m\u001b[0;34m,\u001b[0m \u001b[0mgrid\u001b[0m\u001b[0;34m.\u001b[0m\u001b[0mscore\u001b[0m\u001b[0;34m(\u001b[0m\u001b[0mX_test\u001b[0m\u001b[0;34m,\u001b[0m \u001b[0my_test\u001b[0m\u001b[0;34m)\u001b[0m\u001b[0;34m\u001b[0m\u001b[0;34m\u001b[0m\u001b[0m\n",
      "\u001b[0;32m/opt/conda/lib/python3.7/site-packages/sklearn/model_selection/_search.py\u001b[0m in \u001b[0;36mfit\u001b[0;34m(self, X, y, groups, **fit_params)\u001b[0m\n\u001b[1;32m    686\u001b[0m                 \u001b[0;32mreturn\u001b[0m \u001b[0mresults\u001b[0m\u001b[0;34m\u001b[0m\u001b[0;34m\u001b[0m\u001b[0m\n\u001b[1;32m    687\u001b[0m \u001b[0;34m\u001b[0m\u001b[0m\n\u001b[0;32m--> 688\u001b[0;31m             \u001b[0mself\u001b[0m\u001b[0;34m.\u001b[0m\u001b[0m_run_search\u001b[0m\u001b[0;34m(\u001b[0m\u001b[0mevaluate_candidates\u001b[0m\u001b[0;34m)\u001b[0m\u001b[0;34m\u001b[0m\u001b[0;34m\u001b[0m\u001b[0m\n\u001b[0m\u001b[1;32m    689\u001b[0m \u001b[0;34m\u001b[0m\u001b[0m\n\u001b[1;32m    690\u001b[0m         \u001b[0;31m# For multi-metric evaluation, store the best_index_, best_params_ and\u001b[0m\u001b[0;34m\u001b[0m\u001b[0;34m\u001b[0m\u001b[0;34m\u001b[0m\u001b[0m\n",
      "\u001b[0;32m/opt/conda/lib/python3.7/site-packages/sklearn/model_selection/_search.py\u001b[0m in \u001b[0;36m_run_search\u001b[0;34m(self, evaluate_candidates)\u001b[0m\n\u001b[1;32m   1147\u001b[0m     \u001b[0;32mdef\u001b[0m \u001b[0m_run_search\u001b[0m\u001b[0;34m(\u001b[0m\u001b[0mself\u001b[0m\u001b[0;34m,\u001b[0m \u001b[0mevaluate_candidates\u001b[0m\u001b[0;34m)\u001b[0m\u001b[0;34m:\u001b[0m\u001b[0;34m\u001b[0m\u001b[0;34m\u001b[0m\u001b[0m\n\u001b[1;32m   1148\u001b[0m         \u001b[0;34m\"\"\"Search all candidates in param_grid\"\"\"\u001b[0m\u001b[0;34m\u001b[0m\u001b[0;34m\u001b[0m\u001b[0m\n\u001b[0;32m-> 1149\u001b[0;31m         \u001b[0mevaluate_candidates\u001b[0m\u001b[0;34m(\u001b[0m\u001b[0mParameterGrid\u001b[0m\u001b[0;34m(\u001b[0m\u001b[0mself\u001b[0m\u001b[0;34m.\u001b[0m\u001b[0mparam_grid\u001b[0m\u001b[0;34m)\u001b[0m\u001b[0;34m)\u001b[0m\u001b[0;34m\u001b[0m\u001b[0;34m\u001b[0m\u001b[0m\n\u001b[0m\u001b[1;32m   1150\u001b[0m \u001b[0;34m\u001b[0m\u001b[0m\n\u001b[1;32m   1151\u001b[0m \u001b[0;34m\u001b[0m\u001b[0m\n",
      "\u001b[0;32m/opt/conda/lib/python3.7/site-packages/sklearn/model_selection/_search.py\u001b[0m in \u001b[0;36mevaluate_candidates\u001b[0;34m(candidate_params)\u001b[0m\n\u001b[1;32m    665\u001b[0m                                \u001b[0;32mfor\u001b[0m \u001b[0mparameters\u001b[0m\u001b[0;34m,\u001b[0m \u001b[0;34m(\u001b[0m\u001b[0mtrain\u001b[0m\u001b[0;34m,\u001b[0m \u001b[0mtest\u001b[0m\u001b[0;34m)\u001b[0m\u001b[0;34m\u001b[0m\u001b[0;34m\u001b[0m\u001b[0m\n\u001b[1;32m    666\u001b[0m                                in product(candidate_params,\n\u001b[0;32m--> 667\u001b[0;31m                                           cv.split(X, y, groups)))\n\u001b[0m\u001b[1;32m    668\u001b[0m \u001b[0;34m\u001b[0m\u001b[0m\n\u001b[1;32m    669\u001b[0m                 \u001b[0;32mif\u001b[0m \u001b[0mlen\u001b[0m\u001b[0;34m(\u001b[0m\u001b[0mout\u001b[0m\u001b[0;34m)\u001b[0m \u001b[0;34m<\u001b[0m \u001b[0;36m1\u001b[0m\u001b[0;34m:\u001b[0m\u001b[0;34m\u001b[0m\u001b[0;34m\u001b[0m\u001b[0m\n",
      "\u001b[0;32m/opt/conda/lib/python3.7/site-packages/joblib/parallel.py\u001b[0m in \u001b[0;36m__call__\u001b[0;34m(self, iterable)\u001b[0m\n\u001b[1;32m    922\u001b[0m                 \u001b[0mself\u001b[0m\u001b[0;34m.\u001b[0m\u001b[0m_iterating\u001b[0m \u001b[0;34m=\u001b[0m \u001b[0mself\u001b[0m\u001b[0;34m.\u001b[0m\u001b[0m_original_iterator\u001b[0m \u001b[0;32mis\u001b[0m \u001b[0;32mnot\u001b[0m \u001b[0;32mNone\u001b[0m\u001b[0;34m\u001b[0m\u001b[0;34m\u001b[0m\u001b[0m\n\u001b[1;32m    923\u001b[0m \u001b[0;34m\u001b[0m\u001b[0m\n\u001b[0;32m--> 924\u001b[0;31m             \u001b[0;32mwhile\u001b[0m \u001b[0mself\u001b[0m\u001b[0;34m.\u001b[0m\u001b[0mdispatch_one_batch\u001b[0m\u001b[0;34m(\u001b[0m\u001b[0miterator\u001b[0m\u001b[0;34m)\u001b[0m\u001b[0;34m:\u001b[0m\u001b[0;34m\u001b[0m\u001b[0;34m\u001b[0m\u001b[0m\n\u001b[0m\u001b[1;32m    925\u001b[0m                 \u001b[0;32mpass\u001b[0m\u001b[0;34m\u001b[0m\u001b[0;34m\u001b[0m\u001b[0m\n\u001b[1;32m    926\u001b[0m \u001b[0;34m\u001b[0m\u001b[0m\n",
      "\u001b[0;32m/opt/conda/lib/python3.7/site-packages/joblib/parallel.py\u001b[0m in \u001b[0;36mdispatch_one_batch\u001b[0;34m(self, iterator)\u001b[0m\n\u001b[1;32m    757\u001b[0m                 \u001b[0;32mreturn\u001b[0m \u001b[0;32mFalse\u001b[0m\u001b[0;34m\u001b[0m\u001b[0;34m\u001b[0m\u001b[0m\n\u001b[1;32m    758\u001b[0m             \u001b[0;32melse\u001b[0m\u001b[0;34m:\u001b[0m\u001b[0;34m\u001b[0m\u001b[0;34m\u001b[0m\u001b[0m\n\u001b[0;32m--> 759\u001b[0;31m                 \u001b[0mself\u001b[0m\u001b[0;34m.\u001b[0m\u001b[0m_dispatch\u001b[0m\u001b[0;34m(\u001b[0m\u001b[0mtasks\u001b[0m\u001b[0;34m)\u001b[0m\u001b[0;34m\u001b[0m\u001b[0;34m\u001b[0m\u001b[0m\n\u001b[0m\u001b[1;32m    760\u001b[0m                 \u001b[0;32mreturn\u001b[0m \u001b[0;32mTrue\u001b[0m\u001b[0;34m\u001b[0m\u001b[0;34m\u001b[0m\u001b[0m\n\u001b[1;32m    761\u001b[0m \u001b[0;34m\u001b[0m\u001b[0m\n",
      "\u001b[0;32m/opt/conda/lib/python3.7/site-packages/joblib/parallel.py\u001b[0m in \u001b[0;36m_dispatch\u001b[0;34m(self, batch)\u001b[0m\n\u001b[1;32m    714\u001b[0m         \u001b[0;32mwith\u001b[0m \u001b[0mself\u001b[0m\u001b[0;34m.\u001b[0m\u001b[0m_lock\u001b[0m\u001b[0;34m:\u001b[0m\u001b[0;34m\u001b[0m\u001b[0;34m\u001b[0m\u001b[0m\n\u001b[1;32m    715\u001b[0m             \u001b[0mjob_idx\u001b[0m \u001b[0;34m=\u001b[0m \u001b[0mlen\u001b[0m\u001b[0;34m(\u001b[0m\u001b[0mself\u001b[0m\u001b[0;34m.\u001b[0m\u001b[0m_jobs\u001b[0m\u001b[0;34m)\u001b[0m\u001b[0;34m\u001b[0m\u001b[0;34m\u001b[0m\u001b[0m\n\u001b[0;32m--> 716\u001b[0;31m             \u001b[0mjob\u001b[0m \u001b[0;34m=\u001b[0m \u001b[0mself\u001b[0m\u001b[0;34m.\u001b[0m\u001b[0m_backend\u001b[0m\u001b[0;34m.\u001b[0m\u001b[0mapply_async\u001b[0m\u001b[0;34m(\u001b[0m\u001b[0mbatch\u001b[0m\u001b[0;34m,\u001b[0m \u001b[0mcallback\u001b[0m\u001b[0;34m=\u001b[0m\u001b[0mcb\u001b[0m\u001b[0;34m)\u001b[0m\u001b[0;34m\u001b[0m\u001b[0;34m\u001b[0m\u001b[0m\n\u001b[0m\u001b[1;32m    717\u001b[0m             \u001b[0;31m# A job can complete so quickly than its callback is\u001b[0m\u001b[0;34m\u001b[0m\u001b[0;34m\u001b[0m\u001b[0;34m\u001b[0m\u001b[0m\n\u001b[1;32m    718\u001b[0m             \u001b[0;31m# called before we get here, causing self._jobs to\u001b[0m\u001b[0;34m\u001b[0m\u001b[0;34m\u001b[0m\u001b[0;34m\u001b[0m\u001b[0m\n",
      "\u001b[0;32m/opt/conda/lib/python3.7/site-packages/joblib/_parallel_backends.py\u001b[0m in \u001b[0;36mapply_async\u001b[0;34m(self, func, callback)\u001b[0m\n\u001b[1;32m    180\u001b[0m     \u001b[0;32mdef\u001b[0m \u001b[0mapply_async\u001b[0m\u001b[0;34m(\u001b[0m\u001b[0mself\u001b[0m\u001b[0;34m,\u001b[0m \u001b[0mfunc\u001b[0m\u001b[0;34m,\u001b[0m \u001b[0mcallback\u001b[0m\u001b[0;34m=\u001b[0m\u001b[0;32mNone\u001b[0m\u001b[0;34m)\u001b[0m\u001b[0;34m:\u001b[0m\u001b[0;34m\u001b[0m\u001b[0;34m\u001b[0m\u001b[0m\n\u001b[1;32m    181\u001b[0m         \u001b[0;34m\"\"\"Schedule a func to be run\"\"\"\u001b[0m\u001b[0;34m\u001b[0m\u001b[0;34m\u001b[0m\u001b[0m\n\u001b[0;32m--> 182\u001b[0;31m         \u001b[0mresult\u001b[0m \u001b[0;34m=\u001b[0m \u001b[0mImmediateResult\u001b[0m\u001b[0;34m(\u001b[0m\u001b[0mfunc\u001b[0m\u001b[0;34m)\u001b[0m\u001b[0;34m\u001b[0m\u001b[0;34m\u001b[0m\u001b[0m\n\u001b[0m\u001b[1;32m    183\u001b[0m         \u001b[0;32mif\u001b[0m \u001b[0mcallback\u001b[0m\u001b[0;34m:\u001b[0m\u001b[0;34m\u001b[0m\u001b[0;34m\u001b[0m\u001b[0m\n\u001b[1;32m    184\u001b[0m             \u001b[0mcallback\u001b[0m\u001b[0;34m(\u001b[0m\u001b[0mresult\u001b[0m\u001b[0;34m)\u001b[0m\u001b[0;34m\u001b[0m\u001b[0;34m\u001b[0m\u001b[0m\n",
      "\u001b[0;32m/opt/conda/lib/python3.7/site-packages/joblib/_parallel_backends.py\u001b[0m in \u001b[0;36m__init__\u001b[0;34m(self, batch)\u001b[0m\n\u001b[1;32m    547\u001b[0m         \u001b[0;31m# Don't delay the application, to avoid keeping the input\u001b[0m\u001b[0;34m\u001b[0m\u001b[0;34m\u001b[0m\u001b[0;34m\u001b[0m\u001b[0m\n\u001b[1;32m    548\u001b[0m         \u001b[0;31m# arguments in memory\u001b[0m\u001b[0;34m\u001b[0m\u001b[0;34m\u001b[0m\u001b[0;34m\u001b[0m\u001b[0m\n\u001b[0;32m--> 549\u001b[0;31m         \u001b[0mself\u001b[0m\u001b[0;34m.\u001b[0m\u001b[0mresults\u001b[0m \u001b[0;34m=\u001b[0m \u001b[0mbatch\u001b[0m\u001b[0;34m(\u001b[0m\u001b[0;34m)\u001b[0m\u001b[0;34m\u001b[0m\u001b[0;34m\u001b[0m\u001b[0m\n\u001b[0m\u001b[1;32m    550\u001b[0m \u001b[0;34m\u001b[0m\u001b[0m\n\u001b[1;32m    551\u001b[0m     \u001b[0;32mdef\u001b[0m \u001b[0mget\u001b[0m\u001b[0;34m(\u001b[0m\u001b[0mself\u001b[0m\u001b[0;34m)\u001b[0m\u001b[0;34m:\u001b[0m\u001b[0;34m\u001b[0m\u001b[0;34m\u001b[0m\u001b[0m\n",
      "\u001b[0;32m/opt/conda/lib/python3.7/site-packages/joblib/parallel.py\u001b[0m in \u001b[0;36m__call__\u001b[0;34m(self)\u001b[0m\n\u001b[1;32m    223\u001b[0m         \u001b[0;32mwith\u001b[0m \u001b[0mparallel_backend\u001b[0m\u001b[0;34m(\u001b[0m\u001b[0mself\u001b[0m\u001b[0;34m.\u001b[0m\u001b[0m_backend\u001b[0m\u001b[0;34m,\u001b[0m \u001b[0mn_jobs\u001b[0m\u001b[0;34m=\u001b[0m\u001b[0mself\u001b[0m\u001b[0;34m.\u001b[0m\u001b[0m_n_jobs\u001b[0m\u001b[0;34m)\u001b[0m\u001b[0;34m:\u001b[0m\u001b[0;34m\u001b[0m\u001b[0;34m\u001b[0m\u001b[0m\n\u001b[1;32m    224\u001b[0m             return [func(*args, **kwargs)\n\u001b[0;32m--> 225\u001b[0;31m                     for func, args, kwargs in self.items]\n\u001b[0m\u001b[1;32m    226\u001b[0m \u001b[0;34m\u001b[0m\u001b[0m\n\u001b[1;32m    227\u001b[0m     \u001b[0;32mdef\u001b[0m \u001b[0m__len__\u001b[0m\u001b[0;34m(\u001b[0m\u001b[0mself\u001b[0m\u001b[0;34m)\u001b[0m\u001b[0;34m:\u001b[0m\u001b[0;34m\u001b[0m\u001b[0;34m\u001b[0m\u001b[0m\n",
      "\u001b[0;32m/opt/conda/lib/python3.7/site-packages/joblib/parallel.py\u001b[0m in \u001b[0;36m<listcomp>\u001b[0;34m(.0)\u001b[0m\n\u001b[1;32m    223\u001b[0m         \u001b[0;32mwith\u001b[0m \u001b[0mparallel_backend\u001b[0m\u001b[0;34m(\u001b[0m\u001b[0mself\u001b[0m\u001b[0;34m.\u001b[0m\u001b[0m_backend\u001b[0m\u001b[0;34m,\u001b[0m \u001b[0mn_jobs\u001b[0m\u001b[0;34m=\u001b[0m\u001b[0mself\u001b[0m\u001b[0;34m.\u001b[0m\u001b[0m_n_jobs\u001b[0m\u001b[0;34m)\u001b[0m\u001b[0;34m:\u001b[0m\u001b[0;34m\u001b[0m\u001b[0;34m\u001b[0m\u001b[0m\n\u001b[1;32m    224\u001b[0m             return [func(*args, **kwargs)\n\u001b[0;32m--> 225\u001b[0;31m                     for func, args, kwargs in self.items]\n\u001b[0m\u001b[1;32m    226\u001b[0m \u001b[0;34m\u001b[0m\u001b[0m\n\u001b[1;32m    227\u001b[0m     \u001b[0;32mdef\u001b[0m \u001b[0m__len__\u001b[0m\u001b[0;34m(\u001b[0m\u001b[0mself\u001b[0m\u001b[0;34m)\u001b[0m\u001b[0;34m:\u001b[0m\u001b[0;34m\u001b[0m\u001b[0;34m\u001b[0m\u001b[0m\n",
      "\u001b[0;32m/opt/conda/lib/python3.7/site-packages/sklearn/model_selection/_validation.py\u001b[0m in \u001b[0;36m_fit_and_score\u001b[0;34m(estimator, X, y, scorer, train, test, verbose, parameters, fit_params, return_train_score, return_parameters, return_n_test_samples, return_times, return_estimator, error_score)\u001b[0m\n\u001b[1;32m    514\u001b[0m             \u001b[0mestimator\u001b[0m\u001b[0;34m.\u001b[0m\u001b[0mfit\u001b[0m\u001b[0;34m(\u001b[0m\u001b[0mX_train\u001b[0m\u001b[0;34m,\u001b[0m \u001b[0;34m**\u001b[0m\u001b[0mfit_params\u001b[0m\u001b[0;34m)\u001b[0m\u001b[0;34m\u001b[0m\u001b[0;34m\u001b[0m\u001b[0m\n\u001b[1;32m    515\u001b[0m         \u001b[0;32melse\u001b[0m\u001b[0;34m:\u001b[0m\u001b[0;34m\u001b[0m\u001b[0;34m\u001b[0m\u001b[0m\n\u001b[0;32m--> 516\u001b[0;31m             \u001b[0mestimator\u001b[0m\u001b[0;34m.\u001b[0m\u001b[0mfit\u001b[0m\u001b[0;34m(\u001b[0m\u001b[0mX_train\u001b[0m\u001b[0;34m,\u001b[0m \u001b[0my_train\u001b[0m\u001b[0;34m,\u001b[0m \u001b[0;34m**\u001b[0m\u001b[0mfit_params\u001b[0m\u001b[0;34m)\u001b[0m\u001b[0;34m\u001b[0m\u001b[0;34m\u001b[0m\u001b[0m\n\u001b[0m\u001b[1;32m    517\u001b[0m \u001b[0;34m\u001b[0m\u001b[0m\n\u001b[1;32m    518\u001b[0m     \u001b[0;32mexcept\u001b[0m \u001b[0mException\u001b[0m \u001b[0;32mas\u001b[0m \u001b[0me\u001b[0m\u001b[0;34m:\u001b[0m\u001b[0;34m\u001b[0m\u001b[0;34m\u001b[0m\u001b[0m\n",
      "\u001b[0;32m/opt/conda/lib/python3.7/site-packages/sklearn/pipeline.py\u001b[0m in \u001b[0;36mfit\u001b[0;34m(self, X, y, **fit_params)\u001b[0m\n\u001b[1;32m    350\u001b[0m             \u001b[0mThis\u001b[0m \u001b[0mestimator\u001b[0m\u001b[0;34m\u001b[0m\u001b[0;34m\u001b[0m\u001b[0m\n\u001b[1;32m    351\u001b[0m         \"\"\"\n\u001b[0;32m--> 352\u001b[0;31m         \u001b[0mXt\u001b[0m\u001b[0;34m,\u001b[0m \u001b[0mfit_params\u001b[0m \u001b[0;34m=\u001b[0m \u001b[0mself\u001b[0m\u001b[0;34m.\u001b[0m\u001b[0m_fit\u001b[0m\u001b[0;34m(\u001b[0m\u001b[0mX\u001b[0m\u001b[0;34m,\u001b[0m \u001b[0my\u001b[0m\u001b[0;34m,\u001b[0m \u001b[0;34m**\u001b[0m\u001b[0mfit_params\u001b[0m\u001b[0;34m)\u001b[0m\u001b[0;34m\u001b[0m\u001b[0;34m\u001b[0m\u001b[0m\n\u001b[0m\u001b[1;32m    353\u001b[0m         with _print_elapsed_time('Pipeline',\n\u001b[1;32m    354\u001b[0m                                  self._log_message(len(self.steps) - 1)):\n",
      "\u001b[0;32m/opt/conda/lib/python3.7/site-packages/sklearn/pipeline.py\u001b[0m in \u001b[0;36m_fit\u001b[0;34m(self, X, y, **fit_params)\u001b[0m\n\u001b[1;32m    315\u001b[0m                 \u001b[0mmessage_clsname\u001b[0m\u001b[0;34m=\u001b[0m\u001b[0;34m'Pipeline'\u001b[0m\u001b[0;34m,\u001b[0m\u001b[0;34m\u001b[0m\u001b[0;34m\u001b[0m\u001b[0m\n\u001b[1;32m    316\u001b[0m                 \u001b[0mmessage\u001b[0m\u001b[0;34m=\u001b[0m\u001b[0mself\u001b[0m\u001b[0;34m.\u001b[0m\u001b[0m_log_message\u001b[0m\u001b[0;34m(\u001b[0m\u001b[0mstep_idx\u001b[0m\u001b[0;34m)\u001b[0m\u001b[0;34m,\u001b[0m\u001b[0;34m\u001b[0m\u001b[0;34m\u001b[0m\u001b[0m\n\u001b[0;32m--> 317\u001b[0;31m                 **fit_params_steps[name])\n\u001b[0m\u001b[1;32m    318\u001b[0m             \u001b[0;31m# Replace the transformer of the step with the fitted\u001b[0m\u001b[0;34m\u001b[0m\u001b[0;34m\u001b[0m\u001b[0;34m\u001b[0m\u001b[0m\n\u001b[1;32m    319\u001b[0m             \u001b[0;31m# transformer. This is necessary when loading the transformer\u001b[0m\u001b[0;34m\u001b[0m\u001b[0;34m\u001b[0m\u001b[0;34m\u001b[0m\u001b[0m\n",
      "\u001b[0;32m/opt/conda/lib/python3.7/site-packages/joblib/memory.py\u001b[0m in \u001b[0;36m__call__\u001b[0;34m(self, *args, **kwargs)\u001b[0m\n\u001b[1;32m    353\u001b[0m \u001b[0;34m\u001b[0m\u001b[0m\n\u001b[1;32m    354\u001b[0m     \u001b[0;32mdef\u001b[0m \u001b[0m__call__\u001b[0m\u001b[0;34m(\u001b[0m\u001b[0mself\u001b[0m\u001b[0;34m,\u001b[0m \u001b[0;34m*\u001b[0m\u001b[0margs\u001b[0m\u001b[0;34m,\u001b[0m \u001b[0;34m**\u001b[0m\u001b[0mkwargs\u001b[0m\u001b[0;34m)\u001b[0m\u001b[0;34m:\u001b[0m\u001b[0;34m\u001b[0m\u001b[0;34m\u001b[0m\u001b[0m\n\u001b[0;32m--> 355\u001b[0;31m         \u001b[0;32mreturn\u001b[0m \u001b[0mself\u001b[0m\u001b[0;34m.\u001b[0m\u001b[0mfunc\u001b[0m\u001b[0;34m(\u001b[0m\u001b[0;34m*\u001b[0m\u001b[0margs\u001b[0m\u001b[0;34m,\u001b[0m \u001b[0;34m**\u001b[0m\u001b[0mkwargs\u001b[0m\u001b[0;34m)\u001b[0m\u001b[0;34m\u001b[0m\u001b[0;34m\u001b[0m\u001b[0m\n\u001b[0m\u001b[1;32m    356\u001b[0m \u001b[0;34m\u001b[0m\u001b[0m\n\u001b[1;32m    357\u001b[0m     \u001b[0;32mdef\u001b[0m \u001b[0mcall_and_shelve\u001b[0m\u001b[0;34m(\u001b[0m\u001b[0mself\u001b[0m\u001b[0;34m,\u001b[0m \u001b[0;34m*\u001b[0m\u001b[0margs\u001b[0m\u001b[0;34m,\u001b[0m \u001b[0;34m**\u001b[0m\u001b[0mkwargs\u001b[0m\u001b[0;34m)\u001b[0m\u001b[0;34m:\u001b[0m\u001b[0;34m\u001b[0m\u001b[0;34m\u001b[0m\u001b[0m\n",
      "\u001b[0;32m/opt/conda/lib/python3.7/site-packages/sklearn/pipeline.py\u001b[0m in \u001b[0;36m_fit_transform_one\u001b[0;34m(transformer, X, y, weight, message_clsname, message, **fit_params)\u001b[0m\n\u001b[1;32m    714\u001b[0m     \u001b[0;32mwith\u001b[0m \u001b[0m_print_elapsed_time\u001b[0m\u001b[0;34m(\u001b[0m\u001b[0mmessage_clsname\u001b[0m\u001b[0;34m,\u001b[0m \u001b[0mmessage\u001b[0m\u001b[0;34m)\u001b[0m\u001b[0;34m:\u001b[0m\u001b[0;34m\u001b[0m\u001b[0;34m\u001b[0m\u001b[0m\n\u001b[1;32m    715\u001b[0m         \u001b[0;32mif\u001b[0m \u001b[0mhasattr\u001b[0m\u001b[0;34m(\u001b[0m\u001b[0mtransformer\u001b[0m\u001b[0;34m,\u001b[0m \u001b[0;34m'fit_transform'\u001b[0m\u001b[0;34m)\u001b[0m\u001b[0;34m:\u001b[0m\u001b[0;34m\u001b[0m\u001b[0;34m\u001b[0m\u001b[0m\n\u001b[0;32m--> 716\u001b[0;31m             \u001b[0mres\u001b[0m \u001b[0;34m=\u001b[0m \u001b[0mtransformer\u001b[0m\u001b[0;34m.\u001b[0m\u001b[0mfit_transform\u001b[0m\u001b[0;34m(\u001b[0m\u001b[0mX\u001b[0m\u001b[0;34m,\u001b[0m \u001b[0my\u001b[0m\u001b[0;34m,\u001b[0m \u001b[0;34m**\u001b[0m\u001b[0mfit_params\u001b[0m\u001b[0;34m)\u001b[0m\u001b[0;34m\u001b[0m\u001b[0;34m\u001b[0m\u001b[0m\n\u001b[0m\u001b[1;32m    717\u001b[0m         \u001b[0;32melse\u001b[0m\u001b[0;34m:\u001b[0m\u001b[0;34m\u001b[0m\u001b[0;34m\u001b[0m\u001b[0m\n\u001b[1;32m    718\u001b[0m             \u001b[0mres\u001b[0m \u001b[0;34m=\u001b[0m \u001b[0mtransformer\u001b[0m\u001b[0;34m.\u001b[0m\u001b[0mfit\u001b[0m\u001b[0;34m(\u001b[0m\u001b[0mX\u001b[0m\u001b[0;34m,\u001b[0m \u001b[0my\u001b[0m\u001b[0;34m,\u001b[0m \u001b[0;34m**\u001b[0m\u001b[0mfit_params\u001b[0m\u001b[0;34m)\u001b[0m\u001b[0;34m.\u001b[0m\u001b[0mtransform\u001b[0m\u001b[0;34m(\u001b[0m\u001b[0mX\u001b[0m\u001b[0;34m)\u001b[0m\u001b[0;34m\u001b[0m\u001b[0;34m\u001b[0m\u001b[0m\n",
      "\u001b[0;32m/opt/conda/lib/python3.7/site-packages/sklearn/compose/_column_transformer.py\u001b[0m in \u001b[0;36mfit_transform\u001b[0;34m(self, X, y)\u001b[0m\n\u001b[1;32m    474\u001b[0m         \u001b[0mself\u001b[0m\u001b[0;34m.\u001b[0m\u001b[0m_validate_remainder\u001b[0m\u001b[0;34m(\u001b[0m\u001b[0mX\u001b[0m\u001b[0;34m)\u001b[0m\u001b[0;34m\u001b[0m\u001b[0;34m\u001b[0m\u001b[0m\n\u001b[1;32m    475\u001b[0m \u001b[0;34m\u001b[0m\u001b[0m\n\u001b[0;32m--> 476\u001b[0;31m         \u001b[0mresult\u001b[0m \u001b[0;34m=\u001b[0m \u001b[0mself\u001b[0m\u001b[0;34m.\u001b[0m\u001b[0m_fit_transform\u001b[0m\u001b[0;34m(\u001b[0m\u001b[0mX\u001b[0m\u001b[0;34m,\u001b[0m \u001b[0my\u001b[0m\u001b[0;34m,\u001b[0m \u001b[0m_fit_transform_one\u001b[0m\u001b[0;34m)\u001b[0m\u001b[0;34m\u001b[0m\u001b[0;34m\u001b[0m\u001b[0m\n\u001b[0m\u001b[1;32m    477\u001b[0m \u001b[0;34m\u001b[0m\u001b[0m\n\u001b[1;32m    478\u001b[0m         \u001b[0;32mif\u001b[0m \u001b[0;32mnot\u001b[0m \u001b[0mresult\u001b[0m\u001b[0;34m:\u001b[0m\u001b[0;34m\u001b[0m\u001b[0;34m\u001b[0m\u001b[0m\n",
      "\u001b[0;32m/opt/conda/lib/python3.7/site-packages/sklearn/compose/_column_transformer.py\u001b[0m in \u001b[0;36m_fit_transform\u001b[0;34m(self, X, y, func, fitted)\u001b[0m\n\u001b[1;32m    418\u001b[0m                     message=self._log_message(name, idx, len(transformers)))\n\u001b[1;32m    419\u001b[0m                 for idx, (name, trans, column, weight) in enumerate(\n\u001b[0;32m--> 420\u001b[0;31m                         self._iter(fitted=fitted, replace_strings=True), 1))\n\u001b[0m\u001b[1;32m    421\u001b[0m         \u001b[0;32mexcept\u001b[0m \u001b[0mValueError\u001b[0m \u001b[0;32mas\u001b[0m \u001b[0me\u001b[0m\u001b[0;34m:\u001b[0m\u001b[0;34m\u001b[0m\u001b[0;34m\u001b[0m\u001b[0m\n\u001b[1;32m    422\u001b[0m             \u001b[0;32mif\u001b[0m \u001b[0;34m\"Expected 2D array, got 1D array instead\"\u001b[0m \u001b[0;32min\u001b[0m \u001b[0mstr\u001b[0m\u001b[0;34m(\u001b[0m\u001b[0me\u001b[0m\u001b[0;34m)\u001b[0m\u001b[0;34m:\u001b[0m\u001b[0;34m\u001b[0m\u001b[0;34m\u001b[0m\u001b[0m\n",
      "\u001b[0;32m/opt/conda/lib/python3.7/site-packages/joblib/parallel.py\u001b[0m in \u001b[0;36m__call__\u001b[0;34m(self, iterable)\u001b[0m\n\u001b[1;32m    919\u001b[0m             \u001b[0;31m# remaining jobs.\u001b[0m\u001b[0;34m\u001b[0m\u001b[0;34m\u001b[0m\u001b[0;34m\u001b[0m\u001b[0m\n\u001b[1;32m    920\u001b[0m             \u001b[0mself\u001b[0m\u001b[0;34m.\u001b[0m\u001b[0m_iterating\u001b[0m \u001b[0;34m=\u001b[0m \u001b[0;32mFalse\u001b[0m\u001b[0;34m\u001b[0m\u001b[0;34m\u001b[0m\u001b[0m\n\u001b[0;32m--> 921\u001b[0;31m             \u001b[0;32mif\u001b[0m \u001b[0mself\u001b[0m\u001b[0;34m.\u001b[0m\u001b[0mdispatch_one_batch\u001b[0m\u001b[0;34m(\u001b[0m\u001b[0miterator\u001b[0m\u001b[0;34m)\u001b[0m\u001b[0;34m:\u001b[0m\u001b[0;34m\u001b[0m\u001b[0;34m\u001b[0m\u001b[0m\n\u001b[0m\u001b[1;32m    922\u001b[0m                 \u001b[0mself\u001b[0m\u001b[0;34m.\u001b[0m\u001b[0m_iterating\u001b[0m \u001b[0;34m=\u001b[0m \u001b[0mself\u001b[0m\u001b[0;34m.\u001b[0m\u001b[0m_original_iterator\u001b[0m \u001b[0;32mis\u001b[0m \u001b[0;32mnot\u001b[0m \u001b[0;32mNone\u001b[0m\u001b[0;34m\u001b[0m\u001b[0;34m\u001b[0m\u001b[0m\n\u001b[1;32m    923\u001b[0m \u001b[0;34m\u001b[0m\u001b[0m\n",
      "\u001b[0;32m/opt/conda/lib/python3.7/site-packages/joblib/parallel.py\u001b[0m in \u001b[0;36mdispatch_one_batch\u001b[0;34m(self, iterator)\u001b[0m\n\u001b[1;32m    757\u001b[0m                 \u001b[0;32mreturn\u001b[0m \u001b[0;32mFalse\u001b[0m\u001b[0;34m\u001b[0m\u001b[0;34m\u001b[0m\u001b[0m\n\u001b[1;32m    758\u001b[0m             \u001b[0;32melse\u001b[0m\u001b[0;34m:\u001b[0m\u001b[0;34m\u001b[0m\u001b[0;34m\u001b[0m\u001b[0m\n\u001b[0;32m--> 759\u001b[0;31m                 \u001b[0mself\u001b[0m\u001b[0;34m.\u001b[0m\u001b[0m_dispatch\u001b[0m\u001b[0;34m(\u001b[0m\u001b[0mtasks\u001b[0m\u001b[0;34m)\u001b[0m\u001b[0;34m\u001b[0m\u001b[0;34m\u001b[0m\u001b[0m\n\u001b[0m\u001b[1;32m    760\u001b[0m                 \u001b[0;32mreturn\u001b[0m \u001b[0;32mTrue\u001b[0m\u001b[0;34m\u001b[0m\u001b[0;34m\u001b[0m\u001b[0m\n\u001b[1;32m    761\u001b[0m \u001b[0;34m\u001b[0m\u001b[0m\n",
      "\u001b[0;32m/opt/conda/lib/python3.7/site-packages/joblib/parallel.py\u001b[0m in \u001b[0;36m_dispatch\u001b[0;34m(self, batch)\u001b[0m\n\u001b[1;32m    714\u001b[0m         \u001b[0;32mwith\u001b[0m \u001b[0mself\u001b[0m\u001b[0;34m.\u001b[0m\u001b[0m_lock\u001b[0m\u001b[0;34m:\u001b[0m\u001b[0;34m\u001b[0m\u001b[0;34m\u001b[0m\u001b[0m\n\u001b[1;32m    715\u001b[0m             \u001b[0mjob_idx\u001b[0m \u001b[0;34m=\u001b[0m \u001b[0mlen\u001b[0m\u001b[0;34m(\u001b[0m\u001b[0mself\u001b[0m\u001b[0;34m.\u001b[0m\u001b[0m_jobs\u001b[0m\u001b[0;34m)\u001b[0m\u001b[0;34m\u001b[0m\u001b[0;34m\u001b[0m\u001b[0m\n\u001b[0;32m--> 716\u001b[0;31m             \u001b[0mjob\u001b[0m \u001b[0;34m=\u001b[0m \u001b[0mself\u001b[0m\u001b[0;34m.\u001b[0m\u001b[0m_backend\u001b[0m\u001b[0;34m.\u001b[0m\u001b[0mapply_async\u001b[0m\u001b[0;34m(\u001b[0m\u001b[0mbatch\u001b[0m\u001b[0;34m,\u001b[0m \u001b[0mcallback\u001b[0m\u001b[0;34m=\u001b[0m\u001b[0mcb\u001b[0m\u001b[0;34m)\u001b[0m\u001b[0;34m\u001b[0m\u001b[0;34m\u001b[0m\u001b[0m\n\u001b[0m\u001b[1;32m    717\u001b[0m             \u001b[0;31m# A job can complete so quickly than its callback is\u001b[0m\u001b[0;34m\u001b[0m\u001b[0;34m\u001b[0m\u001b[0;34m\u001b[0m\u001b[0m\n\u001b[1;32m    718\u001b[0m             \u001b[0;31m# called before we get here, causing self._jobs to\u001b[0m\u001b[0;34m\u001b[0m\u001b[0;34m\u001b[0m\u001b[0;34m\u001b[0m\u001b[0m\n",
      "\u001b[0;32m/opt/conda/lib/python3.7/site-packages/joblib/_parallel_backends.py\u001b[0m in \u001b[0;36mapply_async\u001b[0;34m(self, func, callback)\u001b[0m\n\u001b[1;32m    180\u001b[0m     \u001b[0;32mdef\u001b[0m \u001b[0mapply_async\u001b[0m\u001b[0;34m(\u001b[0m\u001b[0mself\u001b[0m\u001b[0;34m,\u001b[0m \u001b[0mfunc\u001b[0m\u001b[0;34m,\u001b[0m \u001b[0mcallback\u001b[0m\u001b[0;34m=\u001b[0m\u001b[0;32mNone\u001b[0m\u001b[0;34m)\u001b[0m\u001b[0;34m:\u001b[0m\u001b[0;34m\u001b[0m\u001b[0;34m\u001b[0m\u001b[0m\n\u001b[1;32m    181\u001b[0m         \u001b[0;34m\"\"\"Schedule a func to be run\"\"\"\u001b[0m\u001b[0;34m\u001b[0m\u001b[0;34m\u001b[0m\u001b[0m\n\u001b[0;32m--> 182\u001b[0;31m         \u001b[0mresult\u001b[0m \u001b[0;34m=\u001b[0m \u001b[0mImmediateResult\u001b[0m\u001b[0;34m(\u001b[0m\u001b[0mfunc\u001b[0m\u001b[0;34m)\u001b[0m\u001b[0;34m\u001b[0m\u001b[0;34m\u001b[0m\u001b[0m\n\u001b[0m\u001b[1;32m    183\u001b[0m         \u001b[0;32mif\u001b[0m \u001b[0mcallback\u001b[0m\u001b[0;34m:\u001b[0m\u001b[0;34m\u001b[0m\u001b[0;34m\u001b[0m\u001b[0m\n\u001b[1;32m    184\u001b[0m             \u001b[0mcallback\u001b[0m\u001b[0;34m(\u001b[0m\u001b[0mresult\u001b[0m\u001b[0;34m)\u001b[0m\u001b[0;34m\u001b[0m\u001b[0;34m\u001b[0m\u001b[0m\n",
      "\u001b[0;32m/opt/conda/lib/python3.7/site-packages/joblib/_parallel_backends.py\u001b[0m in \u001b[0;36m__init__\u001b[0;34m(self, batch)\u001b[0m\n\u001b[1;32m    547\u001b[0m         \u001b[0;31m# Don't delay the application, to avoid keeping the input\u001b[0m\u001b[0;34m\u001b[0m\u001b[0;34m\u001b[0m\u001b[0;34m\u001b[0m\u001b[0m\n\u001b[1;32m    548\u001b[0m         \u001b[0;31m# arguments in memory\u001b[0m\u001b[0;34m\u001b[0m\u001b[0;34m\u001b[0m\u001b[0;34m\u001b[0m\u001b[0m\n\u001b[0;32m--> 549\u001b[0;31m         \u001b[0mself\u001b[0m\u001b[0;34m.\u001b[0m\u001b[0mresults\u001b[0m \u001b[0;34m=\u001b[0m \u001b[0mbatch\u001b[0m\u001b[0;34m(\u001b[0m\u001b[0;34m)\u001b[0m\u001b[0;34m\u001b[0m\u001b[0;34m\u001b[0m\u001b[0m\n\u001b[0m\u001b[1;32m    550\u001b[0m \u001b[0;34m\u001b[0m\u001b[0m\n\u001b[1;32m    551\u001b[0m     \u001b[0;32mdef\u001b[0m \u001b[0mget\u001b[0m\u001b[0;34m(\u001b[0m\u001b[0mself\u001b[0m\u001b[0;34m)\u001b[0m\u001b[0;34m:\u001b[0m\u001b[0;34m\u001b[0m\u001b[0;34m\u001b[0m\u001b[0m\n",
      "\u001b[0;32m/opt/conda/lib/python3.7/site-packages/joblib/parallel.py\u001b[0m in \u001b[0;36m__call__\u001b[0;34m(self)\u001b[0m\n\u001b[1;32m    223\u001b[0m         \u001b[0;32mwith\u001b[0m \u001b[0mparallel_backend\u001b[0m\u001b[0;34m(\u001b[0m\u001b[0mself\u001b[0m\u001b[0;34m.\u001b[0m\u001b[0m_backend\u001b[0m\u001b[0;34m,\u001b[0m \u001b[0mn_jobs\u001b[0m\u001b[0;34m=\u001b[0m\u001b[0mself\u001b[0m\u001b[0;34m.\u001b[0m\u001b[0m_n_jobs\u001b[0m\u001b[0;34m)\u001b[0m\u001b[0;34m:\u001b[0m\u001b[0;34m\u001b[0m\u001b[0;34m\u001b[0m\u001b[0m\n\u001b[1;32m    224\u001b[0m             return [func(*args, **kwargs)\n\u001b[0;32m--> 225\u001b[0;31m                     for func, args, kwargs in self.items]\n\u001b[0m\u001b[1;32m    226\u001b[0m \u001b[0;34m\u001b[0m\u001b[0m\n\u001b[1;32m    227\u001b[0m     \u001b[0;32mdef\u001b[0m \u001b[0m__len__\u001b[0m\u001b[0;34m(\u001b[0m\u001b[0mself\u001b[0m\u001b[0;34m)\u001b[0m\u001b[0;34m:\u001b[0m\u001b[0;34m\u001b[0m\u001b[0;34m\u001b[0m\u001b[0m\n",
      "\u001b[0;32m/opt/conda/lib/python3.7/site-packages/joblib/parallel.py\u001b[0m in \u001b[0;36m<listcomp>\u001b[0;34m(.0)\u001b[0m\n\u001b[1;32m    223\u001b[0m         \u001b[0;32mwith\u001b[0m \u001b[0mparallel_backend\u001b[0m\u001b[0;34m(\u001b[0m\u001b[0mself\u001b[0m\u001b[0;34m.\u001b[0m\u001b[0m_backend\u001b[0m\u001b[0;34m,\u001b[0m \u001b[0mn_jobs\u001b[0m\u001b[0;34m=\u001b[0m\u001b[0mself\u001b[0m\u001b[0;34m.\u001b[0m\u001b[0m_n_jobs\u001b[0m\u001b[0;34m)\u001b[0m\u001b[0;34m:\u001b[0m\u001b[0;34m\u001b[0m\u001b[0;34m\u001b[0m\u001b[0m\n\u001b[1;32m    224\u001b[0m             return [func(*args, **kwargs)\n\u001b[0;32m--> 225\u001b[0;31m                     for func, args, kwargs in self.items]\n\u001b[0m\u001b[1;32m    226\u001b[0m \u001b[0;34m\u001b[0m\u001b[0m\n\u001b[1;32m    227\u001b[0m     \u001b[0;32mdef\u001b[0m \u001b[0m__len__\u001b[0m\u001b[0;34m(\u001b[0m\u001b[0mself\u001b[0m\u001b[0;34m)\u001b[0m\u001b[0;34m:\u001b[0m\u001b[0;34m\u001b[0m\u001b[0;34m\u001b[0m\u001b[0m\n",
      "\u001b[0;32m/opt/conda/lib/python3.7/site-packages/sklearn/pipeline.py\u001b[0m in \u001b[0;36m_fit_transform_one\u001b[0;34m(transformer, X, y, weight, message_clsname, message, **fit_params)\u001b[0m\n\u001b[1;32m    714\u001b[0m     \u001b[0;32mwith\u001b[0m \u001b[0m_print_elapsed_time\u001b[0m\u001b[0;34m(\u001b[0m\u001b[0mmessage_clsname\u001b[0m\u001b[0;34m,\u001b[0m \u001b[0mmessage\u001b[0m\u001b[0;34m)\u001b[0m\u001b[0;34m:\u001b[0m\u001b[0;34m\u001b[0m\u001b[0;34m\u001b[0m\u001b[0m\n\u001b[1;32m    715\u001b[0m         \u001b[0;32mif\u001b[0m \u001b[0mhasattr\u001b[0m\u001b[0;34m(\u001b[0m\u001b[0mtransformer\u001b[0m\u001b[0;34m,\u001b[0m \u001b[0;34m'fit_transform'\u001b[0m\u001b[0;34m)\u001b[0m\u001b[0;34m:\u001b[0m\u001b[0;34m\u001b[0m\u001b[0;34m\u001b[0m\u001b[0m\n\u001b[0;32m--> 716\u001b[0;31m             \u001b[0mres\u001b[0m \u001b[0;34m=\u001b[0m \u001b[0mtransformer\u001b[0m\u001b[0;34m.\u001b[0m\u001b[0mfit_transform\u001b[0m\u001b[0;34m(\u001b[0m\u001b[0mX\u001b[0m\u001b[0;34m,\u001b[0m \u001b[0my\u001b[0m\u001b[0;34m,\u001b[0m \u001b[0;34m**\u001b[0m\u001b[0mfit_params\u001b[0m\u001b[0;34m)\u001b[0m\u001b[0;34m\u001b[0m\u001b[0;34m\u001b[0m\u001b[0m\n\u001b[0m\u001b[1;32m    717\u001b[0m         \u001b[0;32melse\u001b[0m\u001b[0;34m:\u001b[0m\u001b[0;34m\u001b[0m\u001b[0;34m\u001b[0m\u001b[0m\n\u001b[1;32m    718\u001b[0m             \u001b[0mres\u001b[0m \u001b[0;34m=\u001b[0m \u001b[0mtransformer\u001b[0m\u001b[0;34m.\u001b[0m\u001b[0mfit\u001b[0m\u001b[0;34m(\u001b[0m\u001b[0mX\u001b[0m\u001b[0;34m,\u001b[0m \u001b[0my\u001b[0m\u001b[0;34m,\u001b[0m \u001b[0;34m**\u001b[0m\u001b[0mfit_params\u001b[0m\u001b[0;34m)\u001b[0m\u001b[0;34m.\u001b[0m\u001b[0mtransform\u001b[0m\u001b[0;34m(\u001b[0m\u001b[0mX\u001b[0m\u001b[0;34m)\u001b[0m\u001b[0;34m\u001b[0m\u001b[0;34m\u001b[0m\u001b[0m\n",
      "\u001b[0;32m/opt/conda/lib/python3.7/site-packages/sklearn/preprocessing/_encoders.py\u001b[0m in \u001b[0;36mfit_transform\u001b[0;34m(self, X, y)\u001b[0m\n\u001b[1;32m    629\u001b[0m                 self._categorical_features, copy=True)\n\u001b[1;32m    630\u001b[0m         \u001b[0;32melse\u001b[0m\u001b[0;34m:\u001b[0m\u001b[0;34m\u001b[0m\u001b[0;34m\u001b[0m\u001b[0m\n\u001b[0;32m--> 631\u001b[0;31m             \u001b[0;32mreturn\u001b[0m \u001b[0mself\u001b[0m\u001b[0;34m.\u001b[0m\u001b[0mfit\u001b[0m\u001b[0;34m(\u001b[0m\u001b[0mX\u001b[0m\u001b[0;34m)\u001b[0m\u001b[0;34m.\u001b[0m\u001b[0mtransform\u001b[0m\u001b[0;34m(\u001b[0m\u001b[0mX\u001b[0m\u001b[0;34m)\u001b[0m\u001b[0;34m\u001b[0m\u001b[0;34m\u001b[0m\u001b[0m\n\u001b[0m\u001b[1;32m    632\u001b[0m \u001b[0;34m\u001b[0m\u001b[0m\n\u001b[1;32m    633\u001b[0m     \u001b[0;32mdef\u001b[0m \u001b[0m_legacy_transform\u001b[0m\u001b[0;34m(\u001b[0m\u001b[0mself\u001b[0m\u001b[0;34m,\u001b[0m \u001b[0mX\u001b[0m\u001b[0;34m)\u001b[0m\u001b[0;34m:\u001b[0m\u001b[0;34m\u001b[0m\u001b[0;34m\u001b[0m\u001b[0m\n",
      "\u001b[0;32m/opt/conda/lib/python3.7/site-packages/sklearn/preprocessing/_encoders.py\u001b[0m in \u001b[0;36mfit\u001b[0;34m(self, X, y)\u001b[0m\n\u001b[1;32m    491\u001b[0m             \u001b[0;32mreturn\u001b[0m \u001b[0mself\u001b[0m\u001b[0;34m\u001b[0m\u001b[0;34m\u001b[0m\u001b[0m\n\u001b[1;32m    492\u001b[0m         \u001b[0;32melse\u001b[0m\u001b[0;34m:\u001b[0m\u001b[0;34m\u001b[0m\u001b[0;34m\u001b[0m\u001b[0m\n\u001b[0;32m--> 493\u001b[0;31m             \u001b[0mself\u001b[0m\u001b[0;34m.\u001b[0m\u001b[0m_fit\u001b[0m\u001b[0;34m(\u001b[0m\u001b[0mX\u001b[0m\u001b[0;34m,\u001b[0m \u001b[0mhandle_unknown\u001b[0m\u001b[0;34m=\u001b[0m\u001b[0mself\u001b[0m\u001b[0;34m.\u001b[0m\u001b[0mhandle_unknown\u001b[0m\u001b[0;34m)\u001b[0m\u001b[0;34m\u001b[0m\u001b[0;34m\u001b[0m\u001b[0m\n\u001b[0m\u001b[1;32m    494\u001b[0m             \u001b[0mself\u001b[0m\u001b[0;34m.\u001b[0m\u001b[0mdrop_idx_\u001b[0m \u001b[0;34m=\u001b[0m \u001b[0mself\u001b[0m\u001b[0;34m.\u001b[0m\u001b[0m_compute_drop_idx\u001b[0m\u001b[0;34m(\u001b[0m\u001b[0;34m)\u001b[0m\u001b[0;34m\u001b[0m\u001b[0;34m\u001b[0m\u001b[0m\n\u001b[1;32m    495\u001b[0m             \u001b[0;32mreturn\u001b[0m \u001b[0mself\u001b[0m\u001b[0;34m\u001b[0m\u001b[0;34m\u001b[0m\u001b[0m\n",
      "\u001b[0;32m/opt/conda/lib/python3.7/site-packages/sklearn/preprocessing/_encoders.py\u001b[0m in \u001b[0;36m_fit\u001b[0;34m(self, X, handle_unknown)\u001b[0m\n\u001b[1;32m     78\u001b[0m \u001b[0;34m\u001b[0m\u001b[0m\n\u001b[1;32m     79\u001b[0m     \u001b[0;32mdef\u001b[0m \u001b[0m_fit\u001b[0m\u001b[0;34m(\u001b[0m\u001b[0mself\u001b[0m\u001b[0;34m,\u001b[0m \u001b[0mX\u001b[0m\u001b[0;34m,\u001b[0m \u001b[0mhandle_unknown\u001b[0m\u001b[0;34m=\u001b[0m\u001b[0;34m'error'\u001b[0m\u001b[0;34m)\u001b[0m\u001b[0;34m:\u001b[0m\u001b[0;34m\u001b[0m\u001b[0;34m\u001b[0m\u001b[0m\n\u001b[0;32m---> 80\u001b[0;31m         \u001b[0mX_list\u001b[0m\u001b[0;34m,\u001b[0m \u001b[0mn_samples\u001b[0m\u001b[0;34m,\u001b[0m \u001b[0mn_features\u001b[0m \u001b[0;34m=\u001b[0m \u001b[0mself\u001b[0m\u001b[0;34m.\u001b[0m\u001b[0m_check_X\u001b[0m\u001b[0;34m(\u001b[0m\u001b[0mX\u001b[0m\u001b[0;34m)\u001b[0m\u001b[0;34m\u001b[0m\u001b[0;34m\u001b[0m\u001b[0m\n\u001b[0m\u001b[1;32m     81\u001b[0m \u001b[0;34m\u001b[0m\u001b[0m\n\u001b[1;32m     82\u001b[0m         \u001b[0;32mif\u001b[0m \u001b[0mself\u001b[0m\u001b[0;34m.\u001b[0m\u001b[0m_categories\u001b[0m \u001b[0;34m!=\u001b[0m \u001b[0;34m'auto'\u001b[0m\u001b[0;34m:\u001b[0m\u001b[0;34m\u001b[0m\u001b[0;34m\u001b[0m\u001b[0m\n",
      "\u001b[0;32m/opt/conda/lib/python3.7/site-packages/sklearn/preprocessing/_encoders.py\u001b[0m in \u001b[0;36m_check_X\u001b[0;34m(self, X)\u001b[0m\n\u001b[1;32m     65\u001b[0m             \u001b[0mXi\u001b[0m \u001b[0;34m=\u001b[0m \u001b[0mself\u001b[0m\u001b[0;34m.\u001b[0m\u001b[0m_get_feature\u001b[0m\u001b[0;34m(\u001b[0m\u001b[0mX\u001b[0m\u001b[0;34m,\u001b[0m \u001b[0mfeature_idx\u001b[0m\u001b[0;34m=\u001b[0m\u001b[0mi\u001b[0m\u001b[0;34m)\u001b[0m\u001b[0;34m\u001b[0m\u001b[0;34m\u001b[0m\u001b[0m\n\u001b[1;32m     66\u001b[0m             Xi = check_array(Xi, ensure_2d=False, dtype=None,\n\u001b[0;32m---> 67\u001b[0;31m                              force_all_finite=needs_validation)\n\u001b[0m\u001b[1;32m     68\u001b[0m             \u001b[0mX_columns\u001b[0m\u001b[0;34m.\u001b[0m\u001b[0mappend\u001b[0m\u001b[0;34m(\u001b[0m\u001b[0mXi\u001b[0m\u001b[0;34m)\u001b[0m\u001b[0;34m\u001b[0m\u001b[0;34m\u001b[0m\u001b[0m\n\u001b[1;32m     69\u001b[0m \u001b[0;34m\u001b[0m\u001b[0m\n",
      "\u001b[0;32m/opt/conda/lib/python3.7/site-packages/sklearn/utils/validation.py\u001b[0m in \u001b[0;36mcheck_array\u001b[0;34m(array, accept_sparse, accept_large_sparse, dtype, order, copy, force_all_finite, ensure_2d, allow_nd, ensure_min_samples, ensure_min_features, warn_on_dtype, estimator)\u001b[0m\n\u001b[1;32m    494\u001b[0m             \u001b[0;32mtry\u001b[0m\u001b[0;34m:\u001b[0m\u001b[0;34m\u001b[0m\u001b[0;34m\u001b[0m\u001b[0m\n\u001b[1;32m    495\u001b[0m                 \u001b[0mwarnings\u001b[0m\u001b[0;34m.\u001b[0m\u001b[0msimplefilter\u001b[0m\u001b[0;34m(\u001b[0m\u001b[0;34m'error'\u001b[0m\u001b[0;34m,\u001b[0m \u001b[0mComplexWarning\u001b[0m\u001b[0;34m)\u001b[0m\u001b[0;34m\u001b[0m\u001b[0;34m\u001b[0m\u001b[0m\n\u001b[0;32m--> 496\u001b[0;31m                 \u001b[0marray\u001b[0m \u001b[0;34m=\u001b[0m \u001b[0mnp\u001b[0m\u001b[0;34m.\u001b[0m\u001b[0masarray\u001b[0m\u001b[0;34m(\u001b[0m\u001b[0marray\u001b[0m\u001b[0;34m,\u001b[0m \u001b[0mdtype\u001b[0m\u001b[0;34m=\u001b[0m\u001b[0mdtype\u001b[0m\u001b[0;34m,\u001b[0m \u001b[0morder\u001b[0m\u001b[0;34m=\u001b[0m\u001b[0morder\u001b[0m\u001b[0;34m)\u001b[0m\u001b[0;34m\u001b[0m\u001b[0;34m\u001b[0m\u001b[0m\n\u001b[0m\u001b[1;32m    497\u001b[0m             \u001b[0;32mexcept\u001b[0m \u001b[0mComplexWarning\u001b[0m\u001b[0;34m:\u001b[0m\u001b[0;34m\u001b[0m\u001b[0;34m\u001b[0m\u001b[0m\n\u001b[1;32m    498\u001b[0m                 raise ValueError(\"Complex data not supported\\n\"\n",
      "\u001b[0;32m/opt/conda/lib/python3.7/site-packages/numpy/core/_asarray.py\u001b[0m in \u001b[0;36masarray\u001b[0;34m(a, dtype, order)\u001b[0m\n\u001b[1;32m     83\u001b[0m \u001b[0;34m\u001b[0m\u001b[0m\n\u001b[1;32m     84\u001b[0m     \"\"\"\n\u001b[0;32m---> 85\u001b[0;31m     \u001b[0;32mreturn\u001b[0m \u001b[0marray\u001b[0m\u001b[0;34m(\u001b[0m\u001b[0ma\u001b[0m\u001b[0;34m,\u001b[0m \u001b[0mdtype\u001b[0m\u001b[0;34m,\u001b[0m \u001b[0mcopy\u001b[0m\u001b[0;34m=\u001b[0m\u001b[0;32mFalse\u001b[0m\u001b[0;34m,\u001b[0m \u001b[0morder\u001b[0m\u001b[0;34m=\u001b[0m\u001b[0morder\u001b[0m\u001b[0;34m)\u001b[0m\u001b[0;34m\u001b[0m\u001b[0;34m\u001b[0m\u001b[0m\n\u001b[0m\u001b[1;32m     86\u001b[0m \u001b[0;34m\u001b[0m\u001b[0m\n\u001b[1;32m     87\u001b[0m \u001b[0;34m\u001b[0m\u001b[0m\n",
      "\u001b[0;32m/opt/conda/lib/python3.7/site-packages/pandas/core/series.py\u001b[0m in \u001b[0;36m__array__\u001b[0;34m(self, dtype)\u001b[0m\n\u001b[1;32m    933\u001b[0m         if (\n\u001b[1;32m    934\u001b[0m             \u001b[0mdtype\u001b[0m \u001b[0;32mis\u001b[0m \u001b[0;32mNone\u001b[0m\u001b[0;34m\u001b[0m\u001b[0;34m\u001b[0m\u001b[0m\n\u001b[0;32m--> 935\u001b[0;31m             \u001b[0;32mand\u001b[0m \u001b[0misinstance\u001b[0m\u001b[0;34m(\u001b[0m\u001b[0mself\u001b[0m\u001b[0;34m.\u001b[0m\u001b[0marray\u001b[0m\u001b[0;34m,\u001b[0m \u001b[0mABCDatetimeArray\u001b[0m\u001b[0;34m)\u001b[0m\u001b[0;34m\u001b[0m\u001b[0;34m\u001b[0m\u001b[0m\n\u001b[0m\u001b[1;32m    936\u001b[0m             \u001b[0;32mand\u001b[0m \u001b[0mgetattr\u001b[0m\u001b[0;34m(\u001b[0m\u001b[0mself\u001b[0m\u001b[0;34m.\u001b[0m\u001b[0mdtype\u001b[0m\u001b[0;34m,\u001b[0m \u001b[0;34m\"tz\"\u001b[0m\u001b[0;34m,\u001b[0m \u001b[0;32mNone\u001b[0m\u001b[0;34m)\u001b[0m\u001b[0;34m\u001b[0m\u001b[0;34m\u001b[0m\u001b[0m\n\u001b[1;32m    937\u001b[0m         ):\n",
      "\u001b[0;32m/opt/conda/lib/python3.7/site-packages/pandas/core/base.py\u001b[0m in \u001b[0;36marray\u001b[0;34m(self)\u001b[0m\n\u001b[1;32m    910\u001b[0m             \u001b[0;32mfrom\u001b[0m \u001b[0mpandas\u001b[0m\u001b[0;34m.\u001b[0m\u001b[0mcore\u001b[0m\u001b[0;34m.\u001b[0m\u001b[0marrays\u001b[0m\u001b[0;34m.\u001b[0m\u001b[0mnumpy_\u001b[0m \u001b[0;32mimport\u001b[0m \u001b[0mPandasArray\u001b[0m\u001b[0;34m\u001b[0m\u001b[0;34m\u001b[0m\u001b[0m\n\u001b[1;32m    911\u001b[0m \u001b[0;34m\u001b[0m\u001b[0m\n\u001b[0;32m--> 912\u001b[0;31m             \u001b[0mresult\u001b[0m \u001b[0;34m=\u001b[0m \u001b[0mPandasArray\u001b[0m\u001b[0;34m(\u001b[0m\u001b[0mresult\u001b[0m\u001b[0;34m)\u001b[0m\u001b[0;34m\u001b[0m\u001b[0;34m\u001b[0m\u001b[0m\n\u001b[0m\u001b[1;32m    913\u001b[0m \u001b[0;34m\u001b[0m\u001b[0m\n\u001b[1;32m    914\u001b[0m         \u001b[0;32mreturn\u001b[0m \u001b[0mresult\u001b[0m\u001b[0;34m\u001b[0m\u001b[0;34m\u001b[0m\u001b[0m\n",
      "\u001b[0;32m/opt/conda/lib/python3.7/site-packages/pandas/core/arrays/numpy_.py\u001b[0m in \u001b[0;36m__init__\u001b[0;34m(self, values, copy)\u001b[0m\n\u001b[1;32m    133\u001b[0m \u001b[0;34m\u001b[0m\u001b[0m\n\u001b[1;32m    134\u001b[0m         \u001b[0mself\u001b[0m\u001b[0;34m.\u001b[0m\u001b[0m_ndarray\u001b[0m \u001b[0;34m=\u001b[0m \u001b[0mvalues\u001b[0m\u001b[0;34m\u001b[0m\u001b[0;34m\u001b[0m\u001b[0m\n\u001b[0;32m--> 135\u001b[0;31m         \u001b[0mself\u001b[0m\u001b[0;34m.\u001b[0m\u001b[0m_dtype\u001b[0m \u001b[0;34m=\u001b[0m \u001b[0mPandasDtype\u001b[0m\u001b[0;34m(\u001b[0m\u001b[0mvalues\u001b[0m\u001b[0;34m.\u001b[0m\u001b[0mdtype\u001b[0m\u001b[0;34m)\u001b[0m\u001b[0;34m\u001b[0m\u001b[0;34m\u001b[0m\u001b[0m\n\u001b[0m\u001b[1;32m    136\u001b[0m \u001b[0;34m\u001b[0m\u001b[0m\n\u001b[1;32m    137\u001b[0m     \u001b[0;34m@\u001b[0m\u001b[0mclassmethod\u001b[0m\u001b[0;34m\u001b[0m\u001b[0;34m\u001b[0m\u001b[0m\n",
      "\u001b[0;32m/opt/conda/lib/python3.7/site-packages/pandas/core/arrays/numpy_.py\u001b[0m in \u001b[0;36m__init__\u001b[0;34m(self, dtype)\u001b[0m\n\u001b[1;32m     40\u001b[0m         \u001b[0mdtype\u001b[0m \u001b[0;34m=\u001b[0m \u001b[0mnp\u001b[0m\u001b[0;34m.\u001b[0m\u001b[0mdtype\u001b[0m\u001b[0;34m(\u001b[0m\u001b[0mdtype\u001b[0m\u001b[0;34m)\u001b[0m\u001b[0;34m\u001b[0m\u001b[0;34m\u001b[0m\u001b[0m\n\u001b[1;32m     41\u001b[0m         \u001b[0mself\u001b[0m\u001b[0;34m.\u001b[0m\u001b[0m_dtype\u001b[0m \u001b[0;34m=\u001b[0m \u001b[0mdtype\u001b[0m\u001b[0;34m\u001b[0m\u001b[0;34m\u001b[0m\u001b[0m\n\u001b[0;32m---> 42\u001b[0;31m         \u001b[0mself\u001b[0m\u001b[0;34m.\u001b[0m\u001b[0m_name\u001b[0m \u001b[0;34m=\u001b[0m \u001b[0mdtype\u001b[0m\u001b[0;34m.\u001b[0m\u001b[0mname\u001b[0m\u001b[0;34m\u001b[0m\u001b[0;34m\u001b[0m\u001b[0m\n\u001b[0m\u001b[1;32m     43\u001b[0m         \u001b[0mself\u001b[0m\u001b[0;34m.\u001b[0m\u001b[0m_type\u001b[0m \u001b[0;34m=\u001b[0m \u001b[0mdtype\u001b[0m\u001b[0;34m.\u001b[0m\u001b[0mtype\u001b[0m\u001b[0;34m\u001b[0m\u001b[0;34m\u001b[0m\u001b[0m\n\u001b[1;32m     44\u001b[0m \u001b[0;34m\u001b[0m\u001b[0m\n",
      "\u001b[0;32m/opt/conda/lib/python3.7/site-packages/numpy/core/_dtype.py\u001b[0m in \u001b[0;36m_name_get\u001b[0;34m(dtype)\u001b[0m\n\u001b[1;32m    332\u001b[0m \u001b[0;34m\u001b[0m\u001b[0m\n\u001b[1;32m    333\u001b[0m     \u001b[0;31m# append bit counts to str, unicode, and void\u001b[0m\u001b[0;34m\u001b[0m\u001b[0;34m\u001b[0m\u001b[0;34m\u001b[0m\u001b[0m\n\u001b[0;32m--> 334\u001b[0;31m     \u001b[0;32mif\u001b[0m \u001b[0mnp\u001b[0m\u001b[0;34m.\u001b[0m\u001b[0missubdtype\u001b[0m\u001b[0;34m(\u001b[0m\u001b[0mdtype\u001b[0m\u001b[0;34m,\u001b[0m \u001b[0mnp\u001b[0m\u001b[0;34m.\u001b[0m\u001b[0mflexible\u001b[0m\u001b[0;34m)\u001b[0m \u001b[0;32mand\u001b[0m \u001b[0;32mnot\u001b[0m \u001b[0m_isunsized\u001b[0m\u001b[0;34m(\u001b[0m\u001b[0mdtype\u001b[0m\u001b[0;34m)\u001b[0m\u001b[0;34m:\u001b[0m\u001b[0;34m\u001b[0m\u001b[0;34m\u001b[0m\u001b[0m\n\u001b[0m\u001b[1;32m    335\u001b[0m         \u001b[0mname\u001b[0m \u001b[0;34m+=\u001b[0m \u001b[0;34m\"{}\"\u001b[0m\u001b[0;34m.\u001b[0m\u001b[0mformat\u001b[0m\u001b[0;34m(\u001b[0m\u001b[0mdtype\u001b[0m\u001b[0;34m.\u001b[0m\u001b[0mitemsize\u001b[0m \u001b[0;34m*\u001b[0m \u001b[0;36m8\u001b[0m\u001b[0;34m)\u001b[0m\u001b[0;34m\u001b[0m\u001b[0;34m\u001b[0m\u001b[0m\n\u001b[1;32m    336\u001b[0m \u001b[0;34m\u001b[0m\u001b[0m\n",
      "\u001b[0;32m/opt/conda/lib/python3.7/site-packages/numpy/core/numerictypes.py\u001b[0m in \u001b[0;36missubdtype\u001b[0;34m(arg1, arg2)\u001b[0m\n\u001b[1;32m    392\u001b[0m     \u001b[0;32mif\u001b[0m \u001b[0;32mnot\u001b[0m \u001b[0missubclass_\u001b[0m\u001b[0;34m(\u001b[0m\u001b[0marg1\u001b[0m\u001b[0;34m,\u001b[0m \u001b[0mgeneric\u001b[0m\u001b[0;34m)\u001b[0m\u001b[0;34m:\u001b[0m\u001b[0;34m\u001b[0m\u001b[0;34m\u001b[0m\u001b[0m\n\u001b[1;32m    393\u001b[0m         \u001b[0marg1\u001b[0m \u001b[0;34m=\u001b[0m \u001b[0mdtype\u001b[0m\u001b[0;34m(\u001b[0m\u001b[0marg1\u001b[0m\u001b[0;34m)\u001b[0m\u001b[0;34m.\u001b[0m\u001b[0mtype\u001b[0m\u001b[0;34m\u001b[0m\u001b[0;34m\u001b[0m\u001b[0m\n\u001b[0;32m--> 394\u001b[0;31m     \u001b[0;32mif\u001b[0m \u001b[0;32mnot\u001b[0m \u001b[0missubclass_\u001b[0m\u001b[0;34m(\u001b[0m\u001b[0marg2\u001b[0m\u001b[0;34m,\u001b[0m \u001b[0mgeneric\u001b[0m\u001b[0;34m)\u001b[0m\u001b[0;34m:\u001b[0m\u001b[0;34m\u001b[0m\u001b[0;34m\u001b[0m\u001b[0m\n\u001b[0m\u001b[1;32m    395\u001b[0m         \u001b[0marg2_orig\u001b[0m \u001b[0;34m=\u001b[0m \u001b[0marg2\u001b[0m\u001b[0;34m\u001b[0m\u001b[0;34m\u001b[0m\u001b[0m\n\u001b[1;32m    396\u001b[0m         \u001b[0marg2\u001b[0m \u001b[0;34m=\u001b[0m \u001b[0mdtype\u001b[0m\u001b[0;34m(\u001b[0m\u001b[0marg2\u001b[0m\u001b[0;34m)\u001b[0m\u001b[0;34m.\u001b[0m\u001b[0mtype\u001b[0m\u001b[0;34m\u001b[0m\u001b[0;34m\u001b[0m\u001b[0m\n",
      "\u001b[0;31mKeyboardInterrupt\u001b[0m: "
     ]
    }
   ],
   "source": [
    "accuracies = []\n",
    "for i in range(5):\n",
    "    grid, score = ML_pipeline_kfold_LogReg(df,y,i,5)\n",
    "    accuracies.append(score)\n",
    "    \n",
    "    print(grid.best_params_)\n",
    "print('Test Accuracy', np.around(np.mean(accuracies),2), '+/-', np.around(np.std(accuracies),2))    "
   ]
  },
  {
   "cell_type": "code",
   "execution_count": 39,
   "metadata": {},
   "outputs": [
    {
     "name": "stdout",
     "output_type": "stream",
     "text": [
      "Test Accuracy 0.86 +/- 0.01\n"
     ]
    }
   ],
   "source": [
    "print('Test Accuracy', np.around(np.mean(accuracies),2), '+/-', np.around(np.std(accuracies),2))    "
   ]
  },
  {
   "cell_type": "code",
   "execution_count": 90,
   "metadata": {},
   "outputs": [
    {
     "name": "stderr",
     "output_type": "stream",
     "text": [
      "/opt/conda/lib/python3.7/site-packages/sklearn/linear_model/sag.py:337: ConvergenceWarning: The max_iter was reached which means the coef_ did not converge\n",
      "  \"the coef_ did not converge\", ConvergenceWarning)\n"
     ]
    },
    {
     "data": {
      "text/plain": [
       "(1, 102)"
      ]
     },
     "execution_count": 90,
     "metadata": {},
     "output_type": "execute_result"
    }
   ],
   "source": [
    "X_other, X_test, y_other, y_test = train_test_split(df, y, test_size=0.2, random_state = 55)\n",
    "    # splitter for _other\n",
    "kf = KFold(n_splits=5,shuffle=True,random_state=55)\n",
    "    # create the pipeline: preprocessor + supervised ML method\n",
    "    \n",
    "lr = LogisticRegression(penalty = 'l1', solver = 'saga', max_iter = 1000, random_state=55, \\\n",
    "                        multi_class = 'auto')\n",
    "\n",
    "lr.fit(X_other, y_other)\n",
    "lr.predict(X_test)\n",
    "lr.coef_\n",
    "\n",
    "\n"
   ]
  },
  {
   "cell_type": "code",
   "execution_count": 97,
   "metadata": {},
   "outputs": [
    {
     "data": {
      "text/plain": [
       "[(6.002346840641011e-05, 'FB3C6_W35'),\n",
       " (7.165430107929209e-05, 'TC6B_W35'),\n",
       " (0.00012967879059705428, 'FB3C2_W35'),\n",
       " (0.00023635560631040926, 'SNSL_W35'),\n",
       " (0.0003447068341273205, 'FB3C4_W35'),\n",
       " (-0.00034767929284944537, 'FB3C3_W35'),\n",
       " (-0.00039025772677284414, 'FB3C1_W35'),\n",
       " (0.0004289589861817309, 'F_PARTY_FINAL'),\n",
       " (-0.0004343841974361149, 'SNSFRB_W35'),\n",
       " (-0.0005421206387579573, 'SM6A_W35'),\n",
       " (-0.0005468088537625863, 'SM7_W35'),\n",
       " (0.0005738939205777386, 'FB5C_W35'),\n",
       " (-0.0005768259729244754, 'F_INCOME_RECODE_FINAL'),\n",
       " (0.0005917854319640488, 'FB3A_W35'),\n",
       " (-0.0007462725637636819, 'FB3C5_W35'),\n",
       " (0.0008393309029308678, 'F_PARTYSUM_FINAL'),\n",
       " (-0.0008910653266153016, 'SM9B_W35'),\n",
       " (-0.0008913497219062722, 'SNSFRA_W35'),\n",
       " (-0.0009448001584138647, 'F_INTUSER_FINAL'),\n",
       " (-0.0010841360638064975, 'FB4A_W35'),\n",
       " (0.0012236483627310654, 'FB5D_W35'),\n",
       " (-0.0012266877783708946, 'F_EDUCCAT2_FINAL'),\n",
       " (0.0012923513888307256, 'F_MARITAL_FINAL'),\n",
       " (-0.001308928553170487, 'SNSA_W35'),\n",
       " (-0.0013099038962073174, 'SNSH_W35'),\n",
       " (-0.001388444973281091, 'F_SEX_FINAL'),\n",
       " (-0.0014616012055111303, 'F_HISP_RECRUITMENT'),\n",
       " (-0.0014861472243300005, 'TC2B_W35'),\n",
       " (-0.0014899923275087197, 'FORM_W35'),\n",
       " (-0.0016171165597753893, 'TC2C_W35'),\n",
       " (-0.0016459785176076611, 'F_REG_FINAL'),\n",
       " (-0.0016495534565587112, 'SM6B_W35'),\n",
       " (0.0016842202021321018, 'F_RELIG_FINAL'),\n",
       " (0.0017686287934993558, 'FB5B_W35'),\n",
       " (-0.0018798974124047316, 'TC3C_W35'),\n",
       " (-0.0019738827103915188, 'ALG1_W35'),\n",
       " (0.002151336345907721, 'F_RACECMB_RECRUITMENT'),\n",
       " (-0.0023464634782436023, 'F_CREGION_FINAL'),\n",
       " (-0.002347394579160101, 'TC3A_W35'),\n",
       " (-0.002353660292364987, 'F_INCOME_FINAL'),\n",
       " (-0.0023578818938888983, 'SM9E_W35'),\n",
       " (-0.0024119251850512028, 'FB4B_W35'),\n",
       " (-0.0024967833082948517, 'FB1_W35'),\n",
       " (0.0026366898877726408, 'F_RACETHN_RECRUITMENT'),\n",
       " (0.00266333994581385, 'FB5A_W35'),\n",
       " (0.0027685688567908027, 'SNSJ_W35'),\n",
       " (-0.0029045224374114947, 'SM8A_W35'),\n",
       " (-0.002984142368773929, 'TC5_W35'),\n",
       " (-0.003029143720586045, 'TC3B_W35'),\n",
       " (-0.00351921958961413, 'TC4_W35'),\n",
       " (0.0035659696358847394, 'FB3B_W35'),\n",
       " (-0.00361201055027617, 'FB2_W35'),\n",
       " (-0.003646605795121249, 'SM8B_W35'),\n",
       " (-0.0036893696222174434, 'SM8C_W35'),\n",
       " (-0.0039372693333490725, 'SM3_W35'),\n",
       " (0.00404430829277966, 'F_IDEO_FINAL'),\n",
       " (-0.004114032368344876, 'SM11_W35'),\n",
       " (-0.004244468521833964, 'F_EDUCCAT_FINAL'),\n",
       " (-0.004641913849264809, 'SM2A_W35'),\n",
       " (-0.004714076721324693, 'TC2A_W35'),\n",
       " (-0.004747914806243376, 'TC6A_W35'),\n",
       " (-0.004751492239043223, 'SM2B_W35'),\n",
       " (-0.004885015997869427, 'SM4D_W35'),\n",
       " (-0.004885828397838138, 'SM5B_W35'),\n",
       " (0.005063392450910928, 'F_CITIZEN_RECODE_FINAL'),\n",
       " (0.005114989756682787, 'SNSE_W35'),\n",
       " (-0.005193973140744968, 'SM2D_W35'),\n",
       " (-0.005835513374400826, 'SM1C_W35'),\n",
       " (-0.005844387474780949, 'Device_Type_W35'),\n",
       " (-0.006003183166573048, 'SM5A_W35'),\n",
       " (-0.0060209005211286065, 'SM4A_W35'),\n",
       " (-0.00613108043728499, 'F_ATTEND_FINAL'),\n",
       " (-0.00661279968038656, 'SM4C_W35'),\n",
       " (0.006904280312445886, 'SNSB_W35'),\n",
       " (-0.007001227705470283, 'SM2C_W35'),\n",
       " (-0.007233799102221083, 'SM14C_W35'),\n",
       " (-0.008322796186773946, 'SM1D_W35'),\n",
       " (-0.008332994430979788, 'SM14B_W35'),\n",
       " (-0.008501620767701855, 'SM1A_W35'),\n",
       " (-0.008578051853874127, 'SM1B_W35'),\n",
       " (-0.008611310923852134, 'SM9A_W35'),\n",
       " (-0.008710481074009171, 'SM4B_W35'),\n",
       " (-0.00879209794420843, 'SM9D_W35'),\n",
       " (-0.008843064747018419, 'SM1F_W35'),\n",
       " (-0.008964191627803191, 'SM1E_W35'),\n",
       " (-0.008979941391097495, 'SM5C_W35'),\n",
       " (-0.009083554893338902, 'SM14D_W35'),\n",
       " (-0.009101312780343682, 'SM13B_W35'),\n",
       " (-0.009402281034421473, 'SM5D_W35'),\n",
       " (-0.00951090073303188, 'SM10A_W35'),\n",
       " (-0.0098354931653905, 'SM13A_W35'),\n",
       " (-0.009849209610555125, 'SM10C_W35'),\n",
       " (-0.010058498225319082, 'SM14A_W35'),\n",
       " (-0.010451431975578317, 'SM10E_W35'),\n",
       " (-0.010598221954289846, 'SM9C_W35'),\n",
       " (-0.01091372861654957, 'F_AGECAT_FINAL'),\n",
       " (-0.011804854377600286, 'SM10D_W35'),\n",
       " (-0.012267170713134714, 'SM13C_W35'),\n",
       " (-0.012360760032273923, 'LANGUAGE_W35'),\n",
       " (-0.019494565860078084, 'SM12A_W35'),\n",
       " (-0.021585384642468803, 'SM12C_W35'),\n",
       " (-0.021710858371916556, 'SM12B_W35')]"
      ]
     },
     "execution_count": 97,
     "metadata": {},
     "output_type": "execute_result"
    }
   ],
   "source": [
    "#create a list of the coefficients paired with the column names, and sort it\n",
    "sorted(list(zip(lr.coef_[0].tolist(),list(df.columns))), key=lambda x:abs(x[0]))"
   ]
  },
  {
   "cell_type": "code",
   "execution_count": 35,
   "metadata": {},
   "outputs": [],
   "source": [
    "# preprocess with pipeline and columntransformer\n",
    "from sklearn.model_selection import GridSearchCV\n",
    "from sklearn.pipeline import make_pipeline\n",
    "from sklearn.metrics import make_scorer\n",
    "from sklearn.model_selection import train_test_split\n",
    "from sklearn.model_selection import KFold\n",
    "from sklearn.preprocessing import StandardScaler\n",
    "from sklearn.linear_model import Ridge\n",
    "from sklearn.metrics import mean_squared_error\n",
    "import matplotlib.pyplot as plt\n",
    "import matplotlib\n",
    "from sklearn.preprocessing import OneHotEncoder\n",
    "from sklearn.preprocessing import StandardScaler\n",
    "from sklearn.compose import ColumnTransformer\n",
    "from sklearn.linear_model import LogisticRegression\n",
    "from sklearn.metrics import accuracy_score\n",
    "from sklearn.pipeline import Pipeline\n",
    "from sklearn.preprocessing import OneHotEncoder\n",
    "from sklearn.preprocessing import OrdinalEncoder\n",
    "\n",
    "from sklearn.ensemble import RandomForestClassifier\n",
    "\n",
    "def ML_pipeline_kfold_RF(X,y,random_state,n_folds):\n",
    "    # create a test set\n",
    "    X_other, X_test, y_other, y_test = train_test_split(X, y, test_size=0.2, random_state = random_state)\n",
    "    # splitter for _other\n",
    "    kf = KFold(n_splits=n_folds,shuffle=True,random_state=random_state)\n",
    "    # create the pipeline: preprocessor + supervised ML method\n",
    "    \n",
    "    # one-hot encoder\n",
    "    categorical_transformer = OneHotEncoder(sparse=False, categories = 'auto', handle_unknown = 'ignore')\n",
    "    \n",
    "    #ordinal - use onehot to account for the fact that 999 is rare \n",
    "    ordinal_transformer_1 = OneHotEncoder(categories = ord_cat_1, handle_unknown = 'ignore')\n",
    "    ordinal_transformer_2 = OneHotEncoder(categories = ord_cat_2, handle_unknown = 'ignore')\n",
    "    ordinal_transformer_3 = OneHotEncoder(categories = ord_cat_3, handle_unknown = 'ignore')\n",
    "    ordinal_transformer_4 = OneHotEncoder(categories = ord_cat_4, handle_unknown = 'ignore')\n",
    "\n",
    "\n",
    "    # collect the transformers - use indices\n",
    "    preprocessor = ColumnTransformer(\n",
    "    transformers=[\n",
    "        ('ohe1', categorical_transformer, oh_index),\n",
    "        ('ohe2', categorical_transformer, demo_index),\n",
    "        ('ord1', ordinal_transformer_1, ord_index_1),\n",
    "        ('ord2', ordinal_transformer_2, ord_index_2),\n",
    "        ('ord3', ordinal_transformer_3, ord_index_3),\n",
    "        ('ord4', ordinal_transformer_4, ord_index_4)], remainder = 'passthrough')\n",
    "      \n",
    "    pipe = make_pipeline(preprocessor, RandomForestClassifier(n_estimators=1, random_state=random_state))\n",
    "    # the parameter(s) we want to tune\n",
    "    param_grid = {'randomforestclassifier__max_depth': list(range(1,10)), \n",
    "                  'randomforestclassifier__min_samples_split': list(range(2,20))} \n",
    "    # prepare gridsearch\n",
    "    grid = GridSearchCV(pipe, param_grid=param_grid,scoring = make_scorer(accuracy_score,greater_is_better=True),\n",
    "                        cv=kf, return_train_score = True, iid=True)\n",
    "    # do kfold CV on _other\n",
    "    grid.fit(X_other, y_other)\n",
    "    return grid, grid.score(X_test, y_test)"
   ]
  },
  {
   "cell_type": "code",
   "execution_count": 38,
   "metadata": {},
   "outputs": [
    {
     "ename": "NameError",
     "evalue": "name 'results' is not defined",
     "output_type": "error",
     "traceback": [
      "\u001b[0;31m---------------------------------------------------------------------------\u001b[0m",
      "\u001b[0;31mNameError\u001b[0m                                 Traceback (most recent call last)",
      "\u001b[0;32m<ipython-input-38-509b301d9899>\u001b[0m in \u001b[0;36m<module>\u001b[0;34m\u001b[0m\n\u001b[1;32m      1\u001b[0m \u001b[0mML_pipeline_kfold_RF\u001b[0m\u001b[0;34m(\u001b[0m\u001b[0mdf\u001b[0m\u001b[0;34m,\u001b[0m\u001b[0my\u001b[0m\u001b[0;34m,\u001b[0m\u001b[0;36m55\u001b[0m\u001b[0;34m,\u001b[0m\u001b[0;36m5\u001b[0m\u001b[0;34m)\u001b[0m\u001b[0;34m\u001b[0m\u001b[0;34m\u001b[0m\u001b[0m\n\u001b[1;32m      2\u001b[0m \u001b[0mresults_RF\u001b[0m \u001b[0;34m=\u001b[0m \u001b[0mpd\u001b[0m\u001b[0;34m.\u001b[0m\u001b[0mDataFrame\u001b[0m\u001b[0;34m(\u001b[0m\u001b[0mgrid\u001b[0m\u001b[0;34m.\u001b[0m\u001b[0mcv_results_\u001b[0m\u001b[0;34m)\u001b[0m\u001b[0;34m\u001b[0m\u001b[0;34m\u001b[0m\u001b[0m\n\u001b[0;32m----> 3\u001b[0;31m \u001b[0mprint\u001b[0m\u001b[0;34m(\u001b[0m\u001b[0;34m'CV accuracy'\u001b[0m\u001b[0;34m,\u001b[0m \u001b[0mnp\u001b[0m\u001b[0;34m.\u001b[0m\u001b[0maround\u001b[0m\u001b[0;34m(\u001b[0m\u001b[0mresults\u001b[0m\u001b[0;34m[\u001b[0m\u001b[0mresults\u001b[0m\u001b[0;34m[\u001b[0m\u001b[0;34m'rank_test_score'\u001b[0m\u001b[0;34m]\u001b[0m\u001b[0;34m==\u001b[0m\u001b[0;36m1\u001b[0m\u001b[0;34m]\u001b[0m\u001b[0;34m[\u001b[0m\u001b[0;34m'mean_test_score'\u001b[0m\u001b[0;34m]\u001b[0m\u001b[0;34m.\u001b[0m\u001b[0mvalues\u001b[0m\u001b[0;34m[\u001b[0m\u001b[0;36m0\u001b[0m\u001b[0;34m]\u001b[0m\u001b[0;34m,\u001b[0m\u001b[0;36m2\u001b[0m\u001b[0;34m)\u001b[0m\u001b[0;34m,\u001b[0m \u001b[0;34m'+/-'\u001b[0m\u001b[0;34m,\u001b[0m\u001b[0mnp\u001b[0m\u001b[0;34m.\u001b[0m\u001b[0maround\u001b[0m\u001b[0;34m(\u001b[0m\u001b[0mresults\u001b[0m\u001b[0;34m[\u001b[0m\u001b[0mresults\u001b[0m\u001b[0;34m[\u001b[0m\u001b[0;34m'rank_test_score'\u001b[0m\u001b[0;34m]\u001b[0m\u001b[0;34m==\u001b[0m\u001b[0;36m1\u001b[0m\u001b[0;34m]\u001b[0m\u001b[0;34m[\u001b[0m\u001b[0;34m'std_test_score'\u001b[0m\u001b[0;34m]\u001b[0m\u001b[0;34m.\u001b[0m\u001b[0mvalues\u001b[0m\u001b[0;34m[\u001b[0m\u001b[0;36m0\u001b[0m\u001b[0;34m]\u001b[0m\u001b[0;34m,\u001b[0m\u001b[0;36m2\u001b[0m\u001b[0;34m)\u001b[0m\u001b[0;34m)\u001b[0m\u001b[0;34m\u001b[0m\u001b[0;34m\u001b[0m\u001b[0m\n\u001b[0m",
      "\u001b[0;31mNameError\u001b[0m: name 'results' is not defined"
     ]
    }
   ],
   "source": [
    "ML_pipeline_kfold_RF(df,y,55,5)\n",
    "results_RF = pd.DataFrame(grid.cv_results_)\n"
   ]
  },
  {
   "cell_type": "code",
   "execution_count": 39,
   "metadata": {},
   "outputs": [
    {
     "name": "stdout",
     "output_type": "stream",
     "text": [
      "CV accuracy 0.85 +/- 0.01\n"
     ]
    }
   ],
   "source": [
    "print('CV accuracy', np.around(results_RF[results_RF['rank_test_score']==1]['mean_test_score'].values[0],2), '+/-',np.around(results_RF[results_RF['rank_test_score']==1]['std_test_score'].values[0],2))\n"
   ]
  },
  {
   "cell_type": "code",
   "execution_count": 37,
   "metadata": {},
   "outputs": [
    {
     "name": "stdout",
     "output_type": "stream",
     "text": [
      "{'randomforestclassifier__max_depth': 2, 'randomforestclassifier__min_samples_split': 2}\n",
      "{'randomforestclassifier__max_depth': 3, 'randomforestclassifier__min_samples_split': 2}\n",
      "{'randomforestclassifier__max_depth': 4, 'randomforestclassifier__min_samples_split': 8}\n",
      "{'randomforestclassifier__max_depth': 5, 'randomforestclassifier__min_samples_split': 3}\n",
      "{'randomforestclassifier__max_depth': 4, 'randomforestclassifier__min_samples_split': 19}\n",
      "{'randomforestclassifier__max_depth': 2, 'randomforestclassifier__min_samples_split': 2}\n",
      "{'randomforestclassifier__max_depth': 4, 'randomforestclassifier__min_samples_split': 8}\n",
      "Test Accuracy 0.84 +/- 0.02\n"
     ]
    }
   ],
   "source": [
    "accuracies_RF = []\n",
    "for i in range(7):\n",
    "    grid, score = ML_pipeline_kfold_RF(df,y,i,5)\n",
    "    accuracies_RF.append(score)\n",
    "    print(grid.best_params_)\n",
    "print('Test Accuracy', np.around(np.mean(accuracies_RF),2), '+/-', np.around(np.std(accuracies_RF),2)) \n"
   ]
  },
  {
   "cell_type": "code",
   "execution_count": 28,
   "metadata": {},
   "outputs": [],
   "source": [
    "from sklearn.model_selection import GridSearchCV\n",
    "from sklearn.pipeline import make_pipeline\n",
    "from sklearn.metrics import make_scorer\n",
    "from sklearn.model_selection import train_test_split\n",
    "from sklearn.model_selection import KFold\n",
    "from sklearn.preprocessing import StandardScaler\n",
    "from sklearn.linear_model import Ridge\n",
    "from sklearn.metrics import mean_squared_error\n",
    "import matplotlib.pyplot as plt\n",
    "import matplotlib\n",
    "from sklearn.preprocessing import OneHotEncoder\n",
    "from sklearn.preprocessing import StandardScaler\n",
    "from sklearn.compose import ColumnTransformer\n",
    "from sklearn.linear_model import LogisticRegression\n",
    "from sklearn.metrics import accuracy_score\n",
    "from sklearn.pipeline import Pipeline\n",
    "from sklearn.preprocessing import OneHotEncoder\n",
    "from sklearn.preprocessing import OrdinalEncoder\n",
    "\n",
    "from sklearn.svm import SVC\n",
    "\n",
    "def ML_pipeline_kfold_SVC(X,y,random_state,n_folds):\n",
    "    # create a test set\n",
    "    X_other, X_test, y_other, y_test = train_test_split(X, y, test_size=0.2, random_state = random_state)\n",
    "    # splitter for _other\n",
    "    kf = KFold(n_splits=n_folds,shuffle=True,random_state=random_state)\n",
    "    # create the pipeline: preprocessor + supervised ML method\n",
    "    \n",
    "    # one-hot encoder\n",
    "    categorical_transformer = OneHotEncoder(sparse=False, categories = 'auto', handle_unknown = 'ignore')\n",
    "    \n",
    "    #ordinal - use onehot to account for the fact that 999 is rare \n",
    "    ordinal_transformer_1 = OneHotEncoder(categories = ord_cat_1, handle_unknown = 'ignore')\n",
    "    ordinal_transformer_2 = OneHotEncoder(categories = ord_cat_2, handle_unknown = 'ignore')\n",
    "    ordinal_transformer_3 = OneHotEncoder(categories = ord_cat_3, handle_unknown = 'ignore')\n",
    "    ordinal_transformer_4 = OneHotEncoder(categories = ord_cat_4, handle_unknown = 'ignore')\n",
    "\n",
    "\n",
    "    # collect the transformers - use indices\n",
    "    preprocessor = ColumnTransformer(\n",
    "    transformers=[\n",
    "        ('ohe1', categorical_transformer, oh_index),\n",
    "        ('ohe2', categorical_transformer, demo_index),\n",
    "        ('ord1', ordinal_transformer_1, ord_index_1),\n",
    "        ('ord2', ordinal_transformer_2, ord_index_2),\n",
    "        ('ord3', ordinal_transformer_3, ord_index_3),\n",
    "        ('ord4', ordinal_transformer_4, ord_index_4)], remainder = 'passthrough')\n",
    "      \n",
    "    pipe = make_pipeline(preprocessor, SVC(probability = True, random_state=random_state))\n",
    "    # the parameter(s) we want to tune\n",
    "    param_grid = {'svc__gamma': np.logspace(-2, 2, num=10), \n",
    "                  'svc__C': np.logspace(0,3, num=10)} \n",
    "    # prepare gridsearch\n",
    "    grid = GridSearchCV(pipe, param_grid=param_grid,scoring = make_scorer(accuracy_score,greater_is_better=True),\n",
    "                        cv=kf, return_train_score = True, iid=True)\n",
    "    # do kfold CV on _other\n",
    "    grid.fit(X_other, y_other)\n",
    "    return grid, grid.score(X_test, y_test)"
   ]
  },
  {
   "cell_type": "code",
   "execution_count": 29,
   "metadata": {
    "collapsed": true,
    "jupyter": {
     "outputs_hidden": true
    }
   },
   "outputs": [
    {
     "ename": "KeyboardInterrupt",
     "evalue": "",
     "output_type": "error",
     "traceback": [
      "\u001b[0;31m---------------------------------------------------------------------------\u001b[0m",
      "\u001b[0;31mKeyboardInterrupt\u001b[0m                         Traceback (most recent call last)",
      "\u001b[0;32m<ipython-input-29-be6299178421>\u001b[0m in \u001b[0;36m<module>\u001b[0;34m\u001b[0m\n\u001b[0;32m----> 1\u001b[0;31m \u001b[0mgrid\u001b[0m\u001b[0;34m,\u001b[0m \u001b[0mscore\u001b[0m \u001b[0;34m=\u001b[0m \u001b[0mML_pipeline_kfold_SVC\u001b[0m\u001b[0;34m(\u001b[0m\u001b[0mdf\u001b[0m\u001b[0;34m,\u001b[0m\u001b[0my\u001b[0m\u001b[0;34m,\u001b[0m\u001b[0;36m55\u001b[0m\u001b[0;34m,\u001b[0m\u001b[0;36m5\u001b[0m\u001b[0;34m)\u001b[0m\u001b[0;34m\u001b[0m\u001b[0;34m\u001b[0m\u001b[0m\n\u001b[0m\u001b[1;32m      2\u001b[0m \u001b[0mresults_svc\u001b[0m \u001b[0;34m=\u001b[0m \u001b[0mpd\u001b[0m\u001b[0;34m.\u001b[0m\u001b[0mDataFrame\u001b[0m\u001b[0;34m(\u001b[0m\u001b[0mgrid\u001b[0m\u001b[0;34m.\u001b[0m\u001b[0mcv_results_\u001b[0m\u001b[0;34m)\u001b[0m\u001b[0;34m\u001b[0m\u001b[0;34m\u001b[0m\u001b[0m\n\u001b[1;32m      3\u001b[0m \u001b[0mprint\u001b[0m\u001b[0;34m(\u001b[0m\u001b[0;34m'CV accuracy'\u001b[0m\u001b[0;34m,\u001b[0m \u001b[0mnp\u001b[0m\u001b[0;34m.\u001b[0m\u001b[0maround\u001b[0m\u001b[0;34m(\u001b[0m\u001b[0mresults_svc\u001b[0m\u001b[0;34m[\u001b[0m\u001b[0mresults_svc\u001b[0m\u001b[0;34m[\u001b[0m\u001b[0;34m'rank_test_score'\u001b[0m\u001b[0;34m]\u001b[0m\u001b[0;34m==\u001b[0m\u001b[0;36m1\u001b[0m\u001b[0;34m]\u001b[0m\u001b[0;34m[\u001b[0m\u001b[0;34m'mean_test_score'\u001b[0m\u001b[0;34m]\u001b[0m\u001b[0;34m.\u001b[0m\u001b[0mvalues\u001b[0m\u001b[0;34m[\u001b[0m\u001b[0;36m0\u001b[0m\u001b[0;34m]\u001b[0m\u001b[0;34m,\u001b[0m\u001b[0;36m2\u001b[0m\u001b[0;34m)\u001b[0m\u001b[0;34m,\u001b[0m \u001b[0;34m'+/-'\u001b[0m\u001b[0;34m,\u001b[0m\u001b[0mnp\u001b[0m\u001b[0;34m.\u001b[0m\u001b[0maround\u001b[0m\u001b[0;34m(\u001b[0m\u001b[0mresults_svc\u001b[0m\u001b[0;34m[\u001b[0m\u001b[0mresults_svc\u001b[0m\u001b[0;34m[\u001b[0m\u001b[0;34m'rank_test_score'\u001b[0m\u001b[0;34m]\u001b[0m\u001b[0;34m==\u001b[0m\u001b[0;36m1\u001b[0m\u001b[0;34m]\u001b[0m\u001b[0;34m[\u001b[0m\u001b[0;34m'std_test_score'\u001b[0m\u001b[0;34m]\u001b[0m\u001b[0;34m.\u001b[0m\u001b[0mvalues\u001b[0m\u001b[0;34m[\u001b[0m\u001b[0;36m0\u001b[0m\u001b[0;34m]\u001b[0m\u001b[0;34m,\u001b[0m\u001b[0;36m2\u001b[0m\u001b[0;34m)\u001b[0m\u001b[0;34m)\u001b[0m\u001b[0;34m\u001b[0m\u001b[0;34m\u001b[0m\u001b[0m\n",
      "\u001b[0;32m<ipython-input-28-13abee5726f3>\u001b[0m in \u001b[0;36mML_pipeline_kfold_SVC\u001b[0;34m(X, y, random_state, n_folds)\u001b[0m\n\u001b[1;32m     55\u001b[0m                         cv=kf, return_train_score = True, iid=True)\n\u001b[1;32m     56\u001b[0m     \u001b[0;31m# do kfold CV on _other\u001b[0m\u001b[0;34m\u001b[0m\u001b[0;34m\u001b[0m\u001b[0;34m\u001b[0m\u001b[0m\n\u001b[0;32m---> 57\u001b[0;31m     \u001b[0mgrid\u001b[0m\u001b[0;34m.\u001b[0m\u001b[0mfit\u001b[0m\u001b[0;34m(\u001b[0m\u001b[0mX_other\u001b[0m\u001b[0;34m,\u001b[0m \u001b[0my_other\u001b[0m\u001b[0;34m)\u001b[0m\u001b[0;34m\u001b[0m\u001b[0;34m\u001b[0m\u001b[0m\n\u001b[0m\u001b[1;32m     58\u001b[0m     \u001b[0;32mreturn\u001b[0m \u001b[0mgrid\u001b[0m\u001b[0;34m,\u001b[0m \u001b[0mgrid\u001b[0m\u001b[0;34m.\u001b[0m\u001b[0mscore\u001b[0m\u001b[0;34m(\u001b[0m\u001b[0mX_test\u001b[0m\u001b[0;34m,\u001b[0m \u001b[0my_test\u001b[0m\u001b[0;34m)\u001b[0m\u001b[0;34m\u001b[0m\u001b[0;34m\u001b[0m\u001b[0m\n",
      "\u001b[0;32m/opt/conda/lib/python3.7/site-packages/sklearn/model_selection/_search.py\u001b[0m in \u001b[0;36mfit\u001b[0;34m(self, X, y, groups, **fit_params)\u001b[0m\n\u001b[1;32m    686\u001b[0m                 \u001b[0;32mreturn\u001b[0m \u001b[0mresults\u001b[0m\u001b[0;34m\u001b[0m\u001b[0;34m\u001b[0m\u001b[0m\n\u001b[1;32m    687\u001b[0m \u001b[0;34m\u001b[0m\u001b[0m\n\u001b[0;32m--> 688\u001b[0;31m             \u001b[0mself\u001b[0m\u001b[0;34m.\u001b[0m\u001b[0m_run_search\u001b[0m\u001b[0;34m(\u001b[0m\u001b[0mevaluate_candidates\u001b[0m\u001b[0;34m)\u001b[0m\u001b[0;34m\u001b[0m\u001b[0;34m\u001b[0m\u001b[0m\n\u001b[0m\u001b[1;32m    689\u001b[0m \u001b[0;34m\u001b[0m\u001b[0m\n\u001b[1;32m    690\u001b[0m         \u001b[0;31m# For multi-metric evaluation, store the best_index_, best_params_ and\u001b[0m\u001b[0;34m\u001b[0m\u001b[0;34m\u001b[0m\u001b[0;34m\u001b[0m\u001b[0m\n",
      "\u001b[0;32m/opt/conda/lib/python3.7/site-packages/sklearn/model_selection/_search.py\u001b[0m in \u001b[0;36m_run_search\u001b[0;34m(self, evaluate_candidates)\u001b[0m\n\u001b[1;32m   1147\u001b[0m     \u001b[0;32mdef\u001b[0m \u001b[0m_run_search\u001b[0m\u001b[0;34m(\u001b[0m\u001b[0mself\u001b[0m\u001b[0;34m,\u001b[0m \u001b[0mevaluate_candidates\u001b[0m\u001b[0;34m)\u001b[0m\u001b[0;34m:\u001b[0m\u001b[0;34m\u001b[0m\u001b[0;34m\u001b[0m\u001b[0m\n\u001b[1;32m   1148\u001b[0m         \u001b[0;34m\"\"\"Search all candidates in param_grid\"\"\"\u001b[0m\u001b[0;34m\u001b[0m\u001b[0;34m\u001b[0m\u001b[0m\n\u001b[0;32m-> 1149\u001b[0;31m         \u001b[0mevaluate_candidates\u001b[0m\u001b[0;34m(\u001b[0m\u001b[0mParameterGrid\u001b[0m\u001b[0;34m(\u001b[0m\u001b[0mself\u001b[0m\u001b[0;34m.\u001b[0m\u001b[0mparam_grid\u001b[0m\u001b[0;34m)\u001b[0m\u001b[0;34m)\u001b[0m\u001b[0;34m\u001b[0m\u001b[0;34m\u001b[0m\u001b[0m\n\u001b[0m\u001b[1;32m   1150\u001b[0m \u001b[0;34m\u001b[0m\u001b[0m\n\u001b[1;32m   1151\u001b[0m \u001b[0;34m\u001b[0m\u001b[0m\n",
      "\u001b[0;32m/opt/conda/lib/python3.7/site-packages/sklearn/model_selection/_search.py\u001b[0m in \u001b[0;36mevaluate_candidates\u001b[0;34m(candidate_params)\u001b[0m\n\u001b[1;32m    665\u001b[0m                                \u001b[0;32mfor\u001b[0m \u001b[0mparameters\u001b[0m\u001b[0;34m,\u001b[0m \u001b[0;34m(\u001b[0m\u001b[0mtrain\u001b[0m\u001b[0;34m,\u001b[0m \u001b[0mtest\u001b[0m\u001b[0;34m)\u001b[0m\u001b[0;34m\u001b[0m\u001b[0;34m\u001b[0m\u001b[0m\n\u001b[1;32m    666\u001b[0m                                in product(candidate_params,\n\u001b[0;32m--> 667\u001b[0;31m                                           cv.split(X, y, groups)))\n\u001b[0m\u001b[1;32m    668\u001b[0m \u001b[0;34m\u001b[0m\u001b[0m\n\u001b[1;32m    669\u001b[0m                 \u001b[0;32mif\u001b[0m \u001b[0mlen\u001b[0m\u001b[0;34m(\u001b[0m\u001b[0mout\u001b[0m\u001b[0;34m)\u001b[0m \u001b[0;34m<\u001b[0m \u001b[0;36m1\u001b[0m\u001b[0;34m:\u001b[0m\u001b[0;34m\u001b[0m\u001b[0;34m\u001b[0m\u001b[0m\n",
      "\u001b[0;32m/opt/conda/lib/python3.7/site-packages/joblib/parallel.py\u001b[0m in \u001b[0;36m__call__\u001b[0;34m(self, iterable)\u001b[0m\n\u001b[1;32m    922\u001b[0m                 \u001b[0mself\u001b[0m\u001b[0;34m.\u001b[0m\u001b[0m_iterating\u001b[0m \u001b[0;34m=\u001b[0m \u001b[0mself\u001b[0m\u001b[0;34m.\u001b[0m\u001b[0m_original_iterator\u001b[0m \u001b[0;32mis\u001b[0m \u001b[0;32mnot\u001b[0m \u001b[0;32mNone\u001b[0m\u001b[0;34m\u001b[0m\u001b[0;34m\u001b[0m\u001b[0m\n\u001b[1;32m    923\u001b[0m \u001b[0;34m\u001b[0m\u001b[0m\n\u001b[0;32m--> 924\u001b[0;31m             \u001b[0;32mwhile\u001b[0m \u001b[0mself\u001b[0m\u001b[0;34m.\u001b[0m\u001b[0mdispatch_one_batch\u001b[0m\u001b[0;34m(\u001b[0m\u001b[0miterator\u001b[0m\u001b[0;34m)\u001b[0m\u001b[0;34m:\u001b[0m\u001b[0;34m\u001b[0m\u001b[0;34m\u001b[0m\u001b[0m\n\u001b[0m\u001b[1;32m    925\u001b[0m                 \u001b[0;32mpass\u001b[0m\u001b[0;34m\u001b[0m\u001b[0;34m\u001b[0m\u001b[0m\n\u001b[1;32m    926\u001b[0m \u001b[0;34m\u001b[0m\u001b[0m\n",
      "\u001b[0;32m/opt/conda/lib/python3.7/site-packages/joblib/parallel.py\u001b[0m in \u001b[0;36mdispatch_one_batch\u001b[0;34m(self, iterator)\u001b[0m\n\u001b[1;32m    757\u001b[0m                 \u001b[0;32mreturn\u001b[0m \u001b[0;32mFalse\u001b[0m\u001b[0;34m\u001b[0m\u001b[0;34m\u001b[0m\u001b[0m\n\u001b[1;32m    758\u001b[0m             \u001b[0;32melse\u001b[0m\u001b[0;34m:\u001b[0m\u001b[0;34m\u001b[0m\u001b[0;34m\u001b[0m\u001b[0m\n\u001b[0;32m--> 759\u001b[0;31m                 \u001b[0mself\u001b[0m\u001b[0;34m.\u001b[0m\u001b[0m_dispatch\u001b[0m\u001b[0;34m(\u001b[0m\u001b[0mtasks\u001b[0m\u001b[0;34m)\u001b[0m\u001b[0;34m\u001b[0m\u001b[0;34m\u001b[0m\u001b[0m\n\u001b[0m\u001b[1;32m    760\u001b[0m                 \u001b[0;32mreturn\u001b[0m \u001b[0;32mTrue\u001b[0m\u001b[0;34m\u001b[0m\u001b[0;34m\u001b[0m\u001b[0m\n\u001b[1;32m    761\u001b[0m \u001b[0;34m\u001b[0m\u001b[0m\n",
      "\u001b[0;32m/opt/conda/lib/python3.7/site-packages/joblib/parallel.py\u001b[0m in \u001b[0;36m_dispatch\u001b[0;34m(self, batch)\u001b[0m\n\u001b[1;32m    714\u001b[0m         \u001b[0;32mwith\u001b[0m \u001b[0mself\u001b[0m\u001b[0;34m.\u001b[0m\u001b[0m_lock\u001b[0m\u001b[0;34m:\u001b[0m\u001b[0;34m\u001b[0m\u001b[0;34m\u001b[0m\u001b[0m\n\u001b[1;32m    715\u001b[0m             \u001b[0mjob_idx\u001b[0m \u001b[0;34m=\u001b[0m \u001b[0mlen\u001b[0m\u001b[0;34m(\u001b[0m\u001b[0mself\u001b[0m\u001b[0;34m.\u001b[0m\u001b[0m_jobs\u001b[0m\u001b[0;34m)\u001b[0m\u001b[0;34m\u001b[0m\u001b[0;34m\u001b[0m\u001b[0m\n\u001b[0;32m--> 716\u001b[0;31m             \u001b[0mjob\u001b[0m \u001b[0;34m=\u001b[0m \u001b[0mself\u001b[0m\u001b[0;34m.\u001b[0m\u001b[0m_backend\u001b[0m\u001b[0;34m.\u001b[0m\u001b[0mapply_async\u001b[0m\u001b[0;34m(\u001b[0m\u001b[0mbatch\u001b[0m\u001b[0;34m,\u001b[0m \u001b[0mcallback\u001b[0m\u001b[0;34m=\u001b[0m\u001b[0mcb\u001b[0m\u001b[0;34m)\u001b[0m\u001b[0;34m\u001b[0m\u001b[0;34m\u001b[0m\u001b[0m\n\u001b[0m\u001b[1;32m    717\u001b[0m             \u001b[0;31m# A job can complete so quickly than its callback is\u001b[0m\u001b[0;34m\u001b[0m\u001b[0;34m\u001b[0m\u001b[0;34m\u001b[0m\u001b[0m\n\u001b[1;32m    718\u001b[0m             \u001b[0;31m# called before we get here, causing self._jobs to\u001b[0m\u001b[0;34m\u001b[0m\u001b[0;34m\u001b[0m\u001b[0;34m\u001b[0m\u001b[0m\n",
      "\u001b[0;32m/opt/conda/lib/python3.7/site-packages/joblib/_parallel_backends.py\u001b[0m in \u001b[0;36mapply_async\u001b[0;34m(self, func, callback)\u001b[0m\n\u001b[1;32m    180\u001b[0m     \u001b[0;32mdef\u001b[0m \u001b[0mapply_async\u001b[0m\u001b[0;34m(\u001b[0m\u001b[0mself\u001b[0m\u001b[0;34m,\u001b[0m \u001b[0mfunc\u001b[0m\u001b[0;34m,\u001b[0m \u001b[0mcallback\u001b[0m\u001b[0;34m=\u001b[0m\u001b[0;32mNone\u001b[0m\u001b[0;34m)\u001b[0m\u001b[0;34m:\u001b[0m\u001b[0;34m\u001b[0m\u001b[0;34m\u001b[0m\u001b[0m\n\u001b[1;32m    181\u001b[0m         \u001b[0;34m\"\"\"Schedule a func to be run\"\"\"\u001b[0m\u001b[0;34m\u001b[0m\u001b[0;34m\u001b[0m\u001b[0m\n\u001b[0;32m--> 182\u001b[0;31m         \u001b[0mresult\u001b[0m \u001b[0;34m=\u001b[0m \u001b[0mImmediateResult\u001b[0m\u001b[0;34m(\u001b[0m\u001b[0mfunc\u001b[0m\u001b[0;34m)\u001b[0m\u001b[0;34m\u001b[0m\u001b[0;34m\u001b[0m\u001b[0m\n\u001b[0m\u001b[1;32m    183\u001b[0m         \u001b[0;32mif\u001b[0m \u001b[0mcallback\u001b[0m\u001b[0;34m:\u001b[0m\u001b[0;34m\u001b[0m\u001b[0;34m\u001b[0m\u001b[0m\n\u001b[1;32m    184\u001b[0m             \u001b[0mcallback\u001b[0m\u001b[0;34m(\u001b[0m\u001b[0mresult\u001b[0m\u001b[0;34m)\u001b[0m\u001b[0;34m\u001b[0m\u001b[0;34m\u001b[0m\u001b[0m\n",
      "\u001b[0;32m/opt/conda/lib/python3.7/site-packages/joblib/_parallel_backends.py\u001b[0m in \u001b[0;36m__init__\u001b[0;34m(self, batch)\u001b[0m\n\u001b[1;32m    547\u001b[0m         \u001b[0;31m# Don't delay the application, to avoid keeping the input\u001b[0m\u001b[0;34m\u001b[0m\u001b[0;34m\u001b[0m\u001b[0;34m\u001b[0m\u001b[0m\n\u001b[1;32m    548\u001b[0m         \u001b[0;31m# arguments in memory\u001b[0m\u001b[0;34m\u001b[0m\u001b[0;34m\u001b[0m\u001b[0;34m\u001b[0m\u001b[0m\n\u001b[0;32m--> 549\u001b[0;31m         \u001b[0mself\u001b[0m\u001b[0;34m.\u001b[0m\u001b[0mresults\u001b[0m \u001b[0;34m=\u001b[0m \u001b[0mbatch\u001b[0m\u001b[0;34m(\u001b[0m\u001b[0;34m)\u001b[0m\u001b[0;34m\u001b[0m\u001b[0;34m\u001b[0m\u001b[0m\n\u001b[0m\u001b[1;32m    550\u001b[0m \u001b[0;34m\u001b[0m\u001b[0m\n\u001b[1;32m    551\u001b[0m     \u001b[0;32mdef\u001b[0m \u001b[0mget\u001b[0m\u001b[0;34m(\u001b[0m\u001b[0mself\u001b[0m\u001b[0;34m)\u001b[0m\u001b[0;34m:\u001b[0m\u001b[0;34m\u001b[0m\u001b[0;34m\u001b[0m\u001b[0m\n",
      "\u001b[0;32m/opt/conda/lib/python3.7/site-packages/joblib/parallel.py\u001b[0m in \u001b[0;36m__call__\u001b[0;34m(self)\u001b[0m\n\u001b[1;32m    223\u001b[0m         \u001b[0;32mwith\u001b[0m \u001b[0mparallel_backend\u001b[0m\u001b[0;34m(\u001b[0m\u001b[0mself\u001b[0m\u001b[0;34m.\u001b[0m\u001b[0m_backend\u001b[0m\u001b[0;34m,\u001b[0m \u001b[0mn_jobs\u001b[0m\u001b[0;34m=\u001b[0m\u001b[0mself\u001b[0m\u001b[0;34m.\u001b[0m\u001b[0m_n_jobs\u001b[0m\u001b[0;34m)\u001b[0m\u001b[0;34m:\u001b[0m\u001b[0;34m\u001b[0m\u001b[0;34m\u001b[0m\u001b[0m\n\u001b[1;32m    224\u001b[0m             return [func(*args, **kwargs)\n\u001b[0;32m--> 225\u001b[0;31m                     for func, args, kwargs in self.items]\n\u001b[0m\u001b[1;32m    226\u001b[0m \u001b[0;34m\u001b[0m\u001b[0m\n\u001b[1;32m    227\u001b[0m     \u001b[0;32mdef\u001b[0m \u001b[0m__len__\u001b[0m\u001b[0;34m(\u001b[0m\u001b[0mself\u001b[0m\u001b[0;34m)\u001b[0m\u001b[0;34m:\u001b[0m\u001b[0;34m\u001b[0m\u001b[0;34m\u001b[0m\u001b[0m\n",
      "\u001b[0;32m/opt/conda/lib/python3.7/site-packages/joblib/parallel.py\u001b[0m in \u001b[0;36m<listcomp>\u001b[0;34m(.0)\u001b[0m\n\u001b[1;32m    223\u001b[0m         \u001b[0;32mwith\u001b[0m \u001b[0mparallel_backend\u001b[0m\u001b[0;34m(\u001b[0m\u001b[0mself\u001b[0m\u001b[0;34m.\u001b[0m\u001b[0m_backend\u001b[0m\u001b[0;34m,\u001b[0m \u001b[0mn_jobs\u001b[0m\u001b[0;34m=\u001b[0m\u001b[0mself\u001b[0m\u001b[0;34m.\u001b[0m\u001b[0m_n_jobs\u001b[0m\u001b[0;34m)\u001b[0m\u001b[0;34m:\u001b[0m\u001b[0;34m\u001b[0m\u001b[0;34m\u001b[0m\u001b[0m\n\u001b[1;32m    224\u001b[0m             return [func(*args, **kwargs)\n\u001b[0;32m--> 225\u001b[0;31m                     for func, args, kwargs in self.items]\n\u001b[0m\u001b[1;32m    226\u001b[0m \u001b[0;34m\u001b[0m\u001b[0m\n\u001b[1;32m    227\u001b[0m     \u001b[0;32mdef\u001b[0m \u001b[0m__len__\u001b[0m\u001b[0;34m(\u001b[0m\u001b[0mself\u001b[0m\u001b[0;34m)\u001b[0m\u001b[0;34m:\u001b[0m\u001b[0;34m\u001b[0m\u001b[0;34m\u001b[0m\u001b[0m\n",
      "\u001b[0;32m/opt/conda/lib/python3.7/site-packages/sklearn/model_selection/_validation.py\u001b[0m in \u001b[0;36m_fit_and_score\u001b[0;34m(estimator, X, y, scorer, train, test, verbose, parameters, fit_params, return_train_score, return_parameters, return_n_test_samples, return_times, return_estimator, error_score)\u001b[0m\n\u001b[1;32m    514\u001b[0m             \u001b[0mestimator\u001b[0m\u001b[0;34m.\u001b[0m\u001b[0mfit\u001b[0m\u001b[0;34m(\u001b[0m\u001b[0mX_train\u001b[0m\u001b[0;34m,\u001b[0m \u001b[0;34m**\u001b[0m\u001b[0mfit_params\u001b[0m\u001b[0;34m)\u001b[0m\u001b[0;34m\u001b[0m\u001b[0;34m\u001b[0m\u001b[0m\n\u001b[1;32m    515\u001b[0m         \u001b[0;32melse\u001b[0m\u001b[0;34m:\u001b[0m\u001b[0;34m\u001b[0m\u001b[0;34m\u001b[0m\u001b[0m\n\u001b[0;32m--> 516\u001b[0;31m             \u001b[0mestimator\u001b[0m\u001b[0;34m.\u001b[0m\u001b[0mfit\u001b[0m\u001b[0;34m(\u001b[0m\u001b[0mX_train\u001b[0m\u001b[0;34m,\u001b[0m \u001b[0my_train\u001b[0m\u001b[0;34m,\u001b[0m \u001b[0;34m**\u001b[0m\u001b[0mfit_params\u001b[0m\u001b[0;34m)\u001b[0m\u001b[0;34m\u001b[0m\u001b[0;34m\u001b[0m\u001b[0m\n\u001b[0m\u001b[1;32m    517\u001b[0m \u001b[0;34m\u001b[0m\u001b[0m\n\u001b[1;32m    518\u001b[0m     \u001b[0;32mexcept\u001b[0m \u001b[0mException\u001b[0m \u001b[0;32mas\u001b[0m \u001b[0me\u001b[0m\u001b[0;34m:\u001b[0m\u001b[0;34m\u001b[0m\u001b[0;34m\u001b[0m\u001b[0m\n",
      "\u001b[0;32m/opt/conda/lib/python3.7/site-packages/sklearn/pipeline.py\u001b[0m in \u001b[0;36mfit\u001b[0;34m(self, X, y, **fit_params)\u001b[0m\n\u001b[1;32m    354\u001b[0m                                  self._log_message(len(self.steps) - 1)):\n\u001b[1;32m    355\u001b[0m             \u001b[0;32mif\u001b[0m \u001b[0mself\u001b[0m\u001b[0;34m.\u001b[0m\u001b[0m_final_estimator\u001b[0m \u001b[0;34m!=\u001b[0m \u001b[0;34m'passthrough'\u001b[0m\u001b[0;34m:\u001b[0m\u001b[0;34m\u001b[0m\u001b[0;34m\u001b[0m\u001b[0m\n\u001b[0;32m--> 356\u001b[0;31m                 \u001b[0mself\u001b[0m\u001b[0;34m.\u001b[0m\u001b[0m_final_estimator\u001b[0m\u001b[0;34m.\u001b[0m\u001b[0mfit\u001b[0m\u001b[0;34m(\u001b[0m\u001b[0mXt\u001b[0m\u001b[0;34m,\u001b[0m \u001b[0my\u001b[0m\u001b[0;34m,\u001b[0m \u001b[0;34m**\u001b[0m\u001b[0mfit_params\u001b[0m\u001b[0;34m)\u001b[0m\u001b[0;34m\u001b[0m\u001b[0;34m\u001b[0m\u001b[0m\n\u001b[0m\u001b[1;32m    357\u001b[0m         \u001b[0;32mreturn\u001b[0m \u001b[0mself\u001b[0m\u001b[0;34m\u001b[0m\u001b[0;34m\u001b[0m\u001b[0m\n\u001b[1;32m    358\u001b[0m \u001b[0;34m\u001b[0m\u001b[0m\n",
      "\u001b[0;32m/opt/conda/lib/python3.7/site-packages/sklearn/svm/base.py\u001b[0m in \u001b[0;36mfit\u001b[0;34m(self, X, y, sample_weight)\u001b[0m\n\u001b[1;32m    207\u001b[0m \u001b[0;34m\u001b[0m\u001b[0m\n\u001b[1;32m    208\u001b[0m         \u001b[0mseed\u001b[0m \u001b[0;34m=\u001b[0m \u001b[0mrnd\u001b[0m\u001b[0;34m.\u001b[0m\u001b[0mrandint\u001b[0m\u001b[0;34m(\u001b[0m\u001b[0mnp\u001b[0m\u001b[0;34m.\u001b[0m\u001b[0miinfo\u001b[0m\u001b[0;34m(\u001b[0m\u001b[0;34m'i'\u001b[0m\u001b[0;34m)\u001b[0m\u001b[0;34m.\u001b[0m\u001b[0mmax\u001b[0m\u001b[0;34m)\u001b[0m\u001b[0;34m\u001b[0m\u001b[0;34m\u001b[0m\u001b[0m\n\u001b[0;32m--> 209\u001b[0;31m         \u001b[0mfit\u001b[0m\u001b[0;34m(\u001b[0m\u001b[0mX\u001b[0m\u001b[0;34m,\u001b[0m \u001b[0my\u001b[0m\u001b[0;34m,\u001b[0m \u001b[0msample_weight\u001b[0m\u001b[0;34m,\u001b[0m \u001b[0msolver_type\u001b[0m\u001b[0;34m,\u001b[0m \u001b[0mkernel\u001b[0m\u001b[0;34m,\u001b[0m \u001b[0mrandom_seed\u001b[0m\u001b[0;34m=\u001b[0m\u001b[0mseed\u001b[0m\u001b[0;34m)\u001b[0m\u001b[0;34m\u001b[0m\u001b[0;34m\u001b[0m\u001b[0m\n\u001b[0m\u001b[1;32m    210\u001b[0m         \u001b[0;31m# see comment on the other call to np.iinfo in this file\u001b[0m\u001b[0;34m\u001b[0m\u001b[0;34m\u001b[0m\u001b[0;34m\u001b[0m\u001b[0m\n\u001b[1;32m    211\u001b[0m \u001b[0;34m\u001b[0m\u001b[0m\n",
      "\u001b[0;32m/opt/conda/lib/python3.7/site-packages/sklearn/svm/base.py\u001b[0m in \u001b[0;36m_dense_fit\u001b[0;34m(self, X, y, sample_weight, solver_type, kernel, random_seed)\u001b[0m\n\u001b[1;32m    266\u001b[0m                 \u001b[0mcache_size\u001b[0m\u001b[0;34m=\u001b[0m\u001b[0mself\u001b[0m\u001b[0;34m.\u001b[0m\u001b[0mcache_size\u001b[0m\u001b[0;34m,\u001b[0m \u001b[0mcoef0\u001b[0m\u001b[0;34m=\u001b[0m\u001b[0mself\u001b[0m\u001b[0;34m.\u001b[0m\u001b[0mcoef0\u001b[0m\u001b[0;34m,\u001b[0m\u001b[0;34m\u001b[0m\u001b[0;34m\u001b[0m\u001b[0m\n\u001b[1;32m    267\u001b[0m                 \u001b[0mgamma\u001b[0m\u001b[0;34m=\u001b[0m\u001b[0mself\u001b[0m\u001b[0;34m.\u001b[0m\u001b[0m_gamma\u001b[0m\u001b[0;34m,\u001b[0m \u001b[0mepsilon\u001b[0m\u001b[0;34m=\u001b[0m\u001b[0mself\u001b[0m\u001b[0;34m.\u001b[0m\u001b[0mepsilon\u001b[0m\u001b[0;34m,\u001b[0m\u001b[0;34m\u001b[0m\u001b[0;34m\u001b[0m\u001b[0m\n\u001b[0;32m--> 268\u001b[0;31m                 max_iter=self.max_iter, random_seed=random_seed)\n\u001b[0m\u001b[1;32m    269\u001b[0m \u001b[0;34m\u001b[0m\u001b[0m\n\u001b[1;32m    270\u001b[0m         \u001b[0mself\u001b[0m\u001b[0;34m.\u001b[0m\u001b[0m_warn_from_fit_status\u001b[0m\u001b[0;34m(\u001b[0m\u001b[0;34m)\u001b[0m\u001b[0;34m\u001b[0m\u001b[0;34m\u001b[0m\u001b[0m\n",
      "\u001b[0;31mKeyboardInterrupt\u001b[0m: "
     ]
    }
   ],
   "source": [
    "grid, score = ML_pipeline_kfold_SVC(df,y,55,5)\n",
    "results_svc = pd.DataFrame(grid.cv_results_)\n",
    "print('CV accuracy', np.around(results_svc[results_svc['rank_test_score']==1]['mean_test_score'].values[0],2), '+/-',np.around(results_svc[results_svc['rank_test_score']==1]['std_test_score'].values[0],2))"
   ]
  },
  {
   "cell_type": "code",
   "execution_count": null,
   "metadata": {},
   "outputs": [],
   "source": [
    "accuracies_SVC= []\n",
    "for i in range(5):\n",
    "    grid, score = ML_pipeline_kfold_SVC(df,y,i,5)\n",
    "    accuracies_SVC.append(score)\n",
    "    print(grid.best_params_)\n",
    "print('Test Accuracy', np.around(np.mean(accuracies_SVC),2), '+/-', np.around(np.std(accuracies_SVC),2)) \n"
   ]
  },
  {
   "cell_type": "code",
   "execution_count": null,
   "metadata": {},
   "outputs": [],
   "source": []
  },
  {
   "cell_type": "code",
   "execution_count": null,
   "metadata": {},
   "outputs": [],
   "source": [
    "#find versions of packages for readme\n",
    "\n",
    "import matplotlib\n",
    "import numpy as np\n",
    "import sklearn\n",
    "\n",
    "\n",
    "print(sklearn.__version__)\n",
    "print(matplotlib.__version__)\n",
    "print(np.__version__)"
   ]
  },
  {
   "cell_type": "markdown",
   "metadata": {},
   "source": [
    "Code for EDA figures for midterm presentation"
   ]
  },
  {
   "cell_type": "code",
   "execution_count": 185,
   "metadata": {},
   "outputs": [
    {
     "data": {
      "text/plain": [
       "1. Yes      3154\n",
       "NaN          787\n",
       "3. No        298\n",
       "2. Maybe     122\n",
       "Name: F_REG_FINAL, dtype: int64"
      ]
     },
     "execution_count": 185,
     "metadata": {},
     "output_type": "execute_result"
    }
   ],
   "source": [
    "df2.F_REG_FINAL.replace((999), ((np.NaN)), inplace=True)\n",
    "df2.F_REG_FINAL.replace((1, 2, 3), (('1. Yes', '2. Maybe', '3. No')), inplace=True)\n",
    "\n",
    "\n",
    "df2[\"F_REG_FINAL\"].value_counts(dropna = False)"
   ]
  },
  {
   "cell_type": "code",
   "execution_count": 155,
   "metadata": {
    "jupyter": {
     "source_hidden": true
    }
   },
   "outputs": [
    {
     "name": "stdout",
     "output_type": "stream",
     "text": [
      "SM10B_W35    1.0    2.0    999.0\n",
      "F_REG_FINAL                     \n",
      "1. Yes         420   2539    195\n",
      "2. Maybe        27     94      1\n",
      "3. No           68    216     14\n",
      "SM10B_W35       1.0       2.0       999.0\n",
      "F_REG_FINAL                              \n",
      "1. Yes       0.133164  0.805010  0.061826\n",
      "2. Maybe     0.221311  0.770492  0.008197\n",
      "3. No        0.228188  0.724832  0.046980\n"
     ]
    },
    {
     "data": {
      "image/png": "[encoded data removed]",
      "text/plain": [
       "<Figure size 432x288 with 1 Axes>"
      ]
     },
     "metadata": {
      "needs_background": "light"
     },
     "output_type": "display_data"
    },
    {
     "data": {
      "image/png": "[encoded data removed]",
      "text/plain": [
       "<Figure size 432x288 with 1 Axes>"
      ]
     },
     "metadata": {
      "needs_background": "light"
     },
     "output_type": "display_data"
    }
   ],
   "source": [
    "from matplotlib import pylab as plt\n",
    "\n",
    "\n",
    "\n",
    "count_matrix = df2.groupby(['F_REG_FINAL', 'SM10B_W35']).size().unstack()\n",
    "print(count_matrix)\n",
    "\n",
    "count_matrix_norm = count_matrix.div(count_matrix.sum(axis=1),axis=0)\n",
    "print(count_matrix_norm)\n",
    "\n",
    "\n",
    "count_matrix_norm.plot(kind='bar', stacked=True)\n",
    "plt.ylabel('Fraction of respondents')\n",
    "plt.xlabel('Self-reported voter registration')\n",
    "plt.legend(['Posted', 'Did not post', 'Non-user'], loc=5)\n",
    "plt.xticks(rotation=0)\n",
    "plt.title(\"Voter Registration and Posting, Normalized\")\n",
    "plt.savefig('stacked_bar_norm.png',dpi=300)\n",
    "plt.show()\n",
    "\n",
    "count_matrix.plot(kind='bar', stacked=True)\n",
    "plt.ylabel('Number of respondents')\n",
    "plt.xlabel('Self-reported voter registration')\n",
    "plt.legend(['Posted', 'Did not post', 'Non-user'], loc=5)\n",
    "plt.xticks(rotation=0)\n",
    "plt.title(\"Voter Registration and Posting, Counts\")\n",
    "plt.savefig('stacked_bar_count.png',dpi=300)\n",
    "plt.show()"
   ]
  },
  {
   "cell_type": "code",
   "execution_count": 158,
   "metadata": {
    "collapsed": true,
    "jupyter": {
     "outputs_hidden": true
    }
   },
   "outputs": [
    {
     "data": {
      "image/png": "[encoded data removed]",
      "text/plain": [
       "<Figure size 432x288 with 1 Axes>"
      ]
     },
     "metadata": {
      "needs_background": "light"
     },
     "output_type": "display_data"
    }
   ],
   "source": [
    "#drop age non-responses\n",
    "df2.F_AGECAT_FINAL.replace((999), ((np.NaN)), inplace=True)\n",
    "#label the target variable for the x axis \n",
    "df2.SM10B_W35.replace((1, 2, 999), (('1 - Posted', '2 - Did not post', '3 - Non-user' )), inplace=True)\n",
    "\n",
    "\n",
    "from matplotlib import axes as ax\n",
    "from matplotlib import pylab as plt\n",
    "df2[['F_AGECAT_FINAL','SM10B_W35']].boxplot(by='SM10B_W35')\n",
    "plt.ylabel('Age Category')\n",
    "plt.xlabel('Posted about Politics')\n",
    "plt.title('Posting about Politics by Age')\n",
    "plt.suptitle(\"\")\n",
    "#plt.xticklabels(['Yes', 'No', 'Non-user'])\n",
    "plt.savefig('boxplot_age.png',dpi=300)\n",
    "plt.show()"
   ]
  },
  {
   "cell_type": "code",
   "execution_count": 159,
   "metadata": {},
   "outputs": [
    {
     "data": {
      "image/png": "[encoded data removed]",
      "text/plain": [
       "<Figure size 432x288 with 1 Axes>"
      ]
     },
     "metadata": {
      "needs_background": "light"
     },
     "output_type": "display_data"
    }
   ],
   "source": [
    "#reverse the coding so higher number = more trust\n",
    "\n",
    "df2.TC2A_W35.replace((1), (9), inplace=True)\n",
    "df2.TC2A_W35.replace((2), (8), inplace=True)\n",
    "df2.TC2A_W35.replace((3), (7), inplace=True)\n",
    "df2.TC2A_W35.replace((4), (6), inplace=True)\n",
    "\n",
    "df2.TC2A_W35.replace((9), (4), inplace=True)\n",
    "df2.TC2A_W35.replace((8), (3), inplace=True)\n",
    "df2.TC2A_W35.replace((7), (2), inplace=True)\n",
    "df2.TC2A_W35.replace((6), (1), inplace=True)\n",
    "\n",
    "\n",
    "df2[['TC2A_W35','SM10B_W35']].boxplot(by='SM10B_W35')\n",
    "plt.ylabel('Trust in Tech Companies')\n",
    "plt.xlabel('Posted about Politics')\n",
    "plt.title('Posting about Politics by Trust in Tech Companies')\n",
    "plt.suptitle(\"\")\n",
    "#plt.xticklabels(['Yes', 'No', 'Non-user'])\n",
    "plt.savefig('boxplot_trust.png',dpi=300)\n",
    "plt.show()\n",
    "\n",
    "\n"
   ]
  },
  {
   "cell_type": "code",
   "execution_count": 19,
   "metadata": {},
   "outputs": [
    {
     "name": "stderr",
     "output_type": "stream",
     "text": [
      "/opt/conda/lib/python3.7/site-packages/numpy/lib/histograms.py:829: RuntimeWarning: invalid value encountered in greater_equal\n",
      "  keep = (tmp_a >= first_edge)\n",
      "/opt/conda/lib/python3.7/site-packages/numpy/lib/histograms.py:830: RuntimeWarning: invalid value encountered in less_equal\n",
      "  keep &= (tmp_a <= last_edge)\n"
     ]
    },
    {
     "data": {
      "image/png": "[encoded data removed]",
      "text/plain": [
       "<Figure size 460.8x345.6 with 1 Axes>"
      ]
     },
     "metadata": {
      "needs_background": "light"
     },
     "output_type": "display_data"
    }
   ],
   "source": []
  },
  {
   "cell_type": "code",
   "execution_count": 21,
   "metadata": {},
   "outputs": [
    {
     "data": {
      "image/png": "[encoded data removed]",
      "text/plain": [
       "<Figure size 432x288 with 1 Axes>"
      ]
     },
     "metadata": {
      "needs_background": "light"
     },
     "output_type": "display_data"
    }
   ],
   "source": [
    "categories = df2['SM10B_W35'].unique()\n",
    "bin_range = (df2['TC2A_W35'].min(),df2['TC2A_W35'].max())\n",
    "\n",
    "for c in categories:\n",
    "    plt.hist(df2[df2['SM10B_W35']==c]['TC2A_W35'],alpha=0.5,label=c,range=bin_range,bins=50)\n",
    "plt.legend()\n",
    "plt.ylabel('count')\n",
    "plt.xlabel('SalePrice')\n",
    "plt.tight_layout()\n",
    "#plt.savefig('figures/histo.png',dpi=300)\n",
    "plt.show()\n"
   ]
  },
  {
   "cell_type": "code",
   "execution_count": 187,
   "metadata": {},
   "outputs": [
    {
     "data": {
      "text/plain": [
       "2.0    1153\n",
       "3.0    1114\n",
       "4.0     923\n",
       "NaN     762\n",
       "1.0     409\n",
       "Name: F_AGECAT_FINAL, dtype: int64"
      ]
     },
     "execution_count": 187,
     "metadata": {},
     "output_type": "execute_result"
    }
   ],
   "source": [
    "df2.replace((999), (np.NaN), inplace=True)\n",
    "\n",
    "df2.SNSB_W35.replace(0, 2, inplace=True)\n",
    "df2[\"SNSB_W35\"].value_counts(dropna = False)\n",
    "\n",
    "df2.SNSE_W35.replace(0, 2, inplace=True)\n",
    "df2[\"SNSE_W35\"].value_counts(dropna = False)\n",
    "\n",
    "df2[\"F_AGECAT_FINAL\"].value_counts(dropna = False)\n"
   ]
  },
  {
   "cell_type": "code",
   "execution_count": 172,
   "metadata": {
    "collapsed": true,
    "jupyter": {
     "outputs_hidden": true
    }
   },
   "outputs": [
    {
     "data": {
      "image/png": "[encoded data removed]",
      "text/plain": [
       "<Figure size 1368x1080 with 2 Axes>"
      ]
     },
     "metadata": {
      "needs_background": "light"
     },
     "output_type": "display_data"
    }
   ],
   "source": [
    "#rename columns for cleaner corr mat\n",
    "\n",
    "df2.rename(columns={'SM10B_W35': 'Posted','SM12B_W35':'Politics_issues', 'SM12C_W35':'Politics_express','SM12A_W35':'Politics_others', 'SNSB_W35':'Twitter', 'SNSE_W35': 'Instagram', 'SM13C_W35':'Social_Mvts', 'FB2_W35':'FB_interesting', 'F_AGECAT_FINAL':'Age', 'SM9C_W35':'Imp_Issues'}, inplace=True)\n",
    "\n",
    "from matplotlib import pylab as plt\n",
    "corrmat = df2.corr()\n",
    "\n",
    "all_cols = np.abs(corrmat).sort_values('Posted',ascending=False)['Posted'].index \n",
    "cols = all_cols[:10] \n",
    "\n",
    "cm = corrmat.loc[cols,cols]\n",
    "\n",
    "plt.figure(figsize=(19,15))\n",
    "plt.matshow(cm,vmin=-1,vmax=1,cmap='seismic',fignum=0)\n",
    "plt.colorbar(label='corr. coeff.')\n",
    "plt.xticks(np.arange(cm.shape[0]),list(cols),fontsize=25, rotation=90)\n",
    "plt.yticks(np.arange(cm.shape[0]), list(cols), fontsize=25)\n",
    "plt.tight_layout()\n",
    "#plt.title(\"Correlation Matrix\")\n",
    "plt.savefig('corr_coeff_FINAL.png',dpi=300)\n",
    "plt.show()"
   ]
  },
  {
   "cell_type": "code",
   "execution_count": null,
   "metadata": {},
   "outputs": [],
   "source": []
  }
 ],
 "metadata": {
  "kernelspec": {
   "display_name": "Python 3",
   "language": "python",
   "name": "python3"
  },
  "language_info": {
   "codemirror_mode": {
    "name": "ipython",
    "version": 3
   },
   "file_extension": ".py",
   "mimetype": "text/x-python",
   "name": "python",
   "nbconvert_exporter": "python",
   "pygments_lexer": "ipython3",
   "version": "3.7.3"
  }
 },
 "nbformat": 4,
 "nbformat_minor": 4
}
