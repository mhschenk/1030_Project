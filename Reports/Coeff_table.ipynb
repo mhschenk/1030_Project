{
 "cells": [
  {
   "cell_type": "markdown",
   "metadata": {},
   "source": [
    "| Variable Name  | Variable Description                                                                                                                                                                                                                               | Coefficient |\n",
    "|----------------|----------------------------------------------------------------------------------------------------------------------------------------------------------------------------------------------------------------------------------------------------|-------------|\n",
    "| SM12B_W35      | How important, if at all, is social media to you<br>PERSONALLY when it comes to...Getting involved with <br>political or social issues that<br>are important to you                                                                                | -0.0217     |\n",
    "| SM12C_W35      | How important, if at all, is social media to you <br>PERSONALLY when it comes to...Giving you a venue to <br>express your political opinions                                                                                                       | -0.0216     |\n",
    "| SM12A_W35      | How important, if at all, is social media to you PERSONALLY <br>when it comes to...Finding other people who share your <br>views about important issues                                                                                            | -0.0195     |\n",
    "| LANGUAGE_W35   | Language survey was conducted in                                                                                                                                                                                                                   | -0.0124     |\n",
    "| SM13C_W35      | In general, how important, if at all, do you think social <br>media is today when it comes to... Creating sustained <br>movements for social change                                                                                                | -0.0123     |\n",
    "| SM10D_W35      | Have you done any of the following activities on social media <br>in the past year? Encouraged others to take action on issues that <br>are important to you                                                                                       | -0.0118     |\n",
    "| F_AGECAT_FINAL | Age category of respondent                                                                                                                                                                                                                         | -0.0109     |\n",
    "| SM9C_W35       | How well do you think each of the following statements <br>describes social media? Social media highlights important <br>issues that might not get a lot of attention otherwise                                                                    | -0.0106     |\n",
    "| SM10E_W35      | Have you done any of the following activities on social media in <br>the past year? Looked for information about rallies or protests<br>happening in your area                                                                                     | -0.0105     |\n",
    "| SM14A_W35      | Thinking about the content you SEE on social media, approximately <br>how much content would you say is about...Race or race relations                                                                                                             | -0.0101     |\n",
    "| SM10C_W35      | Have you done any of the following activities on social media in the <br>past year? Taken part in a group that shares an interest in an issue <br>or cause                                                                                         | -0.0098     |\n",
    "| SM13A_W35      | In general, how important, if at all, do you think social media is <br>today when it comes to...Getting elected officials to pay attention <br>to issues                                                                                           | -0.0098     |\n",
    "| SM10A_W35      | Have you done any of the following activities on social media in the <br>past year? Changed your profile picture to show your support for a cause                                                                                                  | -0.0095     |\n",
    "| SM5D_W35       | How acceptable, if at all, do you think it is for social media sites <br>to use data about you and your online activities to...Show you <br>messages from political campaigns                                                                      | -0.0094     |\n",
    "| SM13B_W35      | In general, how important, if at all, do you think social media is <br>today when it comes to...Influencing policy decisions                                                                                                                       | -0.0091     |\n",
    "| SM14D_W35      | Thinking about the content you SEE on social media, approximately how <br>much content would you say is about...Immigration                                                                                                                        | -0.0090     |\n",
    "| SM5C_W35       | How acceptable, if at all, do you think it is for social media sites <br>to use data about you and your online activities to...Recommend someone <br>you might want to know as a friend                                                            | -0.0090     |\n",
    "| SM1E_W35       | How often, if ever, do you see/hear about content on social media that <br>makes you feel...Connected                                                                                                                                              | -0.0090     |\n",
    "| SM1F_W35       | How often, if ever, do you see/hear about content on social media that <br>makes you feel...Lonely                                                                                                                                                 | -0.0088     |\n",
    "| SM9D_W35       | Now thinking specifically about some of the ways that people use social <br>media to engage with political or social issues that are important to them...<br>Social media makes it easier to hold powerful people<br>accountable for their actions | -0.0088     |"
   ]
  },
  {
   "cell_type": "code",
   "execution_count": null,
   "metadata": {},
   "outputs": [],
   "source": []
  }
 ],
 "metadata": {
  "kernelspec": {
   "display_name": "Python 3",
   "language": "python",
   "name": "python3"
  },
  "language_info": {
   "codemirror_mode": {
    "name": "ipython",
    "version": 3
   },
   "file_extension": ".py",
   "mimetype": "text/x-python",
   "name": "python",
   "nbconvert_exporter": "python",
   "pygments_lexer": "ipython3",
   "version": "3.7.3"
  }
 },
 "nbformat": 4,
 "nbformat_minor": 4
}
